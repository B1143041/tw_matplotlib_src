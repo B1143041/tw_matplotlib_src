{
 "cells": [
  {
   "cell_type": "markdown",
   "metadata": {},
   "source": [
    "1. $\\iint_R (2x y) dy \\, dx,$ where $R$ is of the parallelogram are region bound by $x-2y=-2,x-2y=1,x-3y=-5, x-3y=-8$\n",
    "2. $\\iint_R \\frac{1}{(x - y)^2} dA$, where $R$ is trapezoidal bounded by the lines, $x=0,y=0,2x-y=2,2x-y=4$.\n"
   ]
  },
  {
   "cell_type": "markdown",
   "metadata": {},
   "source": [
    "3. $\\iint_R x^2 dA,$, where $R$  is region bounded by $x^{1/2}+y^{1/2}=2$\n",
    "4. $\\iint_R (x+y) dA$, where $R$  is region bounded by $(x-1)^2+y^2=1$"
   ]
  },
  {
   "cell_type": "markdown",
   "metadata": {},
   "source": [
    "5. $\\iint_R \\exp(y/x) dA,$ where $R$  is region bounded by $0\\le y\\le x\\le4$\n",
    "6. $\\iint_R \\frac{y}{1+x^2} dA,$ where $R$  is region bounded by $0\\le y\\le x\\le4$"
   ]
  },
  {
   "cell_type": "markdown",
   "metadata": {},
   "source": [
    "7. $\\iint_R (x+y) dA$, where $R$  is region bounded by $-2\\le x,y\\le4$\n",
    "8. $\\iint_R x dA$, where $R$  is region bounded by triangle with vertices $(-2,-1), (3,4), (2,-2)$"
   ]
  },
  {
   "cell_type": "markdown",
   "metadata": {},
   "source": [
    "9. $\\iint_R \\exp(-x-y) dA$, where $R$  is region bounded by $0\\le x\\le y\\le2$\n",
    "10. $\\iint_R x^2 y dA$, where $R$  is region bounded by $x^2+(y-1)^2=1$."
   ]
  },
  {
   "cell_type": "markdown",
   "metadata": {},
   "source": [
    "Calculate the following triple integrals in domain defined in 11)-14)\n",
    "$$ \\large{\\iiint_V x^2y^2 dV}$$\n",
    "\n",
    "11. [$V=\\{0\\le x\\le2,0\\le y \\le2,0 \\le z\\le 2\\}$, Rectangular-Solid](#Rectangular-Solid)\n",
    "12. [$D=\\{0\\le x\\le2,0\\le y \\le 2x\\}$, Lower Triangular Region](#Lower-Triangular-Solid)\n",
    "13. [$D=\\{0\\le y\\le1,0\\le x \\le 3y\\}$, Upper Triangular Region](#Upper-Triangular-Solid)\n",
    "14. [$D=\\{0\\le |2x+y|,|2x-y|\\le4\\}$, Diamond Region](#Diamond-Region)\n"
   ]
  },
  {
   "cell_type": "markdown",
   "metadata": {},
   "source": [
    "15. $\\iiint_V (x^2 y + 3xyz) \\, dx \\, dy \\, dz$ where $V$ is the solid bounded by $1\\le x\\le2,0\\le z\\le1, 0\\le xy\\le1$.\n",
    "16. $\\iiint_V xyze^{x^2} dV$ where $V=\\{0\\le x\\le y\\le z\\le4\\}$\n",
    "17. $\\iiint_V 3y \\, dV,$ where $V = \\{(x,y,z) |0 \\leq x \\leq 1, \\, 0 \\leq y \\leq x, \\, 0 \\leq z \\leq \\sqrt{4 - y^2}\\}$\n",
    "18. $\\iiint_Vz^2dV $ where $V=\\{|z|\\le2,0\\le x\\le z, 0\\le y\\le x-z\\}$\n",
    "19. ${\\iiint_V z\\sqrt{x^2+y^2} dV}$ where $V=\\{x^2+y^2\\le z,x^2+y^2+z^2\\le4\\}\\}$\n",
    "20. $\\iiint_V\\exp(-2x^2-xy-y^2-z^2)dV$ where $V=\\mathbb{R}^3$."
   ]
  },
  {
   "cell_type": "code",
   "execution_count": null,
   "metadata": {},
   "outputs": [],
   "source": []
  }
 ],
 "metadata": {
  "hide_input": false,
  "kernelspec": {
   "display_name": "Python 3",
   "language": "python",
   "name": "python3"
  },
  "language_info": {
   "codemirror_mode": {
    "name": "ipython",
    "version": 3
   },
   "file_extension": ".py",
   "mimetype": "text/x-python",
   "name": "python",
   "nbconvert_exporter": "python",
   "pygments_lexer": "ipython3",
   "version": "3.8.5"
  }
 },
 "nbformat": 4,
 "nbformat_minor": 4
}
