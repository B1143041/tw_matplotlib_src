{
 "cells": [
  {
   "cell_type": "markdown",
   "metadata": {},
   "source": [
    "管理數學，Mathmatics for Management\n",
    "==="
   ]
  },
  {
   "cell_type": "markdown",
   "metadata": {},
   "source": [
    "整體教學目標 Course objectives\n",
    "---\n",
    "1. Basic concepts of Math Theory and fundamental schemes of computing techniques of  Calculus\n",
    "2. Rigorous logic inclusion and training\n",
    "3. Ability of Model building and survey in realistic world.\n"
   ]
  },
  {
   "cell_type": "markdown",
   "metadata": {},
   "source": [
    "校核心能力權重\n",
    "---\n",
    "```\n",
    "a.閱讀、書寫及語言表達能力； 5%\n",
    "b.現代公民素養與理性思辨能力； 10%\n",
    "c.跨領域的知識與整合能力； 20%\n",
    "d.團隊溝通能力；\n",
    "e.自主及終身學習能力； 20%\n",
    "f.資訊分析與應用能力； 10%\n",
    "g.創意、創新、創業能力； 5%\n",
    "h.解決問題的就業能力；i.國際觀及國際競爭力) 10%\n",
    "\n",
    "```\n",
    "\n",
    "核心能力\n",
    "---\n",
    "```\n",
    "權重代號\t   權重項目\t         權重比例%\n",
    "BSA01      溝通與團隊合作之能力。      40%\n",
    "BSA02      資料分析與報告的能力。      20%\n",
    "BSA03      批判思考與問題分析能力。     20%\n",
    "BSA04      專業理論與實務應用之能力。   20%\n",
    "```"
   ]
  },
  {
   "cell_type": "markdown",
   "metadata": {},
   "source": [
    "成績考核\n",
    "---\n",
    "1. Attendancy and Practices：25%, (10%, 15% respectively)\n",
    "2. Three Tests：total 75%, each 25%"
   ]
  },
  {
   "cell_type": "markdown",
   "metadata": {},
   "source": [
    "教學進度\n",
    "---\n",
    "1. Linear Algebra Introduction, Basic Operations 板書，課後習題，教材(2-4)\n",
    "2. Inverse of the Matrix and its Application  板書，課後習題，教材(2-4)\n",
    "3. Eigenvalues and Eigenvetors of Matrix,  板書，課後習題，教材(2-4)\t \n",
    "4. Review of Linear Algebra\t板書，課後習題，教材(2-4)\n",
    "5. Quiz1 for Linear Algebra and Infinite Sequences\tIntroduction 考試，板書，課後習題，教材(2-5)\n",
    "6. Infinite Series I Convergent Rules\t板書，課後習題，教材(2-5)\n",
    "7. Infinite Series II Power series and Taylor's Series\t板書，課後習題，教材(2-5) \n",
    "8. Infinite Series III Application of infinite series   板書，課後習題，教材(2-5)\n",
    "9. Homework and Review\n",
    "10. Functions of Several Variables I, Limit and Continuity\t板書，課後習題，教材(2-6-1)\n",
    "11.\tFunctions of Several Variables II, Partial Derivatives and Differentiability 板書，課後習題，教材(2-6-2)\n",
    "12.\tFunctions of Several Variables III, Optimization without cnstraint\t板書，課後習題，教材(2-6-3)\n",
    "13.\tFunctions of Several Variables III, Optimization with cnstraint(s)  板書，課後習題，教材(2-6-3)\n",
    "14. Functions of Several Variables IV, Application for Economy (I)\t板書，課後習題，教材(2-6-3)\n",
    "15.\tQuiz 2\n",
    "16.\tFunctions of Several Variables VI, Double Integrals and Fubini's Theorem  板書，課後習題，教材(2-6-4)\n",
    "17.\tFunctions of Several Variables VII, Double Integrals on Polar Coordinates and Other Coordinates\t板書，課後習題，教材(2-6-3)\n",
    "18.\tFinal Quiz"
   ]
  },
  {
   "cell_type": "markdown",
   "metadata": {},
   "source": [
    "Lectures\n",
    "---\n",
    "1. Textbook,  Larson and Edwards: Essential Calculus , Cengage, 2014.\n",
    "2. documentation, files in data:\n",
    "```\n",
    "2-4,  Linesar-algebra .pdf\n",
    "2-5.  5_Infinite_Series .pdf\n",
    "2-6-1 6 Multi-variable Calculus-1.pdf\n",
    "2-6-2 6 Multi-variable Calculus-Differentiation-2.pdf\n",
    "2-6-3 6 Multi-variable Calculus-3.pdf\n",
    "2-6-4 6 Multi-variable Calculus_Integration.pdf\n",
    "```"
   ]
  }
 ],
 "metadata": {
  "kernelspec": {
   "display_name": "Python 3",
   "language": "python",
   "name": "python3"
  },
  "language_info": {
   "codemirror_mode": {
    "name": "ipython",
    "version": 3
   },
   "file_extension": ".py",
   "mimetype": "text/x-python",
   "name": "python",
   "nbconvert_exporter": "python",
   "pygments_lexer": "ipython3",
   "version": "3.8.5"
  }
 },
 "nbformat": 4,
 "nbformat_minor": 4
}
