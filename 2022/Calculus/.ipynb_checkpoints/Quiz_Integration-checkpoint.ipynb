{
 "cells": [
  {
   "cell_type": "code",
   "execution_count": 7,
   "metadata": {},
   "outputs": [],
   "source": [
    "from IPython.display import HTML,Latex\n",
    "from sympy import Symbol,symbols,Abs,sin,exp,integrate,pprint,sqrt,cos,exp,latex"
   ]
  },
  {
   "cell_type": "code",
   "execution_count": 41,
   "metadata": {},
   "outputs": [],
   "source": [
    "x,t,a,b,c,r,C=symbols(\"x t a b c r C\")\n",
    "r=Symbol(\"r\",positive=True)"
   ]
  },
  {
   "cell_type": "code",
   "execution_count": null,
   "metadata": {},
   "outputs": [],
   "source": []
  },
  {
   "cell_type": "code",
   "execution_count": 36,
   "metadata": {},
   "outputs": [],
   "source": [
    "def indef_int_gen(f_,t_):\n",
    "    f=integrate(f_,t_)\n",
    "    print(\"`\\int %s d%s= %s+C`\" % (f_,t_,latex(f)))"
   ]
  },
  {
   "cell_type": "code",
   "execution_count": 34,
   "metadata": {},
   "outputs": [],
   "source": [
    "def def_int_gen(f_,t_,a_,b_):\n",
    "    f=integrate(f_,(t_,a_,b_))\n",
    "    print(\"`\\int_%s^%s %s d%s= %s`\" % (a_,b_,f_,t_,latex(f)))"
   ]
  },
  {
   "cell_type": "code",
   "execution_count": 57,
   "metadata": {},
   "outputs": [
    {
     "name": "stdout",
     "output_type": "stream",
     "text": [
      "`\\int a*x + b dx= \\frac{a x^{2}}{2} + b x+C`\n"
     ]
    }
   ],
   "source": [
    "indef_int_gen((a*x+b),x)"
   ]
  },
  {
   "cell_type": "code",
   "execution_count": 58,
   "metadata": {},
   "outputs": [
    {
     "name": "stdout",
     "output_type": "stream",
     "text": [
      "`\\int a*x**r + b*x + c dx= \\frac{a x^{r + 1}}{r + 1} + \\frac{b x^{2}}{2} + c x+C`\n"
     ]
    }
   ],
   "source": [
    "indef_int_gen((a*x**r+b*x+c),x)"
   ]
  },
  {
   "cell_type": "code",
   "execution_count": 53,
   "metadata": {},
   "outputs": [
    {
     "name": "stdout",
     "output_type": "stream",
     "text": [
      "`\\int (a*x**3 + b*x)/x**2 dx= \\frac{a x^{2}}{2} + b \\log{\\left(x \\right)}+C`\n"
     ]
    }
   ],
   "source": [
    "indef_int_gen((a*x**3+b*x)/x**2,x)"
   ]
  },
  {
   "cell_type": "code",
   "execution_count": 56,
   "metadata": {},
   "outputs": [
    {
     "name": "stdout",
     "output_type": "stream",
     "text": [
      "`\\int (a*x + b/x)**2 dx= \\frac{a^{2} x^{3}}{3} + 2 a b x - \\frac{b^{2}}{x}+C`\n"
     ]
    }
   ],
   "source": [
    "indef_int_gen((a*x+b/x)**2,x)"
   ]
  },
  {
   "cell_type": "code",
   "execution_count": 56,
   "metadata": {},
   "outputs": [
    {
     "name": "stdout",
     "output_type": "stream",
     "text": [
      "`\\int (a*x + b/x)**2 dx= \\frac{a^{2} x^{3}}{3} + 2 a b x - \\frac{b^{2}}{x}+C`\n"
     ]
    }
   ],
   "source": [
    "indef_int_gen((a*x+b/x)**2,x)"
   ]
  },
  {
   "cell_type": "code",
   "execution_count": null,
   "metadata": {},
   "outputs": [],
   "source": []
  },
  {
   "cell_type": "code",
   "execution_count": 35,
   "metadata": {},
   "outputs": [
    {
     "name": "stdout",
     "output_type": "stream",
     "text": [
      "`\\int_0^1 x dx= \\frac{1}{2}`\n"
     ]
    }
   ],
   "source": [
    "def_int_gen(x,x,0,1)"
   ]
  }
 ],
 "metadata": {
  "kernelspec": {
   "display_name": "Python 3",
   "language": "python",
   "name": "python3"
  },
  "language_info": {
   "codemirror_mode": {
    "name": "ipython",
    "version": 3
   },
   "file_extension": ".py",
   "mimetype": "text/x-python",
   "name": "python",
   "nbconvert_exporter": "python",
   "pygments_lexer": "ipython3",
   "version": "3.6.9"
  }
 },
 "nbformat": 4,
 "nbformat_minor": 2
}
