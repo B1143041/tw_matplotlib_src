{
 "cells": [
  {
   "cell_type": "code",
   "execution_count": 1,
   "metadata": {
    "code_folding": [
     0
    ]
   },
   "outputs": [],
   "source": [
    "# Required packages\n",
    "from sympy import Symbol,symbols,pprint,integrate,diff,latex,limit,simplify,Matrix,Abs,Ei,Ne,solve,Function,fraction\n",
    "from sympy import pi,sqrt,sin,cos,log,tan,cot,sec,csc,exp,oo,E,tan,Piecewise,asin,atan,erf,erfc,E\n",
    "from fractions import Fraction\n",
    "\n",
    "\n",
    "# prepare for Latex Output\n",
    "from IPython.display import HTML,Latex,display,Markdown\n",
    "\n",
    "from sympy.abc import rho,theta,phi\n",
    "\n",
    "x,t,h=symbols(\"x,t,h\")"
   ]
  },
  {
   "cell_type": "code",
   "execution_count": 20,
   "metadata": {
    "code_folding": [
     0
    ]
   },
   "outputs": [],
   "source": [
    "# ChainRule_v4(f,g)\n",
    "x,u=symbols(\"x u\")\n",
    "def ChainRule_v4(f,g,var=x):\n",
    "    #u=Symbol(\"u\")\n",
    "    fu=str(diff(f,u))\n",
    "    fx=str(diff(f,u).subs({u:g}))\n",
    "    gx=str(diff(g,var))\n",
    "    fgx= str(diff(g,var)*diff(f,u).subs({u:g}))\n",
    "    gfunc=str(g)\n",
    "    ffunc0=str(f)\n",
    "    ffunc=str(f.subs({u:g}))\n",
    "    \n",
    "    text=\"\\\\begin{array}\"\n",
    "    text=text + \"&&%s&&\\color{red}{%s}\\cr \" %((latex(eval(gfunc))),(latex(eval(ffunc0))))\n",
    "    text=text+\"%s &\\\\rightarrow& \\color{red}{u}= %s&\\\\rightarrow&%s\\cr\" %(latex(var),(latex(eval(gfunc))),(latex(eval(ffunc))))\n",
    "    text=text+\"&\\downarrow&\\qquad\\searrow&\\downarrow&\\cr\" %()\n",
    "    text=text+\"&%s&\\quad\\\\times&\\color{red}{%s}&\\cr\" %((latex(eval(gx))),(latex(eval(fu))))\n",
    "    text=text+\"&&\\quad\\downarrow&&\\cr\" %()\n",
    "    text=text+\"\\Longrightarrow&\\large{\\left(%s\\\\right)}'=& \\large{%s}\\cr\" %(latex(eval(ffunc)),latex(eval(fgx)))\n",
    "\n",
    "    text=text+\"\\end{array}\"\n",
    "    return(Latex(text))\n"
   ]
  },
  {
   "cell_type": "code",
   "execution_count": 24,
   "metadata": {
    "code_folding": [
     0
    ]
   },
   "outputs": [],
   "source": [
    "# ChainRule_v43(h,f,g)\n",
    "x,u,v=symbols(\"x u v\")\n",
    "def ChainRule_v43(h,f,g,var=x):\n",
    "    \"\"\"\n",
    "    F'=[h(f(g(x)))]'\n",
    "    where\n",
    "    h=h(v)\n",
    "    f=f(u)\n",
    "    g=g(x)\n",
    "    \"\"\"\n",
    "    #u=Symbol(\"u\")\n",
    "    hv=str(diff(h,v))\n",
    "    fu=str(diff(f,u))\n",
    "    fx=str(diff(f,u).subs({u:g}))\n",
    "    gx=str(diff(g,var))\n",
    "    hfgx=str(diff(g,var)*diff(f,u).subs({u:g})*(diff(h,v).subs({v:f})).subs({u:g}))\n",
    "    gfunc=str(g)\n",
    "    ffunc0=str(f)\n",
    "    hfunc0=str(h)\n",
    "    ffunc=str(f.subs({u:g}))\n",
    "    hfunc=str((h.subs({v:f})).subs({u:g}))\n",
    "    text=\"\\\\begin{array}\"\n",
    "    text+= \"&&%s&&\\color{red}{%s} &&\\color{blue}{%s} \\cr \" %((latex(eval(gfunc))),(latex(eval(ffunc0))),(latex(eval(hfunc0))))\n",
    "    text+=\"%s &\\\\rightarrow& \\color{red}{u}= %s&\\\\rightarrow& \\color{blue}{v}=%s&\\\\rightarrow&%s\\cr \" %(latex(var),(latex(eval(gfunc))),(latex(eval(ffunc))),(latex(eval(hfunc))))\n",
    "    text+=\"&\\downarrow&\\qquad\\searrow&\\downarrow&\\qquad\\searrow&\\downarrow&\\cr\" %()\n",
    "    text+=\"&%s&\\quad\\\\times&\\color{red}{%s}&\\quad\\\\times&\\color{blue}{%s}&\\cr\" %((latex(eval(gx))),(latex(eval(fu))),(latex(eval(hv))))\n",
    "    text+=\"&&\\quad\\Downarrow&&\\cr\" %()\n",
    "    text+=\"\\Longrightarrow&\\large{\\left(%s\\\\right)}'=& \\large{%s}\\cr\" %(latex(eval(hfunc)),latex(eval(hfgx)))\n",
    "\n",
    "    text+=\"\\end{array}\"\n",
    "    return(Latex(text))\n"
   ]
  },
  {
   "cell_type": "markdown",
   "metadata": {},
   "source": [
    "# p120\n",
    "---"
   ]
  },
  {
   "cell_type": "code",
   "execution_count": 109,
   "metadata": {},
   "outputs": [
    {
     "data": {
      "text/latex": [
       "\\begin{array}&&\\frac{x + 5}{x^{2} + 2}&&\\color{red}{u^{2}}\\cr x &\\rightarrow& \\color{red}{u}= \\frac{x + 5}{x^{2} + 2}&\\rightarrow&\\frac{\\left(x + 5\\right)^{2}}{\\left(x^{2} + 2\\right)^{2}}\\cr&\\downarrow&\\qquad\\searrow&\\downarrow&\\cr&- \\frac{2 x \\left(x + 5\\right)}{\\left(x^{2} + 2\\right)^{2}} + \\frac{1}{x^{2} + 2}&\\quad\\times&\\color{red}{2 u}&\\cr&&\\quad\\downarrow&&\\cr\\Longrightarrow&\\large{\\left(\\frac{\\left(x + 5\\right)^{2}}{\\left(x^{2} + 2\\right)^{2}}\\right)}'=& \\large{\\frac{\\left(2 x + 10\\right) \\left(- \\frac{2 x \\left(x + 5\\right)}{\\left(x^{2} + 2\\right)^{2}} + \\frac{1}{x^{2} + 2}\\right)}{x^{2} + 2}}\\cr\\end{array}"
      ],
      "text/plain": [
       "<IPython.core.display.Latex object>"
      ]
     },
     "execution_count": 109,
     "metadata": {},
     "output_type": "execute_result"
    }
   ],
   "source": [
    "#11\n",
    "f=u**2\n",
    "g=(x+5)/(x**2+2)\n",
    "ChainRule_v4(f,g)"
   ]
  },
  {
   "cell_type": "code",
   "execution_count": 110,
   "metadata": {},
   "outputs": [
    {
     "data": {
      "text/latex": [
       "\\begin{array}&&x + \\left(x^{2} + 3\\right)^{5}&&\\color{red}{u^{2}}\\cr x &\\rightarrow& \\color{red}{u}= x + \\left(x^{2} + 3\\right)^{5}&\\rightarrow&\\left(x + \\left(x^{2} + 3\\right)^{5}\\right)^{2}\\cr&\\downarrow&\\qquad\\searrow&\\downarrow&\\cr&10 x \\left(x^{2} + 3\\right)^{4} + 1&\\quad\\times&\\color{red}{2 u}&\\cr&&\\quad\\downarrow&&\\cr\\Longrightarrow&\\large{\\left(\\left(x + \\left(x^{2} + 3\\right)^{5}\\right)^{2}\\right)}'=& \\large{\\left(2 x + 2 \\left(x^{2} + 3\\right)^{5}\\right) \\left(10 x \\left(x^{2} + 3\\right)^{4} + 1\\right)}\\cr\\end{array}"
      ],
      "text/plain": [
       "<IPython.core.display.Latex object>"
      ]
     },
     "execution_count": 110,
     "metadata": {},
     "output_type": "execute_result"
    }
   ],
   "source": [
    "#12\n",
    "f=u**2\n",
    "g=((x**2+3)**5+x)\n",
    "ChainRule_v4(f,g)"
   ]
  },
  {
   "cell_type": "code",
   "execution_count": 112,
   "metadata": {},
   "outputs": [
    {
     "data": {
      "text/latex": [
       "$\\displaystyle 10 x \\left(x^{2} + 3\\right)^{4} + 1$"
      ],
      "text/plain": [
       "10*x*(x**2 + 3)**4 + 1"
      ]
     },
     "execution_count": 112,
     "metadata": {},
     "output_type": "execute_result"
    }
   ],
   "source": [
    "diff(g,x)"
   ]
  },
  {
   "cell_type": "markdown",
   "metadata": {},
   "source": []
  },
  {
   "cell_type": "code",
   "execution_count": 14,
   "metadata": {},
   "outputs": [
    {
     "data": {
      "text/latex": [
       "\\begin{array}&&x + \\left(x^{2} + 3\\right)^{5}&&\\color{red}{u^{2}}\\cr x &\\rightarrow& \\color{red}{u}= x + \\left(x^{2} + 3\\right)^{5}&\\rightarrow&\\left(x + \\left(x^{2} + 3\\right)^{5}\\right)^{2}\\cr&\\downarrow&\\qquad\\searrow&\\downarrow&\\cr&10 x \\left(x^{2} + 3\\right)^{4} + 1&\\quad\\times&\\color{red}{2 u}&\\cr&&\\quad\\downarrow&&\\cr\\Longrightarrow&\\large{\\left(\\left(x + \\left(x^{2} + 3\\right)^{5}\\right)^{2}\\right)}'=& \\large{\\left(2 x + 2 \\left(x^{2} + 3\\right)^{5}\\right) \\left(10 x \\left(x^{2} + 3\\right)^{4} + 1\\right)}\\cr\\end{array}"
      ],
      "text/plain": [
       "<IPython.core.display.Latex object>"
      ]
     },
     "execution_count": 14,
     "metadata": {},
     "output_type": "execute_result"
    }
   ],
   "source": [
    "#12\n",
    "f=((x**2+3)**5+x)\n",
    "ChainRule_v4(u**2,f)"
   ]
  },
  {
   "cell_type": "code",
   "execution_count": 114,
   "metadata": {},
   "outputs": [
    {
     "data": {
      "text/latex": [
       "\\begin{array}&&\\pi^{2} x^{2}&&\\color{red}{\\sin{\\left(u \\right)}}\\cr x &\\rightarrow& \\color{red}{u}= \\pi^{2} x^{2}&\\rightarrow&\\sin{\\left(\\pi^{2} x^{2} \\right)}\\cr&\\downarrow&\\qquad\\searrow&\\downarrow&\\cr&2 \\pi^{2} x&\\quad\\times&\\color{red}{\\cos{\\left(u \\right)}}&\\cr&&\\quad\\downarrow&&\\cr\\Longrightarrow&\\large{\\left(\\sin{\\left(\\pi^{2} x^{2} \\right)}\\right)}'=& \\large{2 \\pi^{2} x \\cos{\\left(\\pi^{2} x^{2} \\right)}}\\cr\\end{array}"
      ],
      "text/plain": [
       "<IPython.core.display.Latex object>"
      ]
     },
     "execution_count": 114,
     "metadata": {},
     "output_type": "execute_result"
    }
   ],
   "source": [
    "#15\n",
    "f=sin(u)\n",
    "g=(pi*x)**2\n",
    "ChainRule_v4(f,g)"
   ]
  },
  {
   "cell_type": "code",
   "execution_count": 115,
   "metadata": {},
   "outputs": [
    {
     "data": {
      "text/latex": [
       "\\begin{array}&&\\frac{\\sin{\\left(4 x \\right)}}{2}&&\\color{red}{u^{2}}\\cr x &\\rightarrow& \\color{red}{u}= \\frac{\\sin{\\left(4 x \\right)}}{2}&\\rightarrow&\\frac{\\sin^{2}{\\left(4 x \\right)}}{4}\\cr&\\downarrow&\\qquad\\searrow&\\downarrow&\\cr&2 \\cos{\\left(4 x \\right)}&\\quad\\times&\\color{red}{2 u}&\\cr&&\\quad\\downarrow&&\\cr\\Longrightarrow&\\large{\\left(\\frac{\\sin^{2}{\\left(4 x \\right)}}{4}\\right)}'=& \\large{2 \\sin{\\left(4 x \\right)} \\cos{\\left(4 x \\right)}}\\cr\\end{array}"
      ],
      "text/plain": [
       "<IPython.core.display.Latex object>"
      ]
     },
     "execution_count": 115,
     "metadata": {},
     "output_type": "execute_result"
    }
   ],
   "source": [
    "#16\n",
    "f=u**2\n",
    "g=sin(4*x)/2\n",
    "ChainRule_v4(f,g)"
   ]
  },
  {
   "cell_type": "code",
   "execution_count": 116,
   "metadata": {},
   "outputs": [
    {
     "data": {
      "text/latex": [
       "$\\displaystyle 4 \\cos{\\left(4 x \\right)}$"
      ],
      "text/plain": [
       "4*cos(4*x)"
      ]
     },
     "execution_count": 116,
     "metadata": {},
     "output_type": "execute_result"
    }
   ],
   "source": [
    "diff(sin(4*x),x)"
   ]
  },
  {
   "cell_type": "code",
   "execution_count": 25,
   "metadata": {},
   "outputs": [
    {
     "data": {
      "text/latex": [
       "\\begin{array}&&2 \\theta&&\\color{red}{\\sin{\\left(u \\right)}} &&\\color{blue}{\\frac{v^{2}}{4}} \\cr \\theta &\\rightarrow& \\color{red}{u}= 2 \\theta&\\rightarrow& \\color{blue}{v}=\\sin{\\left(2 \\theta \\right)}&\\rightarrow&\\frac{\\sin^{2}{\\left(2 \\theta \\right)}}{4}\\cr &\\downarrow&\\qquad\\searrow&\\downarrow&\\qquad\\searrow&\\downarrow&\\cr&2&\\quad\\times&\\color{red}{\\cos{\\left(u \\right)}}&\\quad\\times&\\color{blue}{\\frac{v}{2}}&\\cr&&\\quad\\Downarrow&&\\cr\\Longrightarrow&\\large{\\left(\\frac{\\sin^{2}{\\left(2 \\theta \\right)}}{4}\\right)}'=& \\large{\\sin{\\left(2 \\theta \\right)} \\cos{\\left(2 \\theta \\right)}}\\cr\\end{array}"
      ],
      "text/plain": [
       "<IPython.core.display.Latex object>"
      ]
     },
     "execution_count": 25,
     "metadata": {},
     "output_type": "execute_result"
    }
   ],
   "source": [
    "#18\n",
    "t=Symbol(\"theta\")\n",
    "h=v**2/4\n",
    "f=sin(u)\n",
    "g=2*t\n",
    "ChainRule_v43(h,f,g,var=t)"
   ]
  },
  {
   "cell_type": "code",
   "execution_count": 117,
   "metadata": {},
   "outputs": [
    {
     "data": {
      "text/latex": [
       "\\begin{array}&&\\cot{\\left(3 \\pi x \\right)}&&\\color{red}{\\sqrt{u}} &&\\color{blue}{\\sin{\\left(v \\right)}} \\cr x &\\rightarrow& \\color{red}{u}= \\cot{\\left(3 \\pi x \\right)}&\\rightarrow& \\color{blue}{v}=\\sqrt{\\cot{\\left(3 \\pi x \\right)}}&\\rightarrow&\\sin{\\left(\\sqrt{\\cot{\\left(3 \\pi x \\right)}} \\right)}\\cr &\\downarrow&\\qquad\\searrow&\\downarrow&\\qquad\\searrow&\\downarrow&\\cr&3 \\pi \\left(- \\cot^{2}{\\left(3 \\pi x \\right)} - 1\\right)&\\quad\\times&\\color{red}{\\frac{1}{2 \\sqrt{u}}}&\\quad\\times&\\color{blue}{\\cos{\\left(v \\right)}}&\\cr&&\\quad\\Downarrow&&\\cr\\Longrightarrow&\\large{\\left(\\sin{\\left(\\sqrt{\\cot{\\left(3 \\pi x \\right)}} \\right)}\\right)}'=& \\large{\\frac{3 \\pi \\left(- \\cot^{2}{\\left(3 \\pi x \\right)} - 1\\right) \\cos{\\left(\\sqrt{\\cot{\\left(3 \\pi x \\right)}} \\right)}}{2 \\sqrt{\\cot{\\left(3 \\pi x \\right)}}}}\\cr\\end{array}"
      ],
      "text/plain": [
       "<IPython.core.display.Latex object>"
      ]
     },
     "execution_count": 117,
     "metadata": {},
     "output_type": "execute_result"
    }
   ],
   "source": [
    "#21\n",
    "\n",
    "h=sin(v)\n",
    "f=sqrt(u)\n",
    "g=cot(3*pi*x)\n",
    "ChainRule_v43(h,f,g,var=x)"
   ]
  },
  {
   "cell_type": "code",
   "execution_count": 118,
   "metadata": {},
   "outputs": [
    {
     "data": {
      "text/latex": [
       "\\begin{array}&&\\sqrt{x}&&\\color{red}{e^{u}}\\cr x &\\rightarrow& \\color{red}{u}= \\sqrt{x}&\\rightarrow&e^{\\sqrt{x}}\\cr&\\downarrow&\\qquad\\searrow&\\downarrow&\\cr&\\frac{1}{2 \\sqrt{x}}&\\quad\\times&\\color{red}{e^{u}}&\\cr&&\\quad\\downarrow&&\\cr\\Longrightarrow&\\large{\\left(e^{\\sqrt{x}}\\right)}'=& \\large{\\frac{e^{\\sqrt{x}}}{2 \\sqrt{x}}}\\cr\\end{array}"
      ],
      "text/plain": [
       "<IPython.core.display.Latex object>"
      ]
     },
     "execution_count": 118,
     "metadata": {},
     "output_type": "execute_result"
    }
   ],
   "source": [
    "#23\n",
    "f=exp(u)\n",
    "g=sqrt(x)\n",
    "ChainRule_v4(f,g)"
   ]
  },
  {
   "cell_type": "code",
   "execution_count": 23,
   "metadata": {},
   "outputs": [
    {
     "data": {
      "text/latex": [
       "\\begin{array}&&e^{t} + e^{- t}&&\\color{red}{u^{3}}\\cr t &\\rightarrow& \\color{red}{u}= e^{t} + e^{- t}&\\rightarrow&\\left(e^{t} + e^{- t}\\right)^{3}\\cr&\\downarrow&\\qquad\\searrow&\\downarrow&\\cr&e^{t} - e^{- t}&\\quad\\times&\\color{red}{3 u^{2}}&\\cr&&\\quad\\downarrow&&\\cr\\Longrightarrow&\\large{\\left(\\left(e^{t} + e^{- t}\\right)^{3}\\right)}'=& \\large{\\left(e^{t} + e^{- t}\\right)^{2} \\left(3 e^{t} - 3 e^{- t}\\right)}\\cr\\end{array}"
      ],
      "text/plain": [
       "<IPython.core.display.Latex object>"
      ]
     },
     "execution_count": 23,
     "metadata": {},
     "output_type": "execute_result"
    }
   ],
   "source": [
    "#24\n",
    "t=Symbol(\"t\")\n",
    "f=u**3\n",
    "g=(exp(t)+exp(-t))\n",
    "ChainRule_v4(f,g,var=\"t\")"
   ]
  },
  {
   "cell_type": "code",
   "execution_count": 25,
   "metadata": {},
   "outputs": [
    {
     "data": {
      "text/latex": [
       "$\\displaystyle \\frac{e^{x}}{e^{x} - 1} - \\frac{\\left(e^{x} + 1\\right) e^{x}}{\\left(e^{x} - 1\\right)^{2}}$"
      ],
      "text/plain": [
       "exp(x)/(exp(x) - 1) - (exp(x) + 1)*exp(x)/(exp(x) - 1)**2"
      ]
     },
     "execution_count": 25,
     "metadata": {},
     "output_type": "execute_result"
    }
   ],
   "source": [
    "#27\n",
    "f=(exp(x)+1)/(exp(x)-1)\n",
    "diff(f,x)"
   ]
  },
  {
   "cell_type": "code",
   "execution_count": 26,
   "metadata": {},
   "outputs": [
    {
     "data": {
      "text/latex": [
       "\\begin{array}&&\\csc{\\left(x \\right)}&&\\color{red}{e^{u}}\\cr x &\\rightarrow& \\color{red}{u}= \\csc{\\left(x \\right)}&\\rightarrow&e^{\\csc{\\left(x \\right)}}\\cr&\\downarrow&\\qquad\\searrow&\\downarrow&\\cr&- \\cot{\\left(x \\right)} \\csc{\\left(x \\right)}&\\quad\\times&\\color{red}{e^{u}}&\\cr&&\\quad\\downarrow&&\\cr\\Longrightarrow&\\large{\\left(e^{\\csc{\\left(x \\right)}}\\right)}'=& \\large{- e^{\\csc{\\left(x \\right)}} \\cot{\\left(x \\right)} \\csc{\\left(x \\right)}}\\cr\\end{array}"
      ],
      "text/plain": [
       "<IPython.core.display.Latex object>"
      ]
     },
     "execution_count": 26,
     "metadata": {},
     "output_type": "execute_result"
    }
   ],
   "source": [
    "#29\n",
    "f=exp(u)\n",
    "g=csc(x)\n",
    "ChainRule_v4(f,g)"
   ]
  },
  {
   "cell_type": "code",
   "execution_count": 27,
   "metadata": {},
   "outputs": [
    {
     "data": {
      "text/latex": [
       "\\begin{array}&&\\left(t + 1\\right)^{2}&&\\color{red}{\\log{\\left(u \\right)}}\\cr x &\\rightarrow& \\color{red}{u}= \\left(t + 1\\right)^{2}&\\rightarrow&\\log{\\left(\\left(t + 1\\right)^{2} \\right)}\\cr&\\downarrow&\\qquad\\searrow&\\downarrow&\\cr&2 t + 2&\\quad\\times&\\color{red}{\\frac{1}{u}}&\\cr&&\\quad\\downarrow&&\\cr\\Longrightarrow&\\large{\\left(\\log{\\left(\\left(t + 1\\right)^{2} \\right)}\\right)}'=& \\large{\\frac{2 t + 2}{\\left(t + 1\\right)^{2}}}\\cr\\end{array}"
      ],
      "text/plain": [
       "<IPython.core.display.Latex object>"
      ]
     },
     "execution_count": 27,
     "metadata": {},
     "output_type": "execute_result"
    }
   ],
   "source": [
    "#33\n",
    "t=Symbol(\"t\")\n",
    "f=log(u)\n",
    "g=(t+1)**2\n",
    "ChainRule_v4(f,g,var=\"t\")"
   ]
  },
  {
   "cell_type": "code",
   "execution_count": 28,
   "metadata": {},
   "outputs": [
    {
     "data": {
      "text/latex": [
       "\\begin{array}&&x \\sqrt{x^{2} - 1}&&\\color{red}{\\log{\\left(u \\right)}}\\cr x &\\rightarrow& \\color{red}{u}= x \\sqrt{x^{2} - 1}&\\rightarrow&\\log{\\left(x \\sqrt{x^{2} - 1} \\right)}\\cr&\\downarrow&\\qquad\\searrow&\\downarrow&\\cr&\\frac{x^{2}}{\\sqrt{x^{2} - 1}} + \\sqrt{x^{2} - 1}&\\quad\\times&\\color{red}{\\frac{1}{u}}&\\cr&&\\quad\\downarrow&&\\cr\\Longrightarrow&\\large{\\left(\\log{\\left(x \\sqrt{x^{2} - 1} \\right)}\\right)}'=& \\large{\\frac{\\frac{x^{2}}{\\sqrt{x^{2} - 1}} + \\sqrt{x^{2} - 1}}{x \\sqrt{x^{2} - 1}}}\\cr\\end{array}"
      ],
      "text/plain": [
       "<IPython.core.display.Latex object>"
      ]
     },
     "execution_count": 28,
     "metadata": {},
     "output_type": "execute_result"
    }
   ],
   "source": [
    "#34\n",
    "\n",
    "f=log(u)\n",
    "g=x*sqrt(x**2-1)\n",
    "ChainRule_v4(f,g,var=\"x\")"
   ]
  },
  {
   "cell_type": "code",
   "execution_count": 120,
   "metadata": {},
   "outputs": [
    {
     "data": {
      "text/latex": [
       "\\begin{array}&&\\log{\\left(x^{2} \\right)}&&\\color{red}{\\log{\\left(u \\right)}}\\cr x &\\rightarrow& \\color{red}{u}= \\log{\\left(x^{2} \\right)}&\\rightarrow&\\log{\\left(\\log{\\left(x^{2} \\right)} \\right)}\\cr&\\downarrow&\\qquad\\searrow&\\downarrow&\\cr&\\frac{2}{x}&\\quad\\times&\\color{red}{\\frac{1}{u}}&\\cr&&\\quad\\downarrow&&\\cr\\Longrightarrow&\\large{\\left(\\log{\\left(\\log{\\left(x^{2} \\right)} \\right)}\\right)}'=& \\large{\\frac{2}{x \\log{\\left(x^{2} \\right)}}}\\cr\\end{array}"
      ],
      "text/plain": [
       "<IPython.core.display.Latex object>"
      ]
     },
     "execution_count": 120,
     "metadata": {},
     "output_type": "execute_result"
    }
   ],
   "source": [
    "#37\n",
    "f=log(u)\n",
    "g=log(x**2)\n",
    "ChainRule_v4(f,g)"
   ]
  },
  {
   "cell_type": "code",
   "execution_count": 121,
   "metadata": {},
   "outputs": [
    {
     "data": {
      "text/latex": [
       "\\begin{array}&&\\sin{\\left(x \\right)}&&\\color{red}{\\log{\\left(u \\right)}}\\cr x &\\rightarrow& \\color{red}{u}= \\sin{\\left(x \\right)}&\\rightarrow&\\log{\\left(\\sin{\\left(x \\right)} \\right)}\\cr&\\downarrow&\\qquad\\searrow&\\downarrow&\\cr&\\cos{\\left(x \\right)}&\\quad\\times&\\color{red}{\\frac{1}{u}}&\\cr&&\\quad\\downarrow&&\\cr\\Longrightarrow&\\large{\\left(\\log{\\left(\\sin{\\left(x \\right)} \\right)}\\right)}'=& \\large{\\frac{\\cos{\\left(x \\right)}}{\\sin{\\left(x \\right)}}}\\cr\\end{array}"
      ],
      "text/plain": [
       "<IPython.core.display.Latex object>"
      ]
     },
     "execution_count": 121,
     "metadata": {},
     "output_type": "execute_result"
    }
   ],
   "source": [
    "#39\n",
    "f=log(u)\n",
    "g=sin(x)\n",
    "ChainRule_v4(f,g)"
   ]
  },
  {
   "cell_type": "code",
   "execution_count": 9,
   "metadata": {},
   "outputs": [
    {
     "data": {
      "text/latex": [
       "\\begin{array}&&\\frac{\\cos{\\left(x \\right)}}{\\cos{\\left(x \\right)} - 1}&&\\color{red}{\\log{\\left(u \\right)}}\\cr x &\\rightarrow& \\color{red}{u}= \\frac{\\cos{\\left(x \\right)}}{\\cos{\\left(x \\right)} - 1}&\\rightarrow&\\log{\\left(\\frac{\\cos{\\left(x \\right)}}{\\cos{\\left(x \\right)} - 1} \\right)}\\cr&\\downarrow&\\qquad\\searrow&\\downarrow&\\cr&- \\frac{\\sin{\\left(x \\right)}}{\\cos{\\left(x \\right)} - 1} + \\frac{\\sin{\\left(x \\right)} \\cos{\\left(x \\right)}}{\\left(\\cos{\\left(x \\right)} - 1\\right)^{2}}&\\quad\\times&\\color{red}{\\frac{1}{u}}&\\cr&&\\quad\\downarrow&&\\cr\\Longrightarrow&\\large{\\left(\\log{\\left(\\frac{\\cos{\\left(x \\right)}}{\\cos{\\left(x \\right)} - 1} \\right)}\\right)}'=& \\large{\\frac{\\left(- \\frac{\\sin{\\left(x \\right)}}{\\cos{\\left(x \\right)} - 1} + \\frac{\\sin{\\left(x \\right)} \\cos{\\left(x \\right)}}{\\left(\\cos{\\left(x \\right)} - 1\\right)^{2}}\\right) \\left(\\cos{\\left(x \\right)} - 1\\right)}{\\cos{\\left(x \\right)}}}\\cr\\end{array}"
      ],
      "text/plain": [
       "<IPython.core.display.Latex object>"
      ]
     },
     "execution_count": 9,
     "metadata": {},
     "output_type": "execute_result"
    }
   ],
   "source": [
    "#40\n",
    "f=cos(x)/(cos(x)-1)\n",
    "ChainRule_v4(log(u),f)"
   ]
  },
  {
   "cell_type": "code",
   "execution_count": 29,
   "metadata": {},
   "outputs": [
    {
     "data": {
      "text/latex": [
       "\\begin{array}&&3 x^{3} + 4 x&&\\color{red}{u^{0.2}}\\cr x &\\rightarrow& \\color{red}{u}= 3 x^{3} + 4 x&\\rightarrow&\\left(3 x^{3} + 4 x\\right)^{0.2}\\cr&\\downarrow&\\qquad\\searrow&\\downarrow&\\cr&9 x^{2} + 4&\\quad\\times&\\color{red}{\\frac{0.2}{u^{0.8}}}&\\cr&&\\quad\\downarrow&&\\cr\\Longrightarrow&\\large{\\left(\\left(3 x^{3} + 4 x\\right)^{0.2}\\right)}'=& \\large{\\frac{1.8 x^{2} + 0.8}{\\left(3 x^{3} + 4 x\\right)^{0.8}}}\\cr\\end{array}"
      ],
      "text/plain": [
       "<IPython.core.display.Latex object>"
      ]
     },
     "execution_count": 29,
     "metadata": {},
     "output_type": "execute_result"
    }
   ],
   "source": [
    "#44 tangent line of (4x+3x^3)^(1/5) at (2,2) \n",
    "f=u**(1/5)\n",
    "g=3*x**3+4*x\n",
    "\n",
    "ChainRule_v4(f,g)"
   ]
  },
  {
   "cell_type": "code",
   "execution_count": 7,
   "metadata": {},
   "outputs": [
    {
     "name": "stdout",
     "output_type": "stream",
     "text": [
      "slope of tangent at (2,2) is 0.500000000000000\n"
     ]
    }
   ],
   "source": [
    "l=diff((3*x**3+4*x)**(1/5),x).subs({x:2})\n",
    "print(\"slope of tangent at (2,2) is {}\".format(l))"
   ]
  },
  {
   "cell_type": "code",
   "execution_count": 4,
   "metadata": {},
   "outputs": [],
   "source": [
    "import plotly.express as ex\n",
    "import numpy as np\n"
   ]
  },
  {
   "cell_type": "code",
   "execution_count": 8,
   "metadata": {},
   "outputs": [
    {
     "data": {
      "application/vnd.plotly.v1+json": {
       "config": {
        "plotlyServerURL": "https://plot.ly"
       },
       "data": [
        {
         "hovertemplate": "variable=wide_variable_0<br>x=%{x}<br>value=%{y}<extra></extra>",
         "legendgroup": "wide_variable_0",
         "line": {
          "color": "#636efa",
          "dash": "solid"
         },
         "marker": {
          "symbol": "circle"
         },
         "mode": "lines",
         "name": "wide_variable_0",
         "orientation": "v",
         "showlegend": true,
         "type": "scatter",
         "x": [
          0,
          0.03,
          0.06,
          0.09,
          0.12,
          0.15,
          0.18,
          0.21,
          0.24,
          0.27,
          0.3,
          0.32999999999999996,
          0.36,
          0.39,
          0.42,
          0.44999999999999996,
          0.48,
          0.51,
          0.54,
          0.57,
          0.6,
          0.63,
          0.6599999999999999,
          0.69,
          0.72,
          0.75,
          0.78,
          0.8099999999999999,
          0.84,
          0.87,
          0.8999999999999999,
          0.9299999999999999,
          0.96,
          0.99,
          1.02,
          1.05,
          1.08,
          1.1099999999999999,
          1.14,
          1.17,
          1.2,
          1.23,
          1.26,
          1.29,
          1.3199999999999998,
          1.3499999999999999,
          1.38,
          1.41,
          1.44,
          1.47,
          1.5,
          1.53,
          1.56,
          1.5899999999999999,
          1.6199999999999999,
          1.65,
          1.68,
          1.71,
          1.74,
          1.77,
          1.7999999999999998,
          1.8299999999999998,
          1.8599999999999999,
          1.89,
          1.92,
          1.95,
          1.98,
          2.01,
          2.04,
          2.07,
          2.1,
          2.13,
          2.16,
          2.19,
          2.2199999999999998,
          2.25,
          2.28,
          2.31,
          2.34,
          2.37,
          2.4,
          2.4299999999999997,
          2.46,
          2.4899999999999998,
          2.52,
          2.55,
          2.58,
          2.61,
          2.6399999999999997,
          2.67,
          2.6999999999999997,
          2.73,
          2.76,
          2.79,
          2.82,
          2.85,
          2.88,
          2.9099999999999997,
          2.94,
          2.9699999999999998,
          3
         ],
         "xaxis": "x",
         "y": [
          0,
          0.6544777086660418,
          0.7521014939212537,
          0.8161811711529099,
          0.8653290708127351,
          0.9059073100554069,
          0.94091834026466,
          0.9720357269114969,
          1.0002942268102186,
          1.0263807104582219,
          1.0507752284739444,
          1.073826567683739,
          1.0957958673204564,
          1.116883320927922,
          1.137245318727704,
          1.1570058945334818,
          1.1762646276072324,
          1.1951022547549817,
          1.2135847556492652,
          1.2317663914796975,
          1.2496920082631355,
          1.2673988121195674,
          1.2849177578422324,
          1.3022746491729338,
          1.3194910206392434,
          1.3365848514226277,
          1.3535711483177162,
          1.370462425411178,
          1.3872691013698224,
          1.4039998303420147,
          1.42066177888565,
          1.4372608586621458,
          1.4538019226202186,
          1.470288930855552,
          1.4867250911462104,
          1.5031129782385326,
          1.519454635229412,
          1.5357516598110488,
          1.5520052776788031,
          1.568216405025928,
          1.584385701741448,
          1.6005136166747214,
          1.6166004261211244,
          1.632646266509301,
          1.6486511621248525,
          1.6646150485829834,
          1.6805377926593443,
          1.6964192090008383,
          1.7122590741638144,
          1.7280571383637213,
          1.743813135266199,
          1.759526790103279,
          1.7751978263586603,
          1.7908259712319594,
          1.8064109600625242,
          1.8219525398682028,
          1.837450472132745,
          1.8529045349568114,
          1.8683145246714328,
          1.8836802569988549,
          1.8990015678337007,
          1.9142783137070254,
          1.9295103719868996,
          1.944697640861451,
          1.9598400391436301,
          1.974937505931231,
          1.9899900001507447,
          2.004997500009351,
          2.0199600023756847,
          2.0348775221068203,
          2.049750091336233,
          2.064577758735097,
          2.07936058875731,
          2.0940986608768744,
          2.1087920688247963,
          2.123440919831385,
          2.1380453338787473,
          2.1526054429673596,
          2.1671213903997755,
          2.1815933300839014,
          2.1960214258576563,
          2.2104058508363855,
          2.2247467867839705,
          2.239044423508245,
          2.253298958281043,
          2.2675105952829626,
          2.2816795450727425,
          2.295806024080979,
          2.3098902541277866,
          2.3239324619639037,
          2.3379328788346547,
          2.351891740066129,
          2.365809284672873,
          2.3796857549863795,
          2.393521396303611,
          2.4073164565548026,
          2.4210711859897645,
          2.434785836881929,
          2.44846066324936,
          2.4620959205919966,
          2.4756918656443667
         ],
         "yaxis": "y"
        },
        {
         "hovertemplate": "variable=wide_variable_1<br>x=%{x}<br>value=%{y}<extra></extra>",
         "legendgroup": "wide_variable_1",
         "line": {
          "color": "#EF553B",
          "dash": "solid"
         },
         "marker": {
          "symbol": "circle"
         },
         "mode": "lines",
         "name": "wide_variable_1",
         "orientation": "v",
         "showlegend": true,
         "type": "scatter",
         "x": [
          0,
          0.03,
          0.06,
          0.09,
          0.12,
          0.15,
          0.18,
          0.21,
          0.24,
          0.27,
          0.3,
          0.32999999999999996,
          0.36,
          0.39,
          0.42,
          0.44999999999999996,
          0.48,
          0.51,
          0.54,
          0.57,
          0.6,
          0.63,
          0.6599999999999999,
          0.69,
          0.72,
          0.75,
          0.78,
          0.8099999999999999,
          0.84,
          0.87,
          0.8999999999999999,
          0.9299999999999999,
          0.96,
          0.99,
          1.02,
          1.05,
          1.08,
          1.1099999999999999,
          1.14,
          1.17,
          1.2,
          1.23,
          1.26,
          1.29,
          1.3199999999999998,
          1.3499999999999999,
          1.38,
          1.41,
          1.44,
          1.47,
          1.5,
          1.53,
          1.56,
          1.5899999999999999,
          1.6199999999999999,
          1.65,
          1.68,
          1.71,
          1.74,
          1.77,
          1.7999999999999998,
          1.8299999999999998,
          1.8599999999999999,
          1.89,
          1.92,
          1.95,
          1.98,
          2.01,
          2.04,
          2.07,
          2.1,
          2.13,
          2.16,
          2.19,
          2.2199999999999998,
          2.25,
          2.28,
          2.31,
          2.34,
          2.37,
          2.4,
          2.4299999999999997,
          2.46,
          2.4899999999999998,
          2.52,
          2.55,
          2.58,
          2.61,
          2.6399999999999997,
          2.67,
          2.6999999999999997,
          2.73,
          2.76,
          2.79,
          2.82,
          2.85,
          2.88,
          2.9099999999999997,
          2.94,
          2.9699999999999998,
          3
         ],
         "xaxis": "x",
         "y": [
          1,
          1.0150000000000001,
          1.03,
          1.045,
          1.06,
          1.075,
          1.0899999999999999,
          1.105,
          1.12,
          1.135,
          1.15,
          1.165,
          1.18,
          1.195,
          1.21,
          1.225,
          1.24,
          1.255,
          1.27,
          1.285,
          1.3,
          1.315,
          1.33,
          1.345,
          1.3599999999999999,
          1.375,
          1.3900000000000001,
          1.405,
          1.42,
          1.435,
          1.45,
          1.4649999999999999,
          1.48,
          1.495,
          1.51,
          1.525,
          1.54,
          1.555,
          1.5699999999999998,
          1.585,
          1.6,
          1.615,
          1.63,
          1.645,
          1.66,
          1.6749999999999998,
          1.69,
          1.705,
          1.72,
          1.7349999999999999,
          1.75,
          1.7650000000000001,
          1.78,
          1.795,
          1.81,
          1.825,
          1.8399999999999999,
          1.855,
          1.87,
          1.885,
          1.9,
          1.915,
          1.93,
          1.9449999999999998,
          1.96,
          1.975,
          1.99,
          2.005,
          2.02,
          2.035,
          2.05,
          2.065,
          2.08,
          2.0949999999999998,
          2.11,
          2.125,
          2.1399999999999997,
          2.1550000000000002,
          2.17,
          2.185,
          2.2,
          2.215,
          2.23,
          2.245,
          2.26,
          2.275,
          2.29,
          2.3049999999999997,
          2.32,
          2.335,
          2.3499999999999996,
          2.365,
          2.38,
          2.395,
          2.41,
          2.425,
          2.44,
          2.455,
          2.4699999999999998,
          2.485,
          2.5
         ],
         "yaxis": "y"
        }
       ],
       "layout": {
        "legend": {
         "title": {
          "text": "variable"
         },
         "tracegroupgap": 0
        },
        "margin": {
         "t": 60
        },
        "template": {
         "data": {
          "bar": [
           {
            "error_x": {
             "color": "#2a3f5f"
            },
            "error_y": {
             "color": "#2a3f5f"
            },
            "marker": {
             "line": {
              "color": "#E5ECF6",
              "width": 0.5
             },
             "pattern": {
              "fillmode": "overlay",
              "size": 10,
              "solidity": 0.2
             }
            },
            "type": "bar"
           }
          ],
          "barpolar": [
           {
            "marker": {
             "line": {
              "color": "#E5ECF6",
              "width": 0.5
             },
             "pattern": {
              "fillmode": "overlay",
              "size": 10,
              "solidity": 0.2
             }
            },
            "type": "barpolar"
           }
          ],
          "carpet": [
           {
            "aaxis": {
             "endlinecolor": "#2a3f5f",
             "gridcolor": "white",
             "linecolor": "white",
             "minorgridcolor": "white",
             "startlinecolor": "#2a3f5f"
            },
            "baxis": {
             "endlinecolor": "#2a3f5f",
             "gridcolor": "white",
             "linecolor": "white",
             "minorgridcolor": "white",
             "startlinecolor": "#2a3f5f"
            },
            "type": "carpet"
           }
          ],
          "choropleth": [
           {
            "colorbar": {
             "outlinewidth": 0,
             "ticks": ""
            },
            "type": "choropleth"
           }
          ],
          "contour": [
           {
            "colorbar": {
             "outlinewidth": 0,
             "ticks": ""
            },
            "colorscale": [
             [
              0,
              "#0d0887"
             ],
             [
              0.1111111111111111,
              "#46039f"
             ],
             [
              0.2222222222222222,
              "#7201a8"
             ],
             [
              0.3333333333333333,
              "#9c179e"
             ],
             [
              0.4444444444444444,
              "#bd3786"
             ],
             [
              0.5555555555555556,
              "#d8576b"
             ],
             [
              0.6666666666666666,
              "#ed7953"
             ],
             [
              0.7777777777777778,
              "#fb9f3a"
             ],
             [
              0.8888888888888888,
              "#fdca26"
             ],
             [
              1,
              "#f0f921"
             ]
            ],
            "type": "contour"
           }
          ],
          "contourcarpet": [
           {
            "colorbar": {
             "outlinewidth": 0,
             "ticks": ""
            },
            "type": "contourcarpet"
           }
          ],
          "heatmap": [
           {
            "colorbar": {
             "outlinewidth": 0,
             "ticks": ""
            },
            "colorscale": [
             [
              0,
              "#0d0887"
             ],
             [
              0.1111111111111111,
              "#46039f"
             ],
             [
              0.2222222222222222,
              "#7201a8"
             ],
             [
              0.3333333333333333,
              "#9c179e"
             ],
             [
              0.4444444444444444,
              "#bd3786"
             ],
             [
              0.5555555555555556,
              "#d8576b"
             ],
             [
              0.6666666666666666,
              "#ed7953"
             ],
             [
              0.7777777777777778,
              "#fb9f3a"
             ],
             [
              0.8888888888888888,
              "#fdca26"
             ],
             [
              1,
              "#f0f921"
             ]
            ],
            "type": "heatmap"
           }
          ],
          "heatmapgl": [
           {
            "colorbar": {
             "outlinewidth": 0,
             "ticks": ""
            },
            "colorscale": [
             [
              0,
              "#0d0887"
             ],
             [
              0.1111111111111111,
              "#46039f"
             ],
             [
              0.2222222222222222,
              "#7201a8"
             ],
             [
              0.3333333333333333,
              "#9c179e"
             ],
             [
              0.4444444444444444,
              "#bd3786"
             ],
             [
              0.5555555555555556,
              "#d8576b"
             ],
             [
              0.6666666666666666,
              "#ed7953"
             ],
             [
              0.7777777777777778,
              "#fb9f3a"
             ],
             [
              0.8888888888888888,
              "#fdca26"
             ],
             [
              1,
              "#f0f921"
             ]
            ],
            "type": "heatmapgl"
           }
          ],
          "histogram": [
           {
            "marker": {
             "pattern": {
              "fillmode": "overlay",
              "size": 10,
              "solidity": 0.2
             }
            },
            "type": "histogram"
           }
          ],
          "histogram2d": [
           {
            "colorbar": {
             "outlinewidth": 0,
             "ticks": ""
            },
            "colorscale": [
             [
              0,
              "#0d0887"
             ],
             [
              0.1111111111111111,
              "#46039f"
             ],
             [
              0.2222222222222222,
              "#7201a8"
             ],
             [
              0.3333333333333333,
              "#9c179e"
             ],
             [
              0.4444444444444444,
              "#bd3786"
             ],
             [
              0.5555555555555556,
              "#d8576b"
             ],
             [
              0.6666666666666666,
              "#ed7953"
             ],
             [
              0.7777777777777778,
              "#fb9f3a"
             ],
             [
              0.8888888888888888,
              "#fdca26"
             ],
             [
              1,
              "#f0f921"
             ]
            ],
            "type": "histogram2d"
           }
          ],
          "histogram2dcontour": [
           {
            "colorbar": {
             "outlinewidth": 0,
             "ticks": ""
            },
            "colorscale": [
             [
              0,
              "#0d0887"
             ],
             [
              0.1111111111111111,
              "#46039f"
             ],
             [
              0.2222222222222222,
              "#7201a8"
             ],
             [
              0.3333333333333333,
              "#9c179e"
             ],
             [
              0.4444444444444444,
              "#bd3786"
             ],
             [
              0.5555555555555556,
              "#d8576b"
             ],
             [
              0.6666666666666666,
              "#ed7953"
             ],
             [
              0.7777777777777778,
              "#fb9f3a"
             ],
             [
              0.8888888888888888,
              "#fdca26"
             ],
             [
              1,
              "#f0f921"
             ]
            ],
            "type": "histogram2dcontour"
           }
          ],
          "mesh3d": [
           {
            "colorbar": {
             "outlinewidth": 0,
             "ticks": ""
            },
            "type": "mesh3d"
           }
          ],
          "parcoords": [
           {
            "line": {
             "colorbar": {
              "outlinewidth": 0,
              "ticks": ""
             }
            },
            "type": "parcoords"
           }
          ],
          "pie": [
           {
            "automargin": true,
            "type": "pie"
           }
          ],
          "scatter": [
           {
            "marker": {
             "colorbar": {
              "outlinewidth": 0,
              "ticks": ""
             }
            },
            "type": "scatter"
           }
          ],
          "scatter3d": [
           {
            "line": {
             "colorbar": {
              "outlinewidth": 0,
              "ticks": ""
             }
            },
            "marker": {
             "colorbar": {
              "outlinewidth": 0,
              "ticks": ""
             }
            },
            "type": "scatter3d"
           }
          ],
          "scattercarpet": [
           {
            "marker": {
             "colorbar": {
              "outlinewidth": 0,
              "ticks": ""
             }
            },
            "type": "scattercarpet"
           }
          ],
          "scattergeo": [
           {
            "marker": {
             "colorbar": {
              "outlinewidth": 0,
              "ticks": ""
             }
            },
            "type": "scattergeo"
           }
          ],
          "scattergl": [
           {
            "marker": {
             "colorbar": {
              "outlinewidth": 0,
              "ticks": ""
             }
            },
            "type": "scattergl"
           }
          ],
          "scattermapbox": [
           {
            "marker": {
             "colorbar": {
              "outlinewidth": 0,
              "ticks": ""
             }
            },
            "type": "scattermapbox"
           }
          ],
          "scatterpolar": [
           {
            "marker": {
             "colorbar": {
              "outlinewidth": 0,
              "ticks": ""
             }
            },
            "type": "scatterpolar"
           }
          ],
          "scatterpolargl": [
           {
            "marker": {
             "colorbar": {
              "outlinewidth": 0,
              "ticks": ""
             }
            },
            "type": "scatterpolargl"
           }
          ],
          "scatterternary": [
           {
            "marker": {
             "colorbar": {
              "outlinewidth": 0,
              "ticks": ""
             }
            },
            "type": "scatterternary"
           }
          ],
          "surface": [
           {
            "colorbar": {
             "outlinewidth": 0,
             "ticks": ""
            },
            "colorscale": [
             [
              0,
              "#0d0887"
             ],
             [
              0.1111111111111111,
              "#46039f"
             ],
             [
              0.2222222222222222,
              "#7201a8"
             ],
             [
              0.3333333333333333,
              "#9c179e"
             ],
             [
              0.4444444444444444,
              "#bd3786"
             ],
             [
              0.5555555555555556,
              "#d8576b"
             ],
             [
              0.6666666666666666,
              "#ed7953"
             ],
             [
              0.7777777777777778,
              "#fb9f3a"
             ],
             [
              0.8888888888888888,
              "#fdca26"
             ],
             [
              1,
              "#f0f921"
             ]
            ],
            "type": "surface"
           }
          ],
          "table": [
           {
            "cells": {
             "fill": {
              "color": "#EBF0F8"
             },
             "line": {
              "color": "white"
             }
            },
            "header": {
             "fill": {
              "color": "#C8D4E3"
             },
             "line": {
              "color": "white"
             }
            },
            "type": "table"
           }
          ]
         },
         "layout": {
          "annotationdefaults": {
           "arrowcolor": "#2a3f5f",
           "arrowhead": 0,
           "arrowwidth": 1
          },
          "autotypenumbers": "strict",
          "coloraxis": {
           "colorbar": {
            "outlinewidth": 0,
            "ticks": ""
           }
          },
          "colorscale": {
           "diverging": [
            [
             0,
             "#8e0152"
            ],
            [
             0.1,
             "#c51b7d"
            ],
            [
             0.2,
             "#de77ae"
            ],
            [
             0.3,
             "#f1b6da"
            ],
            [
             0.4,
             "#fde0ef"
            ],
            [
             0.5,
             "#f7f7f7"
            ],
            [
             0.6,
             "#e6f5d0"
            ],
            [
             0.7,
             "#b8e186"
            ],
            [
             0.8,
             "#7fbc41"
            ],
            [
             0.9,
             "#4d9221"
            ],
            [
             1,
             "#276419"
            ]
           ],
           "sequential": [
            [
             0,
             "#0d0887"
            ],
            [
             0.1111111111111111,
             "#46039f"
            ],
            [
             0.2222222222222222,
             "#7201a8"
            ],
            [
             0.3333333333333333,
             "#9c179e"
            ],
            [
             0.4444444444444444,
             "#bd3786"
            ],
            [
             0.5555555555555556,
             "#d8576b"
            ],
            [
             0.6666666666666666,
             "#ed7953"
            ],
            [
             0.7777777777777778,
             "#fb9f3a"
            ],
            [
             0.8888888888888888,
             "#fdca26"
            ],
            [
             1,
             "#f0f921"
            ]
           ],
           "sequentialminus": [
            [
             0,
             "#0d0887"
            ],
            [
             0.1111111111111111,
             "#46039f"
            ],
            [
             0.2222222222222222,
             "#7201a8"
            ],
            [
             0.3333333333333333,
             "#9c179e"
            ],
            [
             0.4444444444444444,
             "#bd3786"
            ],
            [
             0.5555555555555556,
             "#d8576b"
            ],
            [
             0.6666666666666666,
             "#ed7953"
            ],
            [
             0.7777777777777778,
             "#fb9f3a"
            ],
            [
             0.8888888888888888,
             "#fdca26"
            ],
            [
             1,
             "#f0f921"
            ]
           ]
          },
          "colorway": [
           "#636efa",
           "#EF553B",
           "#00cc96",
           "#ab63fa",
           "#FFA15A",
           "#19d3f3",
           "#FF6692",
           "#B6E880",
           "#FF97FF",
           "#FECB52"
          ],
          "font": {
           "color": "#2a3f5f"
          },
          "geo": {
           "bgcolor": "white",
           "lakecolor": "white",
           "landcolor": "#E5ECF6",
           "showlakes": true,
           "showland": true,
           "subunitcolor": "white"
          },
          "hoverlabel": {
           "align": "left"
          },
          "hovermode": "closest",
          "mapbox": {
           "style": "light"
          },
          "paper_bgcolor": "white",
          "plot_bgcolor": "#E5ECF6",
          "polar": {
           "angularaxis": {
            "gridcolor": "white",
            "linecolor": "white",
            "ticks": ""
           },
           "bgcolor": "#E5ECF6",
           "radialaxis": {
            "gridcolor": "white",
            "linecolor": "white",
            "ticks": ""
           }
          },
          "scene": {
           "xaxis": {
            "backgroundcolor": "#E5ECF6",
            "gridcolor": "white",
            "gridwidth": 2,
            "linecolor": "white",
            "showbackground": true,
            "ticks": "",
            "zerolinecolor": "white"
           },
           "yaxis": {
            "backgroundcolor": "#E5ECF6",
            "gridcolor": "white",
            "gridwidth": 2,
            "linecolor": "white",
            "showbackground": true,
            "ticks": "",
            "zerolinecolor": "white"
           },
           "zaxis": {
            "backgroundcolor": "#E5ECF6",
            "gridcolor": "white",
            "gridwidth": 2,
            "linecolor": "white",
            "showbackground": true,
            "ticks": "",
            "zerolinecolor": "white"
           }
          },
          "shapedefaults": {
           "line": {
            "color": "#2a3f5f"
           }
          },
          "ternary": {
           "aaxis": {
            "gridcolor": "white",
            "linecolor": "white",
            "ticks": ""
           },
           "baxis": {
            "gridcolor": "white",
            "linecolor": "white",
            "ticks": ""
           },
           "bgcolor": "#E5ECF6",
           "caxis": {
            "gridcolor": "white",
            "linecolor": "white",
            "ticks": ""
           }
          },
          "title": {
           "x": 0.05
          },
          "xaxis": {
           "automargin": true,
           "gridcolor": "white",
           "linecolor": "white",
           "ticks": "",
           "title": {
            "standoff": 15
           },
           "zerolinecolor": "white",
           "zerolinewidth": 2
          },
          "yaxis": {
           "automargin": true,
           "gridcolor": "white",
           "linecolor": "white",
           "ticks": "",
           "title": {
            "standoff": 15
           },
           "zerolinecolor": "white",
           "zerolinewidth": 2
          }
         }
        },
        "xaxis": {
         "anchor": "y",
         "domain": [
          0,
          1
         ],
         "title": {
          "text": "x"
         }
        },
        "yaxis": {
         "anchor": "x",
         "domain": [
          0,
          1
         ],
         "title": {
          "text": "value"
         }
        }
       }
      },
      "text/html": [
       "<div>                            <div id=\"7d997da8-fc79-48c9-bd59-c69bc6a48cf7\" class=\"plotly-graph-div\" style=\"height:525px; width:100%;\"></div>            <script type=\"text/javascript\">                require([\"plotly\"], function(Plotly) {                    window.PLOTLYENV=window.PLOTLYENV || {};                                    if (document.getElementById(\"7d997da8-fc79-48c9-bd59-c69bc6a48cf7\")) {                    Plotly.newPlot(                        \"7d997da8-fc79-48c9-bd59-c69bc6a48cf7\",                        [{\"hovertemplate\":\"variable=wide_variable_0<br>x=%{x}<br>value=%{y}<extra></extra>\",\"legendgroup\":\"wide_variable_0\",\"line\":{\"color\":\"#636efa\",\"dash\":\"solid\"},\"marker\":{\"symbol\":\"circle\"},\"mode\":\"lines\",\"name\":\"wide_variable_0\",\"orientation\":\"v\",\"showlegend\":true,\"type\":\"scatter\",\"x\":[0.0,0.03,0.06,0.09,0.12,0.15,0.18,0.21,0.24,0.27,0.3,0.32999999999999996,0.36,0.39,0.42,0.44999999999999996,0.48,0.51,0.54,0.57,0.6,0.63,0.6599999999999999,0.69,0.72,0.75,0.78,0.8099999999999999,0.84,0.87,0.8999999999999999,0.9299999999999999,0.96,0.99,1.02,1.05,1.08,1.1099999999999999,1.14,1.17,1.2,1.23,1.26,1.29,1.3199999999999998,1.3499999999999999,1.38,1.41,1.44,1.47,1.5,1.53,1.56,1.5899999999999999,1.6199999999999999,1.65,1.68,1.71,1.74,1.77,1.7999999999999998,1.8299999999999998,1.8599999999999999,1.89,1.92,1.95,1.98,2.01,2.04,2.07,2.1,2.13,2.16,2.19,2.2199999999999998,2.25,2.28,2.31,2.34,2.37,2.4,2.4299999999999997,2.46,2.4899999999999998,2.52,2.55,2.58,2.61,2.6399999999999997,2.67,2.6999999999999997,2.73,2.76,2.79,2.82,2.85,2.88,2.9099999999999997,2.94,2.9699999999999998,3.0],\"xaxis\":\"x\",\"y\":[0.0,0.6544777086660418,0.7521014939212537,0.8161811711529099,0.8653290708127351,0.9059073100554069,0.94091834026466,0.9720357269114969,1.0002942268102186,1.0263807104582219,1.0507752284739444,1.073826567683739,1.0957958673204564,1.116883320927922,1.137245318727704,1.1570058945334818,1.1762646276072324,1.1951022547549817,1.2135847556492652,1.2317663914796975,1.2496920082631355,1.2673988121195674,1.2849177578422324,1.3022746491729338,1.3194910206392434,1.3365848514226277,1.3535711483177162,1.370462425411178,1.3872691013698224,1.4039998303420147,1.42066177888565,1.4372608586621458,1.4538019226202186,1.470288930855552,1.4867250911462104,1.5031129782385326,1.519454635229412,1.5357516598110488,1.5520052776788031,1.568216405025928,1.584385701741448,1.6005136166747214,1.6166004261211244,1.632646266509301,1.6486511621248525,1.6646150485829834,1.6805377926593443,1.6964192090008383,1.7122590741638144,1.7280571383637213,1.743813135266199,1.759526790103279,1.7751978263586603,1.7908259712319594,1.8064109600625242,1.8219525398682028,1.837450472132745,1.8529045349568114,1.8683145246714328,1.8836802569988549,1.8990015678337007,1.9142783137070254,1.9295103719868996,1.944697640861451,1.9598400391436301,1.974937505931231,1.9899900001507447,2.004997500009351,2.0199600023756847,2.0348775221068203,2.049750091336233,2.064577758735097,2.07936058875731,2.0940986608768744,2.1087920688247963,2.123440919831385,2.1380453338787473,2.1526054429673596,2.1671213903997755,2.1815933300839014,2.1960214258576563,2.2104058508363855,2.2247467867839705,2.239044423508245,2.253298958281043,2.2675105952829626,2.2816795450727425,2.295806024080979,2.3098902541277866,2.3239324619639037,2.3379328788346547,2.351891740066129,2.365809284672873,2.3796857549863795,2.393521396303611,2.4073164565548026,2.4210711859897645,2.434785836881929,2.44846066324936,2.4620959205919966,2.4756918656443667],\"yaxis\":\"y\"},{\"hovertemplate\":\"variable=wide_variable_1<br>x=%{x}<br>value=%{y}<extra></extra>\",\"legendgroup\":\"wide_variable_1\",\"line\":{\"color\":\"#EF553B\",\"dash\":\"solid\"},\"marker\":{\"symbol\":\"circle\"},\"mode\":\"lines\",\"name\":\"wide_variable_1\",\"orientation\":\"v\",\"showlegend\":true,\"type\":\"scatter\",\"x\":[0.0,0.03,0.06,0.09,0.12,0.15,0.18,0.21,0.24,0.27,0.3,0.32999999999999996,0.36,0.39,0.42,0.44999999999999996,0.48,0.51,0.54,0.57,0.6,0.63,0.6599999999999999,0.69,0.72,0.75,0.78,0.8099999999999999,0.84,0.87,0.8999999999999999,0.9299999999999999,0.96,0.99,1.02,1.05,1.08,1.1099999999999999,1.14,1.17,1.2,1.23,1.26,1.29,1.3199999999999998,1.3499999999999999,1.38,1.41,1.44,1.47,1.5,1.53,1.56,1.5899999999999999,1.6199999999999999,1.65,1.68,1.71,1.74,1.77,1.7999999999999998,1.8299999999999998,1.8599999999999999,1.89,1.92,1.95,1.98,2.01,2.04,2.07,2.1,2.13,2.16,2.19,2.2199999999999998,2.25,2.28,2.31,2.34,2.37,2.4,2.4299999999999997,2.46,2.4899999999999998,2.52,2.55,2.58,2.61,2.6399999999999997,2.67,2.6999999999999997,2.73,2.76,2.79,2.82,2.85,2.88,2.9099999999999997,2.94,2.9699999999999998,3.0],\"xaxis\":\"x\",\"y\":[1.0,1.0150000000000001,1.03,1.045,1.06,1.075,1.0899999999999999,1.105,1.12,1.135,1.15,1.165,1.18,1.195,1.21,1.225,1.24,1.255,1.27,1.285,1.3,1.315,1.33,1.345,1.3599999999999999,1.375,1.3900000000000001,1.405,1.42,1.435,1.45,1.4649999999999999,1.48,1.495,1.51,1.525,1.54,1.555,1.5699999999999998,1.585,1.6,1.615,1.63,1.645,1.66,1.6749999999999998,1.69,1.705,1.72,1.7349999999999999,1.75,1.7650000000000001,1.78,1.795,1.81,1.825,1.8399999999999999,1.855,1.87,1.885,1.9,1.915,1.93,1.9449999999999998,1.96,1.975,1.99,2.005,2.02,2.035,2.05,2.065,2.08,2.0949999999999998,2.11,2.125,2.1399999999999997,2.1550000000000002,2.17,2.185,2.2,2.215,2.23,2.245,2.26,2.275,2.29,2.3049999999999997,2.32,2.335,2.3499999999999996,2.365,2.38,2.395,2.41,2.425,2.44,2.455,2.4699999999999998,2.485,2.5],\"yaxis\":\"y\"}],                        {\"legend\":{\"title\":{\"text\":\"variable\"},\"tracegroupgap\":0},\"margin\":{\"t\":60},\"template\":{\"data\":{\"bar\":[{\"error_x\":{\"color\":\"#2a3f5f\"},\"error_y\":{\"color\":\"#2a3f5f\"},\"marker\":{\"line\":{\"color\":\"#E5ECF6\",\"width\":0.5},\"pattern\":{\"fillmode\":\"overlay\",\"size\":10,\"solidity\":0.2}},\"type\":\"bar\"}],\"barpolar\":[{\"marker\":{\"line\":{\"color\":\"#E5ECF6\",\"width\":0.5},\"pattern\":{\"fillmode\":\"overlay\",\"size\":10,\"solidity\":0.2}},\"type\":\"barpolar\"}],\"carpet\":[{\"aaxis\":{\"endlinecolor\":\"#2a3f5f\",\"gridcolor\":\"white\",\"linecolor\":\"white\",\"minorgridcolor\":\"white\",\"startlinecolor\":\"#2a3f5f\"},\"baxis\":{\"endlinecolor\":\"#2a3f5f\",\"gridcolor\":\"white\",\"linecolor\":\"white\",\"minorgridcolor\":\"white\",\"startlinecolor\":\"#2a3f5f\"},\"type\":\"carpet\"}],\"choropleth\":[{\"colorbar\":{\"outlinewidth\":0,\"ticks\":\"\"},\"type\":\"choropleth\"}],\"contour\":[{\"colorbar\":{\"outlinewidth\":0,\"ticks\":\"\"},\"colorscale\":[[0.0,\"#0d0887\"],[0.1111111111111111,\"#46039f\"],[0.2222222222222222,\"#7201a8\"],[0.3333333333333333,\"#9c179e\"],[0.4444444444444444,\"#bd3786\"],[0.5555555555555556,\"#d8576b\"],[0.6666666666666666,\"#ed7953\"],[0.7777777777777778,\"#fb9f3a\"],[0.8888888888888888,\"#fdca26\"],[1.0,\"#f0f921\"]],\"type\":\"contour\"}],\"contourcarpet\":[{\"colorbar\":{\"outlinewidth\":0,\"ticks\":\"\"},\"type\":\"contourcarpet\"}],\"heatmap\":[{\"colorbar\":{\"outlinewidth\":0,\"ticks\":\"\"},\"colorscale\":[[0.0,\"#0d0887\"],[0.1111111111111111,\"#46039f\"],[0.2222222222222222,\"#7201a8\"],[0.3333333333333333,\"#9c179e\"],[0.4444444444444444,\"#bd3786\"],[0.5555555555555556,\"#d8576b\"],[0.6666666666666666,\"#ed7953\"],[0.7777777777777778,\"#fb9f3a\"],[0.8888888888888888,\"#fdca26\"],[1.0,\"#f0f921\"]],\"type\":\"heatmap\"}],\"heatmapgl\":[{\"colorbar\":{\"outlinewidth\":0,\"ticks\":\"\"},\"colorscale\":[[0.0,\"#0d0887\"],[0.1111111111111111,\"#46039f\"],[0.2222222222222222,\"#7201a8\"],[0.3333333333333333,\"#9c179e\"],[0.4444444444444444,\"#bd3786\"],[0.5555555555555556,\"#d8576b\"],[0.6666666666666666,\"#ed7953\"],[0.7777777777777778,\"#fb9f3a\"],[0.8888888888888888,\"#fdca26\"],[1.0,\"#f0f921\"]],\"type\":\"heatmapgl\"}],\"histogram\":[{\"marker\":{\"pattern\":{\"fillmode\":\"overlay\",\"size\":10,\"solidity\":0.2}},\"type\":\"histogram\"}],\"histogram2d\":[{\"colorbar\":{\"outlinewidth\":0,\"ticks\":\"\"},\"colorscale\":[[0.0,\"#0d0887\"],[0.1111111111111111,\"#46039f\"],[0.2222222222222222,\"#7201a8\"],[0.3333333333333333,\"#9c179e\"],[0.4444444444444444,\"#bd3786\"],[0.5555555555555556,\"#d8576b\"],[0.6666666666666666,\"#ed7953\"],[0.7777777777777778,\"#fb9f3a\"],[0.8888888888888888,\"#fdca26\"],[1.0,\"#f0f921\"]],\"type\":\"histogram2d\"}],\"histogram2dcontour\":[{\"colorbar\":{\"outlinewidth\":0,\"ticks\":\"\"},\"colorscale\":[[0.0,\"#0d0887\"],[0.1111111111111111,\"#46039f\"],[0.2222222222222222,\"#7201a8\"],[0.3333333333333333,\"#9c179e\"],[0.4444444444444444,\"#bd3786\"],[0.5555555555555556,\"#d8576b\"],[0.6666666666666666,\"#ed7953\"],[0.7777777777777778,\"#fb9f3a\"],[0.8888888888888888,\"#fdca26\"],[1.0,\"#f0f921\"]],\"type\":\"histogram2dcontour\"}],\"mesh3d\":[{\"colorbar\":{\"outlinewidth\":0,\"ticks\":\"\"},\"type\":\"mesh3d\"}],\"parcoords\":[{\"line\":{\"colorbar\":{\"outlinewidth\":0,\"ticks\":\"\"}},\"type\":\"parcoords\"}],\"pie\":[{\"automargin\":true,\"type\":\"pie\"}],\"scatter\":[{\"marker\":{\"colorbar\":{\"outlinewidth\":0,\"ticks\":\"\"}},\"type\":\"scatter\"}],\"scatter3d\":[{\"line\":{\"colorbar\":{\"outlinewidth\":0,\"ticks\":\"\"}},\"marker\":{\"colorbar\":{\"outlinewidth\":0,\"ticks\":\"\"}},\"type\":\"scatter3d\"}],\"scattercarpet\":[{\"marker\":{\"colorbar\":{\"outlinewidth\":0,\"ticks\":\"\"}},\"type\":\"scattercarpet\"}],\"scattergeo\":[{\"marker\":{\"colorbar\":{\"outlinewidth\":0,\"ticks\":\"\"}},\"type\":\"scattergeo\"}],\"scattergl\":[{\"marker\":{\"colorbar\":{\"outlinewidth\":0,\"ticks\":\"\"}},\"type\":\"scattergl\"}],\"scattermapbox\":[{\"marker\":{\"colorbar\":{\"outlinewidth\":0,\"ticks\":\"\"}},\"type\":\"scattermapbox\"}],\"scatterpolar\":[{\"marker\":{\"colorbar\":{\"outlinewidth\":0,\"ticks\":\"\"}},\"type\":\"scatterpolar\"}],\"scatterpolargl\":[{\"marker\":{\"colorbar\":{\"outlinewidth\":0,\"ticks\":\"\"}},\"type\":\"scatterpolargl\"}],\"scatterternary\":[{\"marker\":{\"colorbar\":{\"outlinewidth\":0,\"ticks\":\"\"}},\"type\":\"scatterternary\"}],\"surface\":[{\"colorbar\":{\"outlinewidth\":0,\"ticks\":\"\"},\"colorscale\":[[0.0,\"#0d0887\"],[0.1111111111111111,\"#46039f\"],[0.2222222222222222,\"#7201a8\"],[0.3333333333333333,\"#9c179e\"],[0.4444444444444444,\"#bd3786\"],[0.5555555555555556,\"#d8576b\"],[0.6666666666666666,\"#ed7953\"],[0.7777777777777778,\"#fb9f3a\"],[0.8888888888888888,\"#fdca26\"],[1.0,\"#f0f921\"]],\"type\":\"surface\"}],\"table\":[{\"cells\":{\"fill\":{\"color\":\"#EBF0F8\"},\"line\":{\"color\":\"white\"}},\"header\":{\"fill\":{\"color\":\"#C8D4E3\"},\"line\":{\"color\":\"white\"}},\"type\":\"table\"}]},\"layout\":{\"annotationdefaults\":{\"arrowcolor\":\"#2a3f5f\",\"arrowhead\":0,\"arrowwidth\":1},\"autotypenumbers\":\"strict\",\"coloraxis\":{\"colorbar\":{\"outlinewidth\":0,\"ticks\":\"\"}},\"colorscale\":{\"diverging\":[[0,\"#8e0152\"],[0.1,\"#c51b7d\"],[0.2,\"#de77ae\"],[0.3,\"#f1b6da\"],[0.4,\"#fde0ef\"],[0.5,\"#f7f7f7\"],[0.6,\"#e6f5d0\"],[0.7,\"#b8e186\"],[0.8,\"#7fbc41\"],[0.9,\"#4d9221\"],[1,\"#276419\"]],\"sequential\":[[0.0,\"#0d0887\"],[0.1111111111111111,\"#46039f\"],[0.2222222222222222,\"#7201a8\"],[0.3333333333333333,\"#9c179e\"],[0.4444444444444444,\"#bd3786\"],[0.5555555555555556,\"#d8576b\"],[0.6666666666666666,\"#ed7953\"],[0.7777777777777778,\"#fb9f3a\"],[0.8888888888888888,\"#fdca26\"],[1.0,\"#f0f921\"]],\"sequentialminus\":[[0.0,\"#0d0887\"],[0.1111111111111111,\"#46039f\"],[0.2222222222222222,\"#7201a8\"],[0.3333333333333333,\"#9c179e\"],[0.4444444444444444,\"#bd3786\"],[0.5555555555555556,\"#d8576b\"],[0.6666666666666666,\"#ed7953\"],[0.7777777777777778,\"#fb9f3a\"],[0.8888888888888888,\"#fdca26\"],[1.0,\"#f0f921\"]]},\"colorway\":[\"#636efa\",\"#EF553B\",\"#00cc96\",\"#ab63fa\",\"#FFA15A\",\"#19d3f3\",\"#FF6692\",\"#B6E880\",\"#FF97FF\",\"#FECB52\"],\"font\":{\"color\":\"#2a3f5f\"},\"geo\":{\"bgcolor\":\"white\",\"lakecolor\":\"white\",\"landcolor\":\"#E5ECF6\",\"showlakes\":true,\"showland\":true,\"subunitcolor\":\"white\"},\"hoverlabel\":{\"align\":\"left\"},\"hovermode\":\"closest\",\"mapbox\":{\"style\":\"light\"},\"paper_bgcolor\":\"white\",\"plot_bgcolor\":\"#E5ECF6\",\"polar\":{\"angularaxis\":{\"gridcolor\":\"white\",\"linecolor\":\"white\",\"ticks\":\"\"},\"bgcolor\":\"#E5ECF6\",\"radialaxis\":{\"gridcolor\":\"white\",\"linecolor\":\"white\",\"ticks\":\"\"}},\"scene\":{\"xaxis\":{\"backgroundcolor\":\"#E5ECF6\",\"gridcolor\":\"white\",\"gridwidth\":2,\"linecolor\":\"white\",\"showbackground\":true,\"ticks\":\"\",\"zerolinecolor\":\"white\"},\"yaxis\":{\"backgroundcolor\":\"#E5ECF6\",\"gridcolor\":\"white\",\"gridwidth\":2,\"linecolor\":\"white\",\"showbackground\":true,\"ticks\":\"\",\"zerolinecolor\":\"white\"},\"zaxis\":{\"backgroundcolor\":\"#E5ECF6\",\"gridcolor\":\"white\",\"gridwidth\":2,\"linecolor\":\"white\",\"showbackground\":true,\"ticks\":\"\",\"zerolinecolor\":\"white\"}},\"shapedefaults\":{\"line\":{\"color\":\"#2a3f5f\"}},\"ternary\":{\"aaxis\":{\"gridcolor\":\"white\",\"linecolor\":\"white\",\"ticks\":\"\"},\"baxis\":{\"gridcolor\":\"white\",\"linecolor\":\"white\",\"ticks\":\"\"},\"bgcolor\":\"#E5ECF6\",\"caxis\":{\"gridcolor\":\"white\",\"linecolor\":\"white\",\"ticks\":\"\"}},\"title\":{\"x\":0.05},\"xaxis\":{\"automargin\":true,\"gridcolor\":\"white\",\"linecolor\":\"white\",\"ticks\":\"\",\"title\":{\"standoff\":15},\"zerolinecolor\":\"white\",\"zerolinewidth\":2},\"yaxis\":{\"automargin\":true,\"gridcolor\":\"white\",\"linecolor\":\"white\",\"ticks\":\"\",\"title\":{\"standoff\":15},\"zerolinecolor\":\"white\",\"zerolinewidth\":2}}},\"xaxis\":{\"anchor\":\"y\",\"domain\":[0.0,1.0],\"title\":{\"text\":\"x\"}},\"yaxis\":{\"anchor\":\"x\",\"domain\":[0.0,1.0],\"title\":{\"text\":\"value\"}}},                        {\"responsive\": true}                    ).then(function(){\n",
       "                            \n",
       "var gd = document.getElementById('7d997da8-fc79-48c9-bd59-c69bc6a48cf7');\n",
       "var x = new MutationObserver(function (mutations, observer) {{\n",
       "        var display = window.getComputedStyle(gd).display;\n",
       "        if (!display || display === 'none') {{\n",
       "            console.log([gd, 'removed!']);\n",
       "            Plotly.purge(gd);\n",
       "            observer.disconnect();\n",
       "        }}\n",
       "}});\n",
       "\n",
       "// Listen for the removal of the full notebook cells\n",
       "var notebookContainer = gd.closest('#notebook-container');\n",
       "if (notebookContainer) {{\n",
       "    x.observe(notebookContainer, {childList: true});\n",
       "}}\n",
       "\n",
       "// Listen for the clearing of the current output cell\n",
       "var outputEl = gd.closest('.output');\n",
       "if (outputEl) {{\n",
       "    x.observe(outputEl, {childList: true});\n",
       "}}\n",
       "\n",
       "                        })                };                });            </script>        </div>"
      ]
     },
     "metadata": {},
     "output_type": "display_data"
    }
   ],
   "source": [
    "x_=np.linspace(0,3,101)\n",
    "f_=(3*x_**3+4*x_)**(1/5)\n",
    "y_=2+0.5*(x_-2)\n",
    "ex.line(x=x_,y=[f_,y_])\n"
   ]
  },
  {
   "cell_type": "code",
   "execution_count": 81,
   "metadata": {},
   "outputs": [
    {
     "name": "stdout",
     "output_type": "stream",
     "text": [
      "equation of tangent line at (0,4) is y=4 -0.5 x\n"
     ]
    }
   ],
   "source": [
    "#49\n",
    "l=diff(4-x**2-log(x/2+1),x).subs({x:0})\n",
    "print(\"equation of tangent line at (0,4) is y=4 %.1f x\" %l)"
   ]
  },
  {
   "cell_type": "code",
   "execution_count": 9,
   "metadata": {},
   "outputs": [
    {
     "data": {
      "text/plain": [
       "[-pi/2, pi/6, 5*pi/6]"
      ]
     },
     "execution_count": 9,
     "metadata": {},
     "output_type": "execute_result"
    }
   ],
   "source": [
    "# 52 horizontal tangent line of f\n",
    "f=2*cos(x)+sin(2*x)\n",
    "solve(diff(f,x),x)"
   ]
  },
  {
   "cell_type": "code",
   "execution_count": 12,
   "metadata": {},
   "outputs": [
    {
     "data": {
      "text/plain": [
       "[-31.41592653589793, 31.41592653589793, 101]"
      ]
     },
     "execution_count": 12,
     "metadata": {},
     "output_type": "execute_result"
    }
   ],
   "source": [
    "x_"
   ]
  },
  {
   "cell_type": "code",
   "execution_count": 15,
   "metadata": {},
   "outputs": [
    {
     "data": {
      "application/vnd.plotly.v1+json": {
       "config": {
        "plotlyServerURL": "https://plot.ly"
       },
       "data": [
        {
         "hovertemplate": "x=%{x}<br>y=%{y}<extra></extra>",
         "legendgroup": "",
         "line": {
          "color": "#636efa",
          "dash": "solid"
         },
         "marker": {
          "symbol": "circle"
         },
         "mode": "lines",
         "name": "",
         "showlegend": false,
         "type": "scattergl",
         "x": [
          -31.41592653589793,
          -31.353094682826136,
          -31.29026282975434,
          -31.227430976682545,
          -31.16459912361075,
          -31.10176727053895,
          -31.038935417467155,
          -30.97610356439536,
          -30.913271711323564,
          -30.850439858251768,
          -30.787608005179973,
          -30.724776152108177,
          -30.66194429903638,
          -30.599112445964586,
          -30.53628059289279,
          -30.47344873982099,
          -30.410616886749196,
          -30.3477850336774,
          -30.284953180605605,
          -30.22212132753381,
          -30.159289474462014,
          -30.09645762139022,
          -30.033625768318423,
          -29.970793915246627,
          -29.907962062174832,
          -29.845130209103033,
          -29.782298356031237,
          -29.719466502959442,
          -29.656634649887646,
          -29.59380279681585,
          -29.530970943744055,
          -29.46813909067226,
          -29.405307237600464,
          -29.34247538452867,
          -29.27964353145687,
          -29.216811678385078,
          -29.15397982531328,
          -29.091147972241483,
          -29.028316119169688,
          -28.965484266097892,
          -28.902652413026097,
          -28.8398205599543,
          -28.776988706882506,
          -28.71415685381071,
          -28.651325000738915,
          -28.588493147667116,
          -28.52566129459532,
          -28.462829441523525,
          -28.39999758845173,
          -28.337165735379934,
          -28.274333882308138,
          -28.211502029236343,
          -28.148670176164547,
          -28.08583832309275,
          -28.023006470020952,
          -27.960174616949157,
          -27.89734276387736,
          -27.834510910805566,
          -27.77167905773377,
          -27.708847204661975,
          -27.64601535159018,
          -27.583183498518384,
          -27.52035164544659,
          -27.457519792374793,
          -27.394687939302997,
          -27.3318560862312,
          -27.269024233159403,
          -27.206192380087607,
          -27.143360527015812,
          -27.080528673944016,
          -27.01769682087222,
          -26.954864967800425,
          -26.89203311472863,
          -26.829201261656834,
          -26.766369408585035,
          -26.703537555513243,
          -26.640705702441444,
          -26.57787384936965,
          -26.515041996297853,
          -26.452210143226058,
          -26.389378290154262,
          -26.326546437082467,
          -26.26371458401067,
          -26.200882730938872,
          -26.13805087786708,
          -26.07521902479528,
          -26.012387171723486,
          -25.94955531865169,
          -25.886723465579895,
          -25.8238916125081,
          -25.761059759436304,
          -25.698227906364508,
          -25.635396053292713,
          -25.572564200220917,
          -25.509732347149118,
          -25.446900494077322,
          -25.384068641005527,
          -25.32123678793373,
          -25.258404934861936,
          -25.19557308179014,
          -25.132741228718345,
          -25.06990937564655,
          -25.007077522574754,
          -24.944245669502955,
          -24.881413816431163,
          -24.818581963359364,
          -24.75575011028757,
          -24.692918257215773,
          -24.630086404143977,
          -24.567254551072182,
          -24.504422698000386,
          -24.44159084492859,
          -24.37875899185679,
          -24.315927138785,
          -24.2530952857132,
          -24.190263432641405,
          -24.12743157956961,
          -24.064599726497814,
          -24.00176787342602,
          -23.938936020354223,
          -23.876104167282428,
          -23.813272314210632,
          -23.750440461138837,
          -23.687608608067038,
          -23.624776754995246,
          -23.561944901923447,
          -23.49911304885165,
          -23.436281195779856,
          -23.37344934270806,
          -23.310617489636265,
          -23.24778563656447,
          -23.184953783492674,
          -23.122121930420874,
          -23.059290077349083,
          -22.996458224277283,
          -22.93362637120549,
          -22.870794518133692,
          -22.807962665061897,
          -22.7451308119901,
          -22.682298958918306,
          -22.61946710584651,
          -22.55663525277471,
          -22.49380339970292,
          -22.43097154663112,
          -22.36813969355933,
          -22.30530784048753,
          -22.242475987415734,
          -22.17964413434394,
          -22.116812281272143,
          -22.053980428200347,
          -21.991148575128552,
          -21.928316722056756,
          -21.865484868984957,
          -21.802653015913165,
          -21.739821162841366,
          -21.676989309769574,
          -21.614157456697775,
          -21.55132560362598,
          -21.488493750554184,
          -21.42566189748239,
          -21.362830044410593,
          -21.299998191338794,
          -21.237166338267002,
          -21.174334485195203,
          -21.11150263212341,
          -21.048670779051612,
          -20.985838925979817,
          -20.92300707290802,
          -20.860175219836226,
          -20.79734336676443,
          -20.73451151369263,
          -20.67167966062084,
          -20.60884780754904,
          -20.546015954477248,
          -20.48318410140545,
          -20.420352248333653,
          -20.357520395261858,
          -20.294688542190062,
          -20.231856689118267,
          -20.16902483604647,
          -20.106192982974676,
          -20.043361129902877,
          -19.980529276831085,
          -19.917697423759286,
          -19.854865570687494,
          -19.792033717615695,
          -19.7292018645439,
          -19.666370011472104,
          -19.60353815840031,
          -19.540706305328513,
          -19.477874452256714,
          -19.415042599184922,
          -19.352210746113123,
          -19.28937889304133,
          -19.22654703996953,
          -19.163715186897736,
          -19.10088333382594,
          -19.038051480754145,
          -18.97521962768235,
          -18.912387774610554,
          -18.84955592153876,
          -18.78672406846696,
          -18.723892215395168,
          -18.66106036232337,
          -18.598228509251577,
          -18.535396656179778,
          -18.472564803107982,
          -18.409732950036187,
          -18.34690109696439,
          -18.284069243892596,
          -18.221237390820797,
          -18.158405537749005,
          -18.095573684677206,
          -18.032741831605414,
          -17.969909978533614,
          -17.90707812546182,
          -17.844246272390023,
          -17.781414419318228,
          -17.718582566246432,
          -17.655750713174637,
          -17.59291886010284,
          -17.530087007031042,
          -17.46725515395925,
          -17.40442330088745,
          -17.341591447815656,
          -17.27875959474386,
          -17.215927741672065,
          -17.15309588860027,
          -17.090264035528474,
          -17.02743218245668,
          -16.96460032938488,
          -16.901768476313087,
          -16.83893662324129,
          -16.776104770169496,
          -16.713272917097697,
          -16.6504410640259,
          -16.587609210954106,
          -16.52477735788231,
          -16.461945504810515,
          -16.399113651738716,
          -16.336281798666924,
          -16.273449945595125,
          -16.210618092523333,
          -16.147786239451534,
          -16.08495438637974,
          -16.022122533307943,
          -15.959290680236148,
          -15.896458827164352,
          -15.833626974092557,
          -15.77079512102076,
          -15.707963267948964,
          -15.645131414877168,
          -15.582299561805373,
          -15.519467708733577,
          -15.45663585566178,
          -15.393804002589984,
          -15.330972149518189,
          -15.268140296446393,
          -15.205308443374598,
          -15.142476590302802,
          -15.079644737231007,
          -15.016812884159208,
          -14.953981031087412,
          -14.891149178015617,
          -14.828317324943821,
          -14.765485471872026,
          -14.70265361880023,
          -14.639821765728435,
          -14.57698991265664,
          -14.514158059584844,
          -14.451326206513048,
          -14.38849435344125,
          -14.325662500369454,
          -14.262830647297658,
          -14.199998794225863,
          -14.137166941154067,
          -14.074335088082272,
          -14.011503235010476,
          -13.94867138193868,
          -13.885839528866885,
          -13.82300767579509,
          -13.76017582272329,
          -13.697343969651495,
          -13.6345121165797,
          -13.571680263507904,
          -13.508848410436109,
          -13.446016557364313,
          -13.383184704292518,
          -13.320352851220722,
          -13.257520998148927,
          -13.194689145077131,
          -13.131857292005332,
          -13.069025438933537,
          -13.006193585861741,
          -12.943361732789946,
          -12.88052987971815,
          -12.817698026646354,
          -12.754866173574559,
          -12.692034320502763,
          -12.629202467430968,
          -12.566370614359172,
          -12.503538761287373,
          -12.440706908215578,
          -12.377875055143782,
          -12.315043202071987,
          -12.252211349000191,
          -12.189379495928396,
          -12.1265476428566,
          -12.063715789784805,
          -12.00088393671301,
          -11.938052083641214,
          -11.875220230569415,
          -11.81238837749762,
          -11.749556524425824,
          -11.686724671354028,
          -11.623892818282233,
          -11.561060965210437,
          -11.498229112138642,
          -11.435397259066846,
          -11.37256540599505,
          -11.309733552923255,
          -11.246901699851456,
          -11.18406984677966,
          -11.121237993707865,
          -11.05840614063607,
          -10.995574287564274,
          -10.932742434492479,
          -10.869910581420683,
          -10.807078728348888,
          -10.744246875277092,
          -10.681415022205293,
          -10.618583169133498,
          -10.555751316061702,
          -10.492919462989907,
          -10.430087609918111,
          -10.367255756846316,
          -10.30442390377452,
          -10.241592050702724,
          -10.178760197630929,
          -10.115928344559133,
          -10.053096491487334,
          -9.990264638415539,
          -9.927432785343743,
          -9.864600932271948,
          -9.801769079200152,
          -9.738937226128357,
          -9.676105373056561,
          -9.613273519984766,
          -9.55044166691297,
          -9.487609813841175,
          -9.424777960769376,
          -9.36194610769758,
          -9.299114254625785,
          -9.23628240155399,
          -9.173450548482194,
          -9.110618695410398,
          -9.047786842338603,
          -8.984954989266807,
          -8.922123136195012,
          -8.859291283123216,
          -8.796459430051417,
          -8.733627576979622,
          -8.670795723907826,
          -8.60796387083603,
          -8.545132017764235,
          -8.48230016469244,
          -8.419468311620644,
          -8.356636458548849,
          -8.293804605477053,
          -8.230972752405258,
          -8.168140899333459,
          -8.105309046261663,
          -8.042477193189868,
          -7.979645340118072,
          -7.9168134870462765,
          -7.853981633974481,
          -7.7911497809026855,
          -7.72831792783089,
          -7.6654860747590945,
          -7.602654221687299,
          -7.5398223686155,
          -7.476990515543704,
          -7.414158662471909,
          -7.351326809400113,
          -7.288494956328318,
          -7.225663103256522,
          -7.162831250184727,
          -7.099999397112931,
          -7.037167544041136,
          -6.974335690969337,
          -6.911503837897541,
          -6.848671984825746,
          -6.78584013175395,
          -6.723008278682155,
          -6.660176425610359,
          -6.597344572538564,
          -6.534512719466768,
          -6.471680866394973,
          -6.408849013323177,
          -6.346017160251378,
          -6.283185307179583,
          -6.220353454107787,
          -6.157521601035992,
          -6.094689747964196,
          -6.031857894892401,
          -5.969026041820605,
          -5.90619418874881,
          -5.843362335677014,
          -5.780530482605219,
          -5.71769862953342,
          -5.654866776461624,
          -5.5920349233898285,
          -5.529203070318033,
          -5.4663712172462375,
          -5.403539364174442,
          -5.3407075111026465,
          -5.277875658030851,
          -5.2150438049590555,
          -5.15221195188726,
          -5.089380098815461,
          -5.026548245743665,
          -4.96371639267187,
          -4.900884539600074,
          -4.838052686528279,
          -4.775220833456483,
          -4.712388980384688,
          -4.649557127312892,
          -4.586725274241097,
          -4.523893421169301,
          -4.461061568097502,
          -4.398229715025707,
          -4.335397861953911,
          -4.272566008882116,
          -4.20973415581032,
          -4.146902302738525,
          -4.084070449666729,
          -4.021238596594934,
          -3.9584067435231383,
          -3.8955748904513428,
          -3.8327430373795437,
          -3.769911184307748,
          -3.7070793312359527,
          -3.644247478164157,
          -3.5814156250923617,
          -3.518583772020566,
          -3.4557519189487707,
          -3.392920065876975,
          -3.3300882128051796,
          -3.2672563597333806,
          -3.204424506661585,
          -3.1415926535897896,
          -3.078760800517994,
          -3.0159289474461985,
          -2.953097094374403,
          -2.8902652413026075,
          -2.827433388230812,
          -2.7646015351590165,
          -2.701769682087221,
          -2.638937829015422,
          -2.5761059759436264,
          -2.513274122871831,
          -2.4504422698000354,
          -2.38761041672824,
          -2.3247785636564444,
          -2.261946710584649,
          -2.1991148575128534,
          -2.136283004441058,
          -2.0734511513692624,
          -2.0106192982974633,
          -1.9477874452256678,
          -1.8849555921538723,
          -1.8221237390820768,
          -1.7592918860102813,
          -1.6964600329384858,
          -1.6336281798666903,
          -1.5707963267948948,
          -1.5079644737230993,
          -1.4451326206513038,
          -1.3823007675795047,
          -1.3194689145077092,
          -1.2566370614359137,
          -1.1938052083641182,
          -1.1309733552923227,
          -1.0681415022205272,
          -1.0053096491487317,
          -0.9424777960769362,
          -0.8796459430051407,
          -0.8168140899333451,
          -0.7539822368615461,
          -0.6911503837897506,
          -0.6283185307179551,
          -0.5654866776461596,
          -0.5026548245743641,
          -0.43982297150256855,
          -0.37699111843077304,
          -0.31415926535897754,
          -0.25132741228718203,
          -0.18849555921538652,
          -0.12566370614358746,
          -0.06283185307179195,
          3.552713678800501e-15,
          0.06283185307179906,
          0.12566370614359457,
          0.18849555921539007,
          0.2513274122871856,
          0.3141592653589811,
          0.3769911184307766,
          0.4398229715025721,
          0.5026548245743712,
          0.5654866776461667,
          0.6283185307179622,
          0.6911503837897541,
          0.7539822368615532,
          0.8168140899333522,
          0.8796459430051442,
          0.9424777960769433,
          1.0053096491487352,
          1.0681415022205343,
          1.1309733552923262,
          1.1938052083641253,
          1.2566370614359172,
          1.3194689145077163,
          1.3823007675795154,
          1.4451326206513073,
          1.5079644737231064,
          1.5707963267948983,
          1.6336281798666974,
          1.6964600329384893,
          1.7592918860102884,
          1.8221237390820804,
          1.8849555921538794,
          1.9477874452256714,
          2.0106192982974704,
          2.0734511513692695,
          2.1362830044410615,
          2.1991148575128605,
          2.2619467105846525,
          2.3247785636564515,
          2.3876104167282435,
          2.4504422698000425,
          2.5132741228718345,
          2.5761059759436336,
          2.6389378290154326,
          2.7017696820872246,
          2.7646015351590236,
          2.8274333882308156,
          2.8902652413026146,
          2.9530970943744066,
          3.0159289474462057,
          3.0787608005179976,
          3.1415926535897967,
          3.2044245066615886,
          3.2672563597333877,
          3.3300882128051867,
          3.3929200658769787,
          3.4557519189487778,
          3.5185837720205697,
          3.5814156250923688,
          3.6442474781641607,
          3.70707933123596,
          3.7699111843077517,
          3.832743037379551,
          3.89557489045135,
          3.958406743523142,
          4.021238596594941,
          4.084070449666733,
          4.146902302738532,
          4.209734155810324,
          4.272566008882123,
          4.335397861953915,
          4.398229715025714,
          4.461061568097506,
          4.523893421169305,
          4.586725274241104,
          4.649557127312896,
          4.712388980384695,
          4.775220833456487,
          4.838052686528286,
          4.900884539600078,
          4.963716392671877,
          5.026548245743669,
          5.089380098815468,
          5.152211951887267,
          5.215043804959059,
          5.277875658030858,
          5.34070751110265,
          5.403539364174449,
          5.466371217246241,
          5.52920307031804,
          5.592034923389832,
          5.654866776461631,
          5.71769862953343,
          5.780530482605222,
          5.843362335677021,
          5.906194188748813,
          5.969026041820612,
          6.031857894892404,
          6.094689747964203,
          6.157521601035995,
          6.220353454107794,
          6.283185307179586,
          6.346017160251385,
          6.408849013323184,
          6.471680866394976,
          6.534512719466775,
          6.597344572538567,
          6.660176425610366,
          6.723008278682158,
          6.785840131753957,
          6.848671984825749,
          6.911503837897548,
          6.9743356909693475,
          7.037167544041139,
          7.0999993971129385,
          7.16283125018473,
          7.2256631032565295,
          7.2884949563283215,
          7.3513268094001205,
          7.4141586624719125,
          7.4769905155437115,
          7.5398223686155035,
          7.6026542216873025,
          7.665486074759102,
          7.7283179278308936,
          7.791149780902693,
          7.853981633974485,
          7.916813487046284,
          7.979645340118076,
          8.042477193189875,
          8.105309046261667,
          8.168140899333466,
          8.230972752405265,
          8.293804605477057,
          8.356636458548856,
          8.419468311620648,
          8.482300164692447,
          8.545132017764239,
          8.607963870836038,
          8.67079572390783,
          8.733627576979629,
          8.79645943005142,
          8.85929128312322,
          8.922123136195019,
          8.98495498926681,
          9.04778684233861,
          9.110618695410402,
          9.1734505484822,
          9.236282401553993,
          9.299114254625792,
          9.361946107697584,
          9.424777960769383,
          9.487609813841182,
          9.550441666912974,
          9.613273519984773,
          9.676105373056565,
          9.738937226128364,
          9.801769079200156,
          9.864600932271955,
          9.927432785343747,
          9.990264638415546,
          10.053096491487345,
          10.115928344559137,
          10.178760197630936,
          10.241592050702728,
          10.304423903774527,
          10.367255756846319,
          10.430087609918118,
          10.49291946298991,
          10.55575131606171,
          10.618583169133501,
          10.6814150222053,
          10.7442468752771,
          10.807078728348891,
          10.86991058142069,
          10.932742434492482,
          10.995574287564281,
          11.058406140636073,
          11.121237993707872,
          11.184069846779664,
          11.246901699851463,
          11.309733552923262,
          11.372565405995054,
          11.435397259066853,
          11.498229112138645,
          11.561060965210444,
          11.623892818282236,
          11.686724671354035,
          11.749556524425827,
          11.812388377497626,
          11.875220230569418,
          11.938052083641217,
          12.000883936713016,
          12.063715789784808,
          12.126547642856607,
          12.1893794959284,
          12.252211349000198,
          12.31504320207199,
          12.37787505514379,
          12.440706908215581,
          12.50353876128738,
          12.56637061435918,
          12.629202467430972,
          12.69203432050277,
          12.754866173574563,
          12.817698026646362,
          12.880529879718154,
          12.943361732789953,
          13.006193585861745,
          13.069025438933544,
          13.131857292005343,
          13.194689145077135,
          13.257520998148934,
          13.320352851220726,
          13.383184704292525,
          13.446016557364317,
          13.508848410436116,
          13.571680263507908,
          13.634512116579707,
          13.697343969651499,
          13.760175822723298,
          13.823007675795097,
          13.885839528866889,
          13.948671381938688,
          14.01150323501048,
          14.074335088082279,
          14.13716694115407,
          14.19999879422587,
          14.262830647297662,
          14.32566250036946,
          14.38849435344126,
          14.451326206513052,
          14.514158059584851,
          14.576989912656643,
          14.639821765728442,
          14.702653618800234,
          14.765485471872033,
          14.828317324943825,
          14.891149178015624,
          14.953981031087416,
          15.016812884159215,
          15.079644737231014,
          15.142476590302806,
          15.205308443374605,
          15.268140296446397,
          15.330972149518196,
          15.393804002589988,
          15.456635855661787,
          15.519467708733579,
          15.582299561805378,
          15.645131414877177,
          15.70796326794897,
          15.770795121020768,
          15.83362697409256,
          15.89645882716436,
          15.959290680236151,
          16.02212253330795,
          16.084954386379742,
          16.14778623945154,
          16.210618092523333,
          16.273449945595132,
          16.33628179866693,
          16.399113651738723,
          16.461945504810522,
          16.524777357882314,
          16.587609210954113,
          16.650441064025905,
          16.713272917097704,
          16.776104770169496,
          16.838936623241295,
          16.901768476313094,
          16.964600329384886,
          17.027432182456685,
          17.090264035528477,
          17.153095888600276,
          17.21592774167207,
          17.278759594743867,
          17.34159144781566,
          17.40442330088746,
          17.467255153959258,
          17.53008700703105,
          17.59291886010285,
          17.65575071317464,
          17.71858256624644,
          17.78141441931823,
          17.84424627239003,
          17.907078125461823,
          17.96990997853362,
          18.032741831605414,
          18.095573684677213,
          18.15840553774901,
          18.221237390820804,
          18.284069243892603,
          18.346901096964395,
          18.409732950036194,
          18.472564803107986,
          18.535396656179785,
          18.598228509251577,
          18.661060362323376,
          18.723892215395175,
          18.786724068466967,
          18.849555921538766,
          18.912387774610558,
          18.975219627682357,
          19.03805148075415,
          19.100883333825948,
          19.16371518689774,
          19.22654703996954,
          19.28937889304133,
          19.35221074611313,
          19.41504259918493,
          19.47787445225672,
          19.54070630532852,
          19.603538158400312,
          19.66637001147211,
          19.729201864543903,
          19.792033717615702,
          19.854865570687494,
          19.917697423759293,
          19.980529276831092,
          20.043361129902884,
          20.106192982974683,
          20.169024836046475,
          20.231856689118274,
          20.294688542190066,
          20.357520395261865,
          20.420352248333657,
          20.483184101405456,
          20.546015954477248,
          20.608847807549047,
          20.671679660620846,
          20.734511513692638,
          20.797343366764437,
          20.86017521983623,
          20.923007072908028,
          20.98583892597982,
          21.04867077905162,
          21.11150263212341,
          21.17433448519521,
          21.23716633826701,
          21.2999981913388,
          21.3628300444106,
          21.425661897482392,
          21.48849375055419,
          21.551325603625983,
          21.614157456697782,
          21.676989309769574,
          21.739821162841373,
          21.802653015913172,
          21.865484868984964,
          21.928316722056763,
          21.991148575128555,
          22.053980428200354,
          22.116812281272146,
          22.179644134343945,
          22.242475987415737,
          22.305307840487536,
          22.36813969355933,
          22.430971546631127,
          22.493803399702927,
          22.55663525277472,
          22.619467105846518,
          22.68229895891831,
          22.74513081199011,
          22.8079626650619,
          22.8707945181337,
          22.93362637120549,
          22.99645822427729,
          23.05929007734909,
          23.12212193042088,
          23.18495378349268,
          23.247785636564473,
          23.31061748963627,
          23.373449342708064,
          23.436281195779863,
          23.499113048851655,
          23.561944901923454,
          23.624776754995246,
          23.687608608067045,
          23.750440461138844,
          23.813272314210636,
          23.876104167282435,
          23.938936020354227,
          24.001767873426026,
          24.064599726497818,
          24.127431579569617,
          24.19026343264141,
          24.253095285713208,
          24.315927138785007,
          24.3787589918568,
          24.441590844928598,
          24.50442269800039,
          24.56725455107219,
          24.63008640414398,
          24.69291825721578,
          24.755750110287572,
          24.81858196335937,
          24.88141381643117,
          24.944245669502962,
          25.00707752257476,
          25.069909375646553,
          25.132741228718352,
          25.195573081790144,
          25.258404934861943,
          25.321236787933735,
          25.384068641005534,
          25.446900494077326,
          25.509732347149125,
          25.572564200220924,
          25.635396053292716,
          25.698227906364515,
          25.761059759436307,
          25.823891612508106,
          25.886723465579898,
          25.949555318651697,
          26.01238717172349,
          26.075219024795288,
          26.138050877867087,
          26.20088273093888,
          26.26371458401068,
          26.32654643708247,
          26.38937829015427,
          26.45221014322606,
          26.51504199629786,
          26.577873849369652,
          26.64070570244145,
          26.703537555513243,
          26.766369408585042,
          26.82920126165684,
          26.892033114728633,
          26.954864967800432,
          27.017696820872224,
          27.080528673944023,
          27.143360527015815,
          27.206192380087614,
          27.269024233159406,
          27.331856086231205,
          27.394687939303004,
          27.457519792374796,
          27.520351645446596,
          27.583183498518387,
          27.646015351590187,
          27.70884720466198,
          27.771679057733778,
          27.83451091080557,
          27.89734276387737,
          27.96017461694916,
          28.02300647002096,
          28.08583832309276,
          28.14867017616455,
          28.21150202923635,
          28.27433388230814,
          28.33716573537994,
          28.399997588451733,
          28.46282944152353,
          28.525661294595324,
          28.588493147667123,
          28.65132500073892,
          28.714156853810714,
          28.776988706882513,
          28.839820559954305,
          28.902652413026104,
          28.965484266097896,
          29.028316119169695,
          29.091147972241487,
          29.153979825313286,
          29.216811678385085,
          29.279643531456877,
          29.342475384528676,
          29.405307237600468,
          29.468139090672267,
          29.53097094374406,
          29.593802796815858,
          29.65663464988765,
          29.71946650295945,
          29.78229835603124,
          29.84513020910304,
          29.90796206217484,
          29.97079391524663,
          30.03362576831843,
          30.096457621390222,
          30.15928947446202,
          30.222121327533813,
          30.284953180605612,
          30.347785033677404,
          30.410616886749203,
          30.473448739821002,
          30.536280592892794,
          30.599112445964593,
          30.661944299036385,
          30.724776152108184,
          30.787608005179976,
          30.850439858251775,
          30.913271711323567,
          30.976103564395366,
          31.038935417467158,
          31.101767270538957,
          31.164599123610756,
          31.227430976682548,
          31.290262829754347,
          31.35309468282614,
          31.41592653589793
         ],
         "xaxis": "x",
         "y": [
          2.0000000000000027,
          2.121386690420849,
          2.2329192897938115,
          2.3326990541420556,
          2.4189199963589774,
          2.4898982848827833,
          2.5441000777051936,
          2.580167347707829,
          2.5969412855897427,
          2.5934829034700493,
          2.5690905050450477,
          2.5233137362802665,
          2.455963983271094,
          2.367120940285649,
          2.2571352302260688,
          2.1266270208800933,
          1.9764806424240062,
          1.8078352737054393,
          1.6220718259059286,
          1.4207962112980395,
          1.2058192410423638,
          0.9791334484314218,
          0.7428871818561255,
          0.49935635429346287,
          0.250914272622932,
          -1.1759085194360944e-14,
          -0.2509142726229413,
          -0.499356354293472,
          -0.7428871818561343,
          -0.9791334484314305,
          -1.205819241042372,
          -1.4207962112980472,
          -1.6220718259059357,
          -1.8078352737054457,
          -1.976480642424021,
          -2.1266270208800986,
          -2.2571352302260728,
          -2.3671209402856523,
          -2.455963983271097,
          -2.5233137362802687,
          -2.569090505045049,
          -2.5934829034700497,
          -2.5969412855897422,
          -2.580167347707828,
          -2.544100077705192,
          -2.489898284882777,
          -2.4189199963589743,
          -2.332699054142052,
          -2.2329192897938075,
          -2.1213866904208447,
          -1.9999999999999978,
          -1.8707202232922375,
          -1.7355395154641,
          -1.5964499487726993,
          -1.4554126481555396,
          -1.3143277802978275,
          -1.1750058658478086,
          -1.0391408621562452,
          -0.9082854345857084,
          -0.7838287985380078,
          -0.6669774724547393,
          -0.5587392348228887,
          -0.4599105264145511,
          -0.3710674834291059,
          -0.2925607287686911,
          -0.22451398828978997,
          -0.16682653749197174,
          -0.11917942270141402,
          -0.08104534035435507,
          -0.05170199944066667,
          -0.030248736457421432,
          -0.015626100227994155,
          -0.006638076486771283,
          -0.001976579963753722,
          -0.0002478054943224617,
          0,
          0.00024780549432254495,
          0.001976579963753805,
          0.006638076486771449,
          0.0156261002279946,
          0.030248736457421987,
          0.051701999440667556,
          0.08104534035435629,
          0.11917942270141779,
          0.1668265374919733,
          0.2245139882897954,
          0.29256072876869343,
          0.37106748342910856,
          0.459910526414554,
          0.5587392348228921,
          0.666977472454743,
          0.7838287985380118,
          0.9082854345857126,
          1.0391408621562497,
          1.175005865847821,
          1.3143277802978401,
          1.4554126481555525,
          1.596449948772704,
          1.7355395154641045,
          1.8707202232922417,
          2.0000000000000018,
          2.1213866904208487,
          2.232919289793811,
          2.3326990541420605,
          2.418919996358977,
          2.4898982848827833,
          2.544100077705193,
          2.580167347707829,
          2.5969412855897422,
          2.5934829034700497,
          2.569090505045048,
          2.5233137362802665,
          2.45596398327109,
          2.3671209402856492,
          2.257135230226062,
          2.1266270208800937,
          1.976480642424007,
          1.80783527370544,
          1.6220718259059295,
          1.4207962112980401,
          1.2058192410423647,
          0.9791334484314227,
          0.7428871818561265,
          0.49935635429344993,
          0.250914272622933,
          -1.0779367755043061e-14,
          -0.2509142726229403,
          -0.499356354293471,
          -0.7428871818561333,
          -0.9791334484314296,
          -1.2058192410423714,
          -1.4207962112980463,
          -1.6220718259059461,
          -1.807835273705445,
          -1.9764806424240202,
          -2.1266270208800977,
          -2.2571352302260728,
          -2.367120940285652,
          -2.4559639832710967,
          -2.5233137362802682,
          -2.569090505045049,
          -2.5934829034700506,
          -2.5969412855897422,
          -2.580167347707827,
          -2.544100077705192,
          -2.489898284882778,
          -2.4189199963589747,
          -2.3326990541420525,
          -2.2329192897938075,
          -2.121386690420845,
          -1.9999999999999982,
          -1.870720223292238,
          -1.7355395154640927,
          -1.5964499487726997,
          -1.4554126481555403,
          -1.3143277802978361,
          -1.175005865847809,
          -1.0391408621562457,
          -0.9082854345857089,
          -0.7838287985380082,
          -0.6669774724547397,
          -0.558739234822883,
          -0.4599105264145511,
          -0.37106748342910145,
          -0.29256072876869144,
          -0.22451398828979008,
          -0.16682653749197196,
          -0.11917942270141424,
          -0.08104534035435529,
          -0.05170199944066689,
          -0.030248736457420433,
          -0.01562610022799421,
          -0.00663807648677095,
          -0.001976579963753722,
          -0.00024780549432248944,
          0,
          0.0002478054943225172,
          0.0019765799637537773,
          0.006638076486771449,
          0.01562610022799449,
          0.030248736457421987,
          0.05170199944066878,
          0.08104534035435607,
          0.11917942270141757,
          0.16682653749197318,
          0.22451398828979507,
          0.2925607287686933,
          0.3710674834291081,
          0.45991052641455377,
          0.5587392348228916,
          0.6669774724547491,
          0.7838287985380115,
          0.9082854345857195,
          1.0391408621562492,
          1.1750058658478204,
          1.3143277802978397,
          1.4554126481555518,
          1.5964499487727035,
          1.735539515464104,
          1.8707202232922413,
          2.0000000000000013,
          2.121386690420855,
          2.2329192897938106,
          2.33269905414206,
          2.4189199963589765,
          2.4898982848827824,
          2.5441000777051928,
          2.580167347707829,
          2.5969412855897422,
          2.5934829034700497,
          2.569090505045046,
          2.523313736280267,
          2.45596398327109,
          2.3671209402856492,
          2.2571352302260625,
          2.126627020880094,
          1.9764806424240073,
          1.8078352737054408,
          1.6220718259059304,
          1.420796211298041,
          1.2058192410423656,
          0.9791334484314106,
          0.7428871818561273,
          0.49935635429345093,
          0.25091427262291977,
          -9.799650315725178e-15,
          -0.25091427262293936,
          -0.49935635429347003,
          -0.7428871818561325,
          -0.9791334484314286,
          -1.205819241042383,
          -1.4207962112980455,
          -1.6220718259059455,
          -1.8078352737054444,
          -1.9764806424240198,
          -2.1266270208801052,
          -2.257135230226072,
          -2.367120940285652,
          -2.455963983271096,
          -2.5233137362802713,
          -2.569090505045049,
          -2.5934829034700506,
          -2.5969412855897422,
          -2.5801673477078273,
          -2.5441000777051896,
          -2.489898284882778,
          -2.418919996358975,
          -2.332699054142053,
          -2.2329192897938084,
          -2.1213866904208425,
          -1.9999999999999951,
          -1.8707202232922346,
          -1.7355395154640973,
          -1.5964499487726964,
          -1.4554126481555407,
          -1.3143277802978286,
          -1.1750058658478097,
          -1.0391408621562463,
          -0.9082854345857094,
          -0.7838287985380087,
          -0.66697747245474,
          -0.5587392348228836,
          -0.4599105264145462,
          -0.37106748342910156,
          -0.29256072876868766,
          -0.2245139882897904,
          -0.16682653749197196,
          -0.11917942270141435,
          -0.08104534035435529,
          -0.05170199944066689,
          -0.030248736457421543,
          -0.0156261002279936,
          -0.00663807648677095,
          -0.001976579963753583,
          -0.00024780549432248944,
          0,
          0.0002478054943225172,
          0.0019765799637537496,
          0.006638076486771449,
          0.015626100227994433,
          0.030248736457421876,
          0.05170199944066878,
          0.08104534035435795,
          0.11917942270141757,
          0.16682653749197596,
          0.22451398828979507,
          0.292560728768693,
          0.3710674834291079,
          0.4599105264145532,
          0.558739234822891,
          0.6669774724547421,
          0.7838287985380178,
          0.9082854345857188,
          1.0391408621562561,
          1.1750058658478197,
          1.3143277802978393,
          1.4554126481555514,
          1.5964499487727029,
          1.7355395154641036,
          1.8707202232922409,
          2.000000000000001,
          2.121386690420854,
          2.232919289793816,
          2.3326990541420596,
          2.418919996358981,
          2.4898982848827824,
          2.5441000777051928,
          2.580167347707829,
          2.5969412855897422,
          2.5934829034700497,
          2.5690905050450485,
          2.523313736280264,
          2.455963983271091,
          2.3671209402856443,
          2.257135230226063,
          2.126627020880095,
          1.9764806424240078,
          1.8078352737054413,
          1.622071825905931,
          1.420796211298042,
          1.2058192410423665,
          0.9791334484314114,
          0.7428871818561147,
          0.49935635429345193,
          0.25091427262292076,
          -8.819932876407297e-15,
          -0.25091427262293836,
          -0.49935635429346903,
          -0.7428871818561316,
          -0.9791334484314278,
          -1.205819241042382,
          -1.4207962112980566,
          -1.6220718259059446,
          -1.8078352737054537,
          -1.9764806424240193,
          -2.126627020880105,
          -2.2571352302260714,
          -2.367120940285651,
          -2.4559639832710958,
          -2.523313736280268,
          -2.5690905050450503,
          -2.5934829034700506,
          -2.596941285589742,
          -2.5801673477078273,
          -2.5441000777051896,
          -2.489898284882778,
          -2.418919996358975,
          -2.3326990541420534,
          -2.232919289793809,
          -2.121386690420846,
          -1.9999999999999922,
          -1.8707202232922313,
          -1.7355395154640938,
          -1.596449948772693,
          -1.4554126481555414,
          -1.314327780297829,
          -1.17500586584781,
          -1.0391408621562468,
          -0.9082854345857101,
          -0.7838287985380094,
          -0.6669774724547343,
          -0.558739234822884,
          -0.45991052641454666,
          -0.371067483429102,
          -0.29256072876868777,
          -0.2245139882897904,
          -0.16682653749197218,
          -0.11917942270141457,
          -0.08104534035435551,
          -0.051701999440667,
          -0.030248736457420655,
          -0.015626100227993656,
          -0.00663807648677095,
          -0.001976579963753583,
          -0.00024780549432248944,
          0,
          0.0002478054943225172,
          0.0019765799637537496,
          0.006638076486771449,
          0.015626100227994377,
          0.030248736457422876,
          0.05170199944066867,
          0.08104534035435773,
          0.11917942270141735,
          0.16682653749197573,
          0.22451398828979474,
          0.2925607287686929,
          0.37106748342910745,
          0.459910526414553,
          0.5587392348228967,
          0.6669774724547481,
          0.7838287985380173,
          0.9082854345857183,
          1.0391408621562557,
          1.1750058658478193,
          1.3143277802978384,
          1.4554126481555507,
          1.5964499487727024,
          1.7355395154641031,
          1.8707202232922475,
          2.0000000000000075,
          2.1213866904208536,
          2.2329192897938155,
          2.3326990541420596,
          2.4189199963589805,
          2.4898982848827824,
          2.5441000777051928,
          2.580167347707829,
          2.5969412855897422,
          2.593482903470049,
          2.5690905050450463,
          2.5233137362802642,
          2.455963983271091,
          2.367120940285645,
          2.2571352302260634,
          2.126627020880095,
          1.9764806424240087,
          1.8078352737054422,
          1.6220718259059317,
          1.420796211298031,
          1.205819241042355,
          0.9791334484314125,
          0.7428871818561156,
          0.49935635429345276,
          0.25091427262292176,
          -7.840215437089414e-15,
          -0.25091427262293736,
          -0.49935635429346814,
          -0.7428871818561307,
          -0.9791334484314399,
          -1.2058192410423811,
          -1.4207962112980557,
          -1.6220718259059437,
          -1.8078352737054533,
          -1.9764806424240184,
          -2.126627020880104,
          -2.257135230226071,
          -2.367120940285651,
          -2.4559639832710958,
          -2.523313736280271,
          -2.5690905050450503,
          -2.5934829034700506,
          -2.596941285589742,
          -2.5801673477078273,
          -2.54410007770519,
          -2.4898982848827784,
          -2.4189199963589756,
          -2.332699054142054,
          -2.232919289793803,
          -2.12138669042084,
          -1.9999999999999927,
          -1.8707202232922318,
          -1.7355395154640942,
          -1.5964499487726935,
          -1.4554126481555418,
          -1.31432778029783,
          -1.1750058658478109,
          -1.0391408621562472,
          -0.9082854345857032,
          -0.783828798538003,
          -0.6669774724547346,
          -0.5587392348228843,
          -0.4599105264145472,
          -0.37106748342910223,
          -0.2925607287686881,
          -0.22451398828979074,
          -0.1668265374919724,
          -0.11917942270141457,
          -0.08104534035435373,
          -0.05170199944066567,
          -0.030248736457420655,
          -0.01562610022799371,
          -0.006638076486771005,
          -0.0019765799637535553,
          -0.00024780549432248944,
          0,
          0.0002478054943225172,
          0.001976579963753722,
          0.006638076486771782,
          0.015626100227995043,
          0.030248736457422765,
          0.051701999440668556,
          0.08104534035435762,
          0.11917942270141724,
          0.16682653749197573,
          0.22451398828979474,
          0.29256072876869244,
          0.37106748342910734,
          0.4599105264145579,
          0.5587392348228962,
          0.6669774724547478,
          0.7838287985380169,
          0.9082854345857181,
          1.039140862156255,
          1.1750058658478189,
          1.314327780297838,
          1.4554126481555503,
          1.5964499487727017,
          1.7355395154641102,
          1.870720223292247,
          2.000000000000007,
          2.121386690420853,
          2.232919289793815,
          2.3326990541420587,
          2.41891999635898,
          2.489898284882782,
          2.5441000777051928,
          2.580167347707829,
          2.5969412855897427,
          2.593482903470049,
          2.5690905050450463,
          2.5233137362802673,
          2.455963983271091,
          2.3671209402856395,
          2.2571352302260643,
          2.126627020880088,
          1.9764806424240096,
          1.8078352737054328,
          1.6220718259059326,
          1.4207962112980317,
          1.2058192410423683,
          0.9791334484314133,
          0.7428871818561029,
          0.4993563542934537,
          0.25091427262290855,
          -6.8604979977715316e-15,
          -0.2509142726229506,
          -0.4993563542934672,
          -0.7428871818561433,
          -0.9791334484314259,
          -1.2058192410423803,
          -1.4207962112980432,
          -1.6220718259059432,
          -1.8078352737054624,
          -1.976480642424018,
          -2.1266270208801115,
          -2.2571352302260705,
          -2.367120940285656,
          -2.4559639832710953,
          -2.5233137362802704,
          -2.5690905050450485,
          -2.5934829034700506,
          -2.5969412855897414,
          -2.5801673477078273,
          -2.5441000777051874,
          -2.489898284882779,
          -2.418919996358971,
          -2.332699054142054,
          -2.2329192897938035,
          -2.121386690420847,
          -1.9999999999999931,
          -1.8707202232922397,
          -1.7355395154640951,
          -1.5964499487726862,
          -1.4554126481555425,
          -1.3143277802978224,
          -1.1750058658478113,
          -1.0391408621562404,
          -0.9082854345857109,
          -0.7838287985380035,
          -0.6669774724547415,
          -0.5587392348228847,
          -0.4599105264145421,
          -0.3710674834291027,
          -0.29256072876868444,
          -0.22451398828979108,
          -0.16682653749196963,
          -0.11917942270141502,
          -0.08104534035435385,
          -0.05170199944066711,
          -0.030248736457420766,
          -0.015626100227994433,
          -0.006638076486771005,
          -0.0019765799637534165,
          -0.00024780549432248944,
          0,
          0.0002478054943225172,
          0.001976579963753944,
          0.006638076486771338,
          0.015626100227994988,
          0.030248736457421654,
          0.051701999440668445,
          0.0810453403543594,
          0.11917942270141701,
          0.16682653749197818,
          0.2245139882897942,
          0.2925607287686961,
          0.3710674834291069,
          0.45991052641455765,
          0.5587392348228901,
          0.6669774724547474,
          0.7838287985380232,
          0.9082854345857173,
          1.0391408621562621,
          1.1750058658478184,
          1.3143277802978455,
          1.4554126481555496,
          1.596449948772709,
          1.7355395154641018,
          1.8707202232922466,
          1.9999999999999996,
          2.1213866904208527,
          2.232919289793821,
          2.3326990541420587,
          2.4189199963589845,
          2.4898982848827815,
          2.544100077705195,
          2.5801673477078286,
          2.5969412855897427,
          2.5934829034700497,
          2.5690905050450468,
          2.523313736280261,
          2.4559639832710913,
          2.36712094028564,
          2.2571352302260648,
          2.1266270208800884,
          1.97648064242401,
          1.8078352737054333,
          1.6220718259059332,
          1.4207962112980326,
          1.2058192410423691,
          0.9791334484314143,
          0.7428871818561038,
          0.4993563542934547,
          0.25091427262290955,
          -5.880780558453649e-15,
          -0.2509142726229496,
          -0.49935635429346625,
          -0.7428871818561423,
          -0.9791334484314249,
          -1.2058192410423794,
          -1.4207962112980659,
          -1.6220718259059423,
          -1.8078352737054617,
          -1.976480642424017,
          -2.126627020880111,
          -2.25713523022607,
          -2.367120940285656,
          -2.4559639832710953,
          -2.5233137362802704,
          -2.569090505045048,
          -2.5934829034700506,
          -2.5969412855897414,
          -2.5801673477078273,
          -2.5441000777051874,
          -2.489898284882779,
          -2.418919996358972,
          -2.3326990541420543,
          -2.232919289793804,
          -2.1213866904208474,
          -1.9999999999999936,
          -1.8707202232922253,
          -1.7355395154640956,
          -1.5964499487726866,
          -1.455412648155543,
          -1.314327780297823,
          -1.1750058658478117,
          -1.0391408621562408,
          -0.9082854345857115,
          -0.7838287985380038,
          -0.6669774724547292,
          -0.5587392348228852,
          -0.45991052641454233,
          -0.371067483429103,
          -0.29256072876868455,
          -0.2245139882897913,
          -0.16682653749196996,
          -0.11917942270141502,
          -0.08104534035435396,
          -0.051701999440667334,
          -0.030248736457420877,
          -0.0156261002279931,
          -0.006638076486771061,
          -0.0019765799637534165,
          -0.00024780549432248944,
          0,
          0.0002478054943225172,
          0.001976579963753916,
          0.006638076486771338,
          0.015626100227994932,
          0.030248736457423542,
          0.051701999440668334,
          0.08104534035435929,
          0.11917942270141679,
          0.16682653749197796,
          0.22451398828979385,
          0.292560728768696,
          0.37106748342910645,
          0.4599105264145573,
          0.5587392348228896,
          0.6669774724547468,
          0.7838287985380226,
          0.9082854345857171,
          1.0391408621562617,
          1.1750058658478177,
          1.314327780297845,
          1.455412648155549,
          1.5964499487727086,
          1.7355395154641013,
          1.8707202232922462,
          2.0000000000000133,
          2.1213866904208523,
          2.2329192897938204,
          2.3326990541420582,
          2.418919996358984,
          2.4898982848827815,
          2.5441000777051945,
          2.5801673477078286,
          2.5969412855897422,
          2.593482903470048,
          2.5690905050450468,
          2.5233137362802616,
          2.4559639832710918,
          2.3671209402856404,
          2.257135230226065,
          2.1266270208800893,
          1.9764806424240104,
          1.8078352737054342,
          1.622071825905934,
          1.4207962112980335,
          1.2058192410423447,
          0.979133448431415,
          0.7428871818561049,
          0.4993563542934557,
          0.25091427262291055,
          -4.901063119135766e-15,
          -0.2509142726229486,
          -0.49935635429346525,
          -0.7428871818561413,
          -0.9791334484314502,
          -1.2058192410423785,
          -1.420796211298065,
          -1.6220718259059415,
          -1.807835273705461,
          -1.9764806424240167,
          -2.1266270208801106,
          -2.25713523022607,
          -2.3671209402856555,
          -2.4559639832710944,
          -2.52331373628027,
          -2.569090505045052,
          -2.59348290347005,
          -2.5969412855897414,
          -2.5801673477078273,
          -2.544100077705188,
          -2.4898982848827793,
          -2.418919996358972,
          -2.3326990541420547,
          -2.2329192897938044,
          -2.1213866904208345,
          -1.9999999999999942,
          -1.870720223292226,
          -1.735539515464096,
          -1.5964499487726873,
          -1.4554126481555436,
          -1.3143277802978235,
          -1.1750058658478124,
          -1.0391408621562412,
          -0.908285434585712,
          -0.7838287985380042,
          -0.6669774724547298,
          -0.5587392348228858,
          -0.4599105264145428,
          -0.37106748342910323,
          -0.2925607287686849,
          -0.22451398828979163,
          -0.16682653749197018,
          -0.11917942270141524,
          -0.08104534035435407,
          -0.05170199944066456,
          -0.030248736457420877,
          -0.015626100227993156,
          -0.006638076486771061,
          -0.0019765799637534442,
          -0.00024780549432248944,
          0,
          0.0002478054943225172,
          0.001976579963753916,
          0.00663807648677206,
          0.015626100227994932,
          0.030248736457423542,
          0.05170199944066822,
          0.08104534035435917,
          0.11917942270141679,
          0.16682653749197796,
          0.22451398828979374,
          0.29256072876869565,
          0.37106748342910634,
          0.4599105264145569,
          0.5587392348229008,
          0.6669774724547464,
          0.7838287985380222,
          0.9082854345857163,
          1.0391408621562612,
          1.175005865847817,
          1.3143277802978441,
          1.4554126481555485,
          1.5964499487727082,
          1.7355395154641164,
          1.8707202232922455,
          2.000000000000013,
          2.121386690420852,
          2.23291928979382,
          2.332699054142058,
          2.4189199963589836,
          2.489898284882781,
          2.5441000777051945,
          2.580167347707828,
          2.5969412855897427,
          2.5934829034700484,
          2.5690905050450468,
          2.523313736280262,
          2.4559639832710918,
          2.3671209402856404,
          2.2571352302260657,
          2.1266270208800897,
          1.9764806424240113,
          1.8078352737054346,
          1.6220718259059128,
          1.4207962112980341,
          1.2058192410423456,
          0.9791334484314158,
          0.7428871818561058,
          0.49935635429345665,
          0.25091427262291155,
          -3.921345679817883e-15,
          -0.25091427262294763,
          -0.4993563542934643,
          -0.7428871818561404,
          -0.9791334484314496,
          -1.2058192410423776,
          -1.4207962112980643,
          -1.6220718259059408,
          -1.8078352737054604,
          -1.9764806424240162,
          -2.12662702088011,
          -2.257135230226069,
          -2.367120940285655,
          -2.4559639832711033,
          -2.5233137362802696,
          -2.569090505045052,
          -2.59348290347005,
          -2.5969412855897414,
          -2.5801673477078277,
          -2.5441000777051883,
          -2.4898982848827793,
          -2.4189199963589725,
          -2.3326990541420445,
          -2.232919289793805,
          -2.1213866904208354,
          -1.9999999999999947,
          -1.8707202232922264,
          -1.7355395154640965,
          -1.5964499487726878,
          -1.4554126481555438,
          -1.3143277802978242,
          -1.175005865847813,
          -1.0391408621562417,
          -0.908285434585698,
          -0.7838287985380049,
          -0.6669774724547302,
          -0.5587392348228861,
          -0.45991052641454333,
          -0.3710674834291037,
          -0.2925607287686851,
          -0.22451398828979174,
          -0.16682653749197018,
          -0.11917942270141046,
          -0.08104534035435429,
          -0.05170199944066456,
          -0.03024873645742099,
          -0.01562610022799321,
          -0.006638076486771116,
          -0.0019765799637534442,
          -0.0002478054943225172,
          0,
          0.0002478054943225172,
          0.0019765799637538883,
          0.006638076486772004,
          0.015626100227994877,
          0.03024873645742343,
          0.05170199944066811,
          0.08104534035435895,
          0.11917942270141657,
          0.16682653749197773,
          0.22451398828979352,
          0.29256072876869554,
          0.37106748342911544,
          0.45991052641455643,
          0.5587392348229004,
          0.666977472454746,
          0.7838287985380218,
          0.9082854345857159,
          1.0391408621562608,
          1.1750058658478166,
          1.3143277802978437,
          1.4554126481555638,
          1.5964499487727077,
          1.7355395154641158,
          1.870720223292245,
          2.0000000000000124,
          2.1213866904208514,
          2.2329192897938195,
          2.3326990541420574,
          2.4189199963589836,
          2.489898284882781,
          2.5441000777051945,
          2.5801673477078313,
          2.5969412855897427,
          2.5934829034700484,
          2.5690905050450468,
          2.523313736280262,
          2.455963983271092,
          2.367120940285641,
          2.257135230226066,
          2.12662702088009,
          1.9764806424239936,
          1.8078352737054355,
          1.6220718259059135,
          1.4207962112980352,
          1.2058192410423467,
          0.9791334484314169,
          0.7428871818561068,
          0.4993563542934576,
          0.2509142726229125,
          -2.941628240500001e-15,
          -0.25091427262294663,
          -0.4993563542934912,
          -0.7428871818561394,
          -0.9791334484314484,
          -1.2058192410423767,
          -1.4207962112980634,
          -1.6220718259059401,
          -1.8078352737054597,
          -1.9764806424240156,
          -2.1266270208801092,
          -2.2571352302260825,
          -2.3671209402856546,
          -2.4559639832711033,
          -2.5233137362802696,
          -2.569090505045052,
          -2.59348290347005,
          -2.5969412855897414,
          -2.5801673477078277,
          -2.5441000777051883,
          -2.4898982848827798,
          -2.4189199963589725,
          -2.332699054142045,
          -2.2329192897938053,
          -2.1213866904208354,
          -1.9999999999999951,
          -1.8707202232922269,
          -1.7355395154640971,
          -1.5964499487726882,
          -1.4554126481555447,
          -1.3143277802978246,
          -1.175005865847798,
          -1.0391408621562424,
          -0.9082854345856984,
          -0.7838287985380051,
          -0.6669774724547305,
          -0.5587392348228863,
          -0.4599105264145438,
          -0.3710674834291039,
          -0.29256072876868544,
          -0.22451398828978486,
          -0.1668265374919704,
          -0.11917942270141058,
          -0.0810453403543544,
          -0.05170199944066467,
          -0.03024873645742099,
          -0.015626100227993267,
          -0.006638076486771172,
          -0.001976579963753472,
          -0.0002478054943225172,
          0,
          0.0002478054943225727,
          0.0019765799637538883,
          0.006638076486772004,
          0.01562610022799482,
          0.03024873645742343,
          0.051701999440668,
          0.08104534035435895,
          0.11917942270141657,
          0.1668265374919775,
          0.2245139882898004,
          0.2925607287686952,
          0.3710674834291152,
          0.4599105264145561,
          0.5587392348229002,
          0.6669774724547455,
          0.7838287985380213,
          0.9082854345857154,
          1.03914086215626,
          1.1750058658478162,
          1.3143277802978433,
          1.4554126481555634,
          1.5964499487727069,
          1.7355395154641153,
          1.8707202232922446,
          1.9999999999999976
         ],
         "yaxis": "y"
        }
       ],
       "layout": {
        "legend": {
         "tracegroupgap": 0
        },
        "margin": {
         "t": 60
        },
        "template": {
         "data": {
          "bar": [
           {
            "error_x": {
             "color": "#2a3f5f"
            },
            "error_y": {
             "color": "#2a3f5f"
            },
            "marker": {
             "line": {
              "color": "#E5ECF6",
              "width": 0.5
             },
             "pattern": {
              "fillmode": "overlay",
              "size": 10,
              "solidity": 0.2
             }
            },
            "type": "bar"
           }
          ],
          "barpolar": [
           {
            "marker": {
             "line": {
              "color": "#E5ECF6",
              "width": 0.5
             },
             "pattern": {
              "fillmode": "overlay",
              "size": 10,
              "solidity": 0.2
             }
            },
            "type": "barpolar"
           }
          ],
          "carpet": [
           {
            "aaxis": {
             "endlinecolor": "#2a3f5f",
             "gridcolor": "white",
             "linecolor": "white",
             "minorgridcolor": "white",
             "startlinecolor": "#2a3f5f"
            },
            "baxis": {
             "endlinecolor": "#2a3f5f",
             "gridcolor": "white",
             "linecolor": "white",
             "minorgridcolor": "white",
             "startlinecolor": "#2a3f5f"
            },
            "type": "carpet"
           }
          ],
          "choropleth": [
           {
            "colorbar": {
             "outlinewidth": 0,
             "ticks": ""
            },
            "type": "choropleth"
           }
          ],
          "contour": [
           {
            "colorbar": {
             "outlinewidth": 0,
             "ticks": ""
            },
            "colorscale": [
             [
              0,
              "#0d0887"
             ],
             [
              0.1111111111111111,
              "#46039f"
             ],
             [
              0.2222222222222222,
              "#7201a8"
             ],
             [
              0.3333333333333333,
              "#9c179e"
             ],
             [
              0.4444444444444444,
              "#bd3786"
             ],
             [
              0.5555555555555556,
              "#d8576b"
             ],
             [
              0.6666666666666666,
              "#ed7953"
             ],
             [
              0.7777777777777778,
              "#fb9f3a"
             ],
             [
              0.8888888888888888,
              "#fdca26"
             ],
             [
              1,
              "#f0f921"
             ]
            ],
            "type": "contour"
           }
          ],
          "contourcarpet": [
           {
            "colorbar": {
             "outlinewidth": 0,
             "ticks": ""
            },
            "type": "contourcarpet"
           }
          ],
          "heatmap": [
           {
            "colorbar": {
             "outlinewidth": 0,
             "ticks": ""
            },
            "colorscale": [
             [
              0,
              "#0d0887"
             ],
             [
              0.1111111111111111,
              "#46039f"
             ],
             [
              0.2222222222222222,
              "#7201a8"
             ],
             [
              0.3333333333333333,
              "#9c179e"
             ],
             [
              0.4444444444444444,
              "#bd3786"
             ],
             [
              0.5555555555555556,
              "#d8576b"
             ],
             [
              0.6666666666666666,
              "#ed7953"
             ],
             [
              0.7777777777777778,
              "#fb9f3a"
             ],
             [
              0.8888888888888888,
              "#fdca26"
             ],
             [
              1,
              "#f0f921"
             ]
            ],
            "type": "heatmap"
           }
          ],
          "heatmapgl": [
           {
            "colorbar": {
             "outlinewidth": 0,
             "ticks": ""
            },
            "colorscale": [
             [
              0,
              "#0d0887"
             ],
             [
              0.1111111111111111,
              "#46039f"
             ],
             [
              0.2222222222222222,
              "#7201a8"
             ],
             [
              0.3333333333333333,
              "#9c179e"
             ],
             [
              0.4444444444444444,
              "#bd3786"
             ],
             [
              0.5555555555555556,
              "#d8576b"
             ],
             [
              0.6666666666666666,
              "#ed7953"
             ],
             [
              0.7777777777777778,
              "#fb9f3a"
             ],
             [
              0.8888888888888888,
              "#fdca26"
             ],
             [
              1,
              "#f0f921"
             ]
            ],
            "type": "heatmapgl"
           }
          ],
          "histogram": [
           {
            "marker": {
             "pattern": {
              "fillmode": "overlay",
              "size": 10,
              "solidity": 0.2
             }
            },
            "type": "histogram"
           }
          ],
          "histogram2d": [
           {
            "colorbar": {
             "outlinewidth": 0,
             "ticks": ""
            },
            "colorscale": [
             [
              0,
              "#0d0887"
             ],
             [
              0.1111111111111111,
              "#46039f"
             ],
             [
              0.2222222222222222,
              "#7201a8"
             ],
             [
              0.3333333333333333,
              "#9c179e"
             ],
             [
              0.4444444444444444,
              "#bd3786"
             ],
             [
              0.5555555555555556,
              "#d8576b"
             ],
             [
              0.6666666666666666,
              "#ed7953"
             ],
             [
              0.7777777777777778,
              "#fb9f3a"
             ],
             [
              0.8888888888888888,
              "#fdca26"
             ],
             [
              1,
              "#f0f921"
             ]
            ],
            "type": "histogram2d"
           }
          ],
          "histogram2dcontour": [
           {
            "colorbar": {
             "outlinewidth": 0,
             "ticks": ""
            },
            "colorscale": [
             [
              0,
              "#0d0887"
             ],
             [
              0.1111111111111111,
              "#46039f"
             ],
             [
              0.2222222222222222,
              "#7201a8"
             ],
             [
              0.3333333333333333,
              "#9c179e"
             ],
             [
              0.4444444444444444,
              "#bd3786"
             ],
             [
              0.5555555555555556,
              "#d8576b"
             ],
             [
              0.6666666666666666,
              "#ed7953"
             ],
             [
              0.7777777777777778,
              "#fb9f3a"
             ],
             [
              0.8888888888888888,
              "#fdca26"
             ],
             [
              1,
              "#f0f921"
             ]
            ],
            "type": "histogram2dcontour"
           }
          ],
          "mesh3d": [
           {
            "colorbar": {
             "outlinewidth": 0,
             "ticks": ""
            },
            "type": "mesh3d"
           }
          ],
          "parcoords": [
           {
            "line": {
             "colorbar": {
              "outlinewidth": 0,
              "ticks": ""
             }
            },
            "type": "parcoords"
           }
          ],
          "pie": [
           {
            "automargin": true,
            "type": "pie"
           }
          ],
          "scatter": [
           {
            "marker": {
             "colorbar": {
              "outlinewidth": 0,
              "ticks": ""
             }
            },
            "type": "scatter"
           }
          ],
          "scatter3d": [
           {
            "line": {
             "colorbar": {
              "outlinewidth": 0,
              "ticks": ""
             }
            },
            "marker": {
             "colorbar": {
              "outlinewidth": 0,
              "ticks": ""
             }
            },
            "type": "scatter3d"
           }
          ],
          "scattercarpet": [
           {
            "marker": {
             "colorbar": {
              "outlinewidth": 0,
              "ticks": ""
             }
            },
            "type": "scattercarpet"
           }
          ],
          "scattergeo": [
           {
            "marker": {
             "colorbar": {
              "outlinewidth": 0,
              "ticks": ""
             }
            },
            "type": "scattergeo"
           }
          ],
          "scattergl": [
           {
            "marker": {
             "colorbar": {
              "outlinewidth": 0,
              "ticks": ""
             }
            },
            "type": "scattergl"
           }
          ],
          "scattermapbox": [
           {
            "marker": {
             "colorbar": {
              "outlinewidth": 0,
              "ticks": ""
             }
            },
            "type": "scattermapbox"
           }
          ],
          "scatterpolar": [
           {
            "marker": {
             "colorbar": {
              "outlinewidth": 0,
              "ticks": ""
             }
            },
            "type": "scatterpolar"
           }
          ],
          "scatterpolargl": [
           {
            "marker": {
             "colorbar": {
              "outlinewidth": 0,
              "ticks": ""
             }
            },
            "type": "scatterpolargl"
           }
          ],
          "scatterternary": [
           {
            "marker": {
             "colorbar": {
              "outlinewidth": 0,
              "ticks": ""
             }
            },
            "type": "scatterternary"
           }
          ],
          "surface": [
           {
            "colorbar": {
             "outlinewidth": 0,
             "ticks": ""
            },
            "colorscale": [
             [
              0,
              "#0d0887"
             ],
             [
              0.1111111111111111,
              "#46039f"
             ],
             [
              0.2222222222222222,
              "#7201a8"
             ],
             [
              0.3333333333333333,
              "#9c179e"
             ],
             [
              0.4444444444444444,
              "#bd3786"
             ],
             [
              0.5555555555555556,
              "#d8576b"
             ],
             [
              0.6666666666666666,
              "#ed7953"
             ],
             [
              0.7777777777777778,
              "#fb9f3a"
             ],
             [
              0.8888888888888888,
              "#fdca26"
             ],
             [
              1,
              "#f0f921"
             ]
            ],
            "type": "surface"
           }
          ],
          "table": [
           {
            "cells": {
             "fill": {
              "color": "#EBF0F8"
             },
             "line": {
              "color": "white"
             }
            },
            "header": {
             "fill": {
              "color": "#C8D4E3"
             },
             "line": {
              "color": "white"
             }
            },
            "type": "table"
           }
          ]
         },
         "layout": {
          "annotationdefaults": {
           "arrowcolor": "#2a3f5f",
           "arrowhead": 0,
           "arrowwidth": 1
          },
          "autotypenumbers": "strict",
          "coloraxis": {
           "colorbar": {
            "outlinewidth": 0,
            "ticks": ""
           }
          },
          "colorscale": {
           "diverging": [
            [
             0,
             "#8e0152"
            ],
            [
             0.1,
             "#c51b7d"
            ],
            [
             0.2,
             "#de77ae"
            ],
            [
             0.3,
             "#f1b6da"
            ],
            [
             0.4,
             "#fde0ef"
            ],
            [
             0.5,
             "#f7f7f7"
            ],
            [
             0.6,
             "#e6f5d0"
            ],
            [
             0.7,
             "#b8e186"
            ],
            [
             0.8,
             "#7fbc41"
            ],
            [
             0.9,
             "#4d9221"
            ],
            [
             1,
             "#276419"
            ]
           ],
           "sequential": [
            [
             0,
             "#0d0887"
            ],
            [
             0.1111111111111111,
             "#46039f"
            ],
            [
             0.2222222222222222,
             "#7201a8"
            ],
            [
             0.3333333333333333,
             "#9c179e"
            ],
            [
             0.4444444444444444,
             "#bd3786"
            ],
            [
             0.5555555555555556,
             "#d8576b"
            ],
            [
             0.6666666666666666,
             "#ed7953"
            ],
            [
             0.7777777777777778,
             "#fb9f3a"
            ],
            [
             0.8888888888888888,
             "#fdca26"
            ],
            [
             1,
             "#f0f921"
            ]
           ],
           "sequentialminus": [
            [
             0,
             "#0d0887"
            ],
            [
             0.1111111111111111,
             "#46039f"
            ],
            [
             0.2222222222222222,
             "#7201a8"
            ],
            [
             0.3333333333333333,
             "#9c179e"
            ],
            [
             0.4444444444444444,
             "#bd3786"
            ],
            [
             0.5555555555555556,
             "#d8576b"
            ],
            [
             0.6666666666666666,
             "#ed7953"
            ],
            [
             0.7777777777777778,
             "#fb9f3a"
            ],
            [
             0.8888888888888888,
             "#fdca26"
            ],
            [
             1,
             "#f0f921"
            ]
           ]
          },
          "colorway": [
           "#636efa",
           "#EF553B",
           "#00cc96",
           "#ab63fa",
           "#FFA15A",
           "#19d3f3",
           "#FF6692",
           "#B6E880",
           "#FF97FF",
           "#FECB52"
          ],
          "font": {
           "color": "#2a3f5f"
          },
          "geo": {
           "bgcolor": "white",
           "lakecolor": "white",
           "landcolor": "#E5ECF6",
           "showlakes": true,
           "showland": true,
           "subunitcolor": "white"
          },
          "hoverlabel": {
           "align": "left"
          },
          "hovermode": "closest",
          "mapbox": {
           "style": "light"
          },
          "paper_bgcolor": "white",
          "plot_bgcolor": "#E5ECF6",
          "polar": {
           "angularaxis": {
            "gridcolor": "white",
            "linecolor": "white",
            "ticks": ""
           },
           "bgcolor": "#E5ECF6",
           "radialaxis": {
            "gridcolor": "white",
            "linecolor": "white",
            "ticks": ""
           }
          },
          "scene": {
           "xaxis": {
            "backgroundcolor": "#E5ECF6",
            "gridcolor": "white",
            "gridwidth": 2,
            "linecolor": "white",
            "showbackground": true,
            "ticks": "",
            "zerolinecolor": "white"
           },
           "yaxis": {
            "backgroundcolor": "#E5ECF6",
            "gridcolor": "white",
            "gridwidth": 2,
            "linecolor": "white",
            "showbackground": true,
            "ticks": "",
            "zerolinecolor": "white"
           },
           "zaxis": {
            "backgroundcolor": "#E5ECF6",
            "gridcolor": "white",
            "gridwidth": 2,
            "linecolor": "white",
            "showbackground": true,
            "ticks": "",
            "zerolinecolor": "white"
           }
          },
          "shapedefaults": {
           "line": {
            "color": "#2a3f5f"
           }
          },
          "ternary": {
           "aaxis": {
            "gridcolor": "white",
            "linecolor": "white",
            "ticks": ""
           },
           "baxis": {
            "gridcolor": "white",
            "linecolor": "white",
            "ticks": ""
           },
           "bgcolor": "#E5ECF6",
           "caxis": {
            "gridcolor": "white",
            "linecolor": "white",
            "ticks": ""
           }
          },
          "title": {
           "x": 0.05
          },
          "xaxis": {
           "automargin": true,
           "gridcolor": "white",
           "linecolor": "white",
           "ticks": "",
           "title": {
            "standoff": 15
           },
           "zerolinecolor": "white",
           "zerolinewidth": 2
          },
          "yaxis": {
           "automargin": true,
           "gridcolor": "white",
           "linecolor": "white",
           "ticks": "",
           "title": {
            "standoff": 15
           },
           "zerolinecolor": "white",
           "zerolinewidth": 2
          }
         }
        },
        "xaxis": {
         "anchor": "y",
         "domain": [
          0,
          1
         ],
         "title": {
          "text": "x"
         }
        },
        "yaxis": {
         "anchor": "x",
         "domain": [
          0,
          1
         ],
         "title": {
          "text": "y"
         }
        }
       }
      },
      "text/html": [
       "<div>                            <div id=\"212016fc-5435-484a-9d72-b1f44caf64b1\" class=\"plotly-graph-div\" style=\"height:525px; width:100%;\"></div>            <script type=\"text/javascript\">                require([\"plotly\"], function(Plotly) {                    window.PLOTLYENV=window.PLOTLYENV || {};                                    if (document.getElementById(\"212016fc-5435-484a-9d72-b1f44caf64b1\")) {                    Plotly.newPlot(                        \"212016fc-5435-484a-9d72-b1f44caf64b1\",                        [{\"hovertemplate\":\"x=%{x}<br>y=%{y}<extra></extra>\",\"legendgroup\":\"\",\"line\":{\"color\":\"#636efa\",\"dash\":\"solid\"},\"marker\":{\"symbol\":\"circle\"},\"mode\":\"lines\",\"name\":\"\",\"showlegend\":false,\"type\":\"scattergl\",\"x\":[-31.41592653589793,-31.353094682826136,-31.29026282975434,-31.227430976682545,-31.16459912361075,-31.10176727053895,-31.038935417467155,-30.97610356439536,-30.913271711323564,-30.850439858251768,-30.787608005179973,-30.724776152108177,-30.66194429903638,-30.599112445964586,-30.53628059289279,-30.47344873982099,-30.410616886749196,-30.3477850336774,-30.284953180605605,-30.22212132753381,-30.159289474462014,-30.09645762139022,-30.033625768318423,-29.970793915246627,-29.907962062174832,-29.845130209103033,-29.782298356031237,-29.719466502959442,-29.656634649887646,-29.59380279681585,-29.530970943744055,-29.46813909067226,-29.405307237600464,-29.34247538452867,-29.27964353145687,-29.216811678385078,-29.15397982531328,-29.091147972241483,-29.028316119169688,-28.965484266097892,-28.902652413026097,-28.8398205599543,-28.776988706882506,-28.71415685381071,-28.651325000738915,-28.588493147667116,-28.52566129459532,-28.462829441523525,-28.39999758845173,-28.337165735379934,-28.274333882308138,-28.211502029236343,-28.148670176164547,-28.08583832309275,-28.023006470020952,-27.960174616949157,-27.89734276387736,-27.834510910805566,-27.77167905773377,-27.708847204661975,-27.64601535159018,-27.583183498518384,-27.52035164544659,-27.457519792374793,-27.394687939302997,-27.3318560862312,-27.269024233159403,-27.206192380087607,-27.143360527015812,-27.080528673944016,-27.01769682087222,-26.954864967800425,-26.89203311472863,-26.829201261656834,-26.766369408585035,-26.703537555513243,-26.640705702441444,-26.57787384936965,-26.515041996297853,-26.452210143226058,-26.389378290154262,-26.326546437082467,-26.26371458401067,-26.200882730938872,-26.13805087786708,-26.07521902479528,-26.012387171723486,-25.94955531865169,-25.886723465579895,-25.8238916125081,-25.761059759436304,-25.698227906364508,-25.635396053292713,-25.572564200220917,-25.509732347149118,-25.446900494077322,-25.384068641005527,-25.32123678793373,-25.258404934861936,-25.19557308179014,-25.132741228718345,-25.06990937564655,-25.007077522574754,-24.944245669502955,-24.881413816431163,-24.818581963359364,-24.75575011028757,-24.692918257215773,-24.630086404143977,-24.567254551072182,-24.504422698000386,-24.44159084492859,-24.37875899185679,-24.315927138785,-24.2530952857132,-24.190263432641405,-24.12743157956961,-24.064599726497814,-24.00176787342602,-23.938936020354223,-23.876104167282428,-23.813272314210632,-23.750440461138837,-23.687608608067038,-23.624776754995246,-23.561944901923447,-23.49911304885165,-23.436281195779856,-23.37344934270806,-23.310617489636265,-23.24778563656447,-23.184953783492674,-23.122121930420874,-23.059290077349083,-22.996458224277283,-22.93362637120549,-22.870794518133692,-22.807962665061897,-22.7451308119901,-22.682298958918306,-22.61946710584651,-22.55663525277471,-22.49380339970292,-22.43097154663112,-22.36813969355933,-22.30530784048753,-22.242475987415734,-22.17964413434394,-22.116812281272143,-22.053980428200347,-21.991148575128552,-21.928316722056756,-21.865484868984957,-21.802653015913165,-21.739821162841366,-21.676989309769574,-21.614157456697775,-21.55132560362598,-21.488493750554184,-21.42566189748239,-21.362830044410593,-21.299998191338794,-21.237166338267002,-21.174334485195203,-21.11150263212341,-21.048670779051612,-20.985838925979817,-20.92300707290802,-20.860175219836226,-20.79734336676443,-20.73451151369263,-20.67167966062084,-20.60884780754904,-20.546015954477248,-20.48318410140545,-20.420352248333653,-20.357520395261858,-20.294688542190062,-20.231856689118267,-20.16902483604647,-20.106192982974676,-20.043361129902877,-19.980529276831085,-19.917697423759286,-19.854865570687494,-19.792033717615695,-19.7292018645439,-19.666370011472104,-19.60353815840031,-19.540706305328513,-19.477874452256714,-19.415042599184922,-19.352210746113123,-19.28937889304133,-19.22654703996953,-19.163715186897736,-19.10088333382594,-19.038051480754145,-18.97521962768235,-18.912387774610554,-18.84955592153876,-18.78672406846696,-18.723892215395168,-18.66106036232337,-18.598228509251577,-18.535396656179778,-18.472564803107982,-18.409732950036187,-18.34690109696439,-18.284069243892596,-18.221237390820797,-18.158405537749005,-18.095573684677206,-18.032741831605414,-17.969909978533614,-17.90707812546182,-17.844246272390023,-17.781414419318228,-17.718582566246432,-17.655750713174637,-17.59291886010284,-17.530087007031042,-17.46725515395925,-17.40442330088745,-17.341591447815656,-17.27875959474386,-17.215927741672065,-17.15309588860027,-17.090264035528474,-17.02743218245668,-16.96460032938488,-16.901768476313087,-16.83893662324129,-16.776104770169496,-16.713272917097697,-16.6504410640259,-16.587609210954106,-16.52477735788231,-16.461945504810515,-16.399113651738716,-16.336281798666924,-16.273449945595125,-16.210618092523333,-16.147786239451534,-16.08495438637974,-16.022122533307943,-15.959290680236148,-15.896458827164352,-15.833626974092557,-15.77079512102076,-15.707963267948964,-15.645131414877168,-15.582299561805373,-15.519467708733577,-15.45663585566178,-15.393804002589984,-15.330972149518189,-15.268140296446393,-15.205308443374598,-15.142476590302802,-15.079644737231007,-15.016812884159208,-14.953981031087412,-14.891149178015617,-14.828317324943821,-14.765485471872026,-14.70265361880023,-14.639821765728435,-14.57698991265664,-14.514158059584844,-14.451326206513048,-14.38849435344125,-14.325662500369454,-14.262830647297658,-14.199998794225863,-14.137166941154067,-14.074335088082272,-14.011503235010476,-13.94867138193868,-13.885839528866885,-13.82300767579509,-13.76017582272329,-13.697343969651495,-13.6345121165797,-13.571680263507904,-13.508848410436109,-13.446016557364313,-13.383184704292518,-13.320352851220722,-13.257520998148927,-13.194689145077131,-13.131857292005332,-13.069025438933537,-13.006193585861741,-12.943361732789946,-12.88052987971815,-12.817698026646354,-12.754866173574559,-12.692034320502763,-12.629202467430968,-12.566370614359172,-12.503538761287373,-12.440706908215578,-12.377875055143782,-12.315043202071987,-12.252211349000191,-12.189379495928396,-12.1265476428566,-12.063715789784805,-12.00088393671301,-11.938052083641214,-11.875220230569415,-11.81238837749762,-11.749556524425824,-11.686724671354028,-11.623892818282233,-11.561060965210437,-11.498229112138642,-11.435397259066846,-11.37256540599505,-11.309733552923255,-11.246901699851456,-11.18406984677966,-11.121237993707865,-11.05840614063607,-10.995574287564274,-10.932742434492479,-10.869910581420683,-10.807078728348888,-10.744246875277092,-10.681415022205293,-10.618583169133498,-10.555751316061702,-10.492919462989907,-10.430087609918111,-10.367255756846316,-10.30442390377452,-10.241592050702724,-10.178760197630929,-10.115928344559133,-10.053096491487334,-9.990264638415539,-9.927432785343743,-9.864600932271948,-9.801769079200152,-9.738937226128357,-9.676105373056561,-9.613273519984766,-9.55044166691297,-9.487609813841175,-9.424777960769376,-9.36194610769758,-9.299114254625785,-9.23628240155399,-9.173450548482194,-9.110618695410398,-9.047786842338603,-8.984954989266807,-8.922123136195012,-8.859291283123216,-8.796459430051417,-8.733627576979622,-8.670795723907826,-8.60796387083603,-8.545132017764235,-8.48230016469244,-8.419468311620644,-8.356636458548849,-8.293804605477053,-8.230972752405258,-8.168140899333459,-8.105309046261663,-8.042477193189868,-7.979645340118072,-7.9168134870462765,-7.853981633974481,-7.7911497809026855,-7.72831792783089,-7.6654860747590945,-7.602654221687299,-7.5398223686155,-7.476990515543704,-7.414158662471909,-7.351326809400113,-7.288494956328318,-7.225663103256522,-7.162831250184727,-7.099999397112931,-7.037167544041136,-6.974335690969337,-6.911503837897541,-6.848671984825746,-6.78584013175395,-6.723008278682155,-6.660176425610359,-6.597344572538564,-6.534512719466768,-6.471680866394973,-6.408849013323177,-6.346017160251378,-6.283185307179583,-6.220353454107787,-6.157521601035992,-6.094689747964196,-6.031857894892401,-5.969026041820605,-5.90619418874881,-5.843362335677014,-5.780530482605219,-5.71769862953342,-5.654866776461624,-5.5920349233898285,-5.529203070318033,-5.4663712172462375,-5.403539364174442,-5.3407075111026465,-5.277875658030851,-5.2150438049590555,-5.15221195188726,-5.089380098815461,-5.026548245743665,-4.96371639267187,-4.900884539600074,-4.838052686528279,-4.775220833456483,-4.712388980384688,-4.649557127312892,-4.586725274241097,-4.523893421169301,-4.461061568097502,-4.398229715025707,-4.335397861953911,-4.272566008882116,-4.20973415581032,-4.146902302738525,-4.084070449666729,-4.021238596594934,-3.9584067435231383,-3.8955748904513428,-3.8327430373795437,-3.769911184307748,-3.7070793312359527,-3.644247478164157,-3.5814156250923617,-3.518583772020566,-3.4557519189487707,-3.392920065876975,-3.3300882128051796,-3.2672563597333806,-3.204424506661585,-3.1415926535897896,-3.078760800517994,-3.0159289474461985,-2.953097094374403,-2.8902652413026075,-2.827433388230812,-2.7646015351590165,-2.701769682087221,-2.638937829015422,-2.5761059759436264,-2.513274122871831,-2.4504422698000354,-2.38761041672824,-2.3247785636564444,-2.261946710584649,-2.1991148575128534,-2.136283004441058,-2.0734511513692624,-2.0106192982974633,-1.9477874452256678,-1.8849555921538723,-1.8221237390820768,-1.7592918860102813,-1.6964600329384858,-1.6336281798666903,-1.5707963267948948,-1.5079644737230993,-1.4451326206513038,-1.3823007675795047,-1.3194689145077092,-1.2566370614359137,-1.1938052083641182,-1.1309733552923227,-1.0681415022205272,-1.0053096491487317,-0.9424777960769362,-0.8796459430051407,-0.8168140899333451,-0.7539822368615461,-0.6911503837897506,-0.6283185307179551,-0.5654866776461596,-0.5026548245743641,-0.43982297150256855,-0.37699111843077304,-0.31415926535897754,-0.25132741228718203,-0.18849555921538652,-0.12566370614358746,-0.06283185307179195,3.552713678800501e-15,0.06283185307179906,0.12566370614359457,0.18849555921539007,0.2513274122871856,0.3141592653589811,0.3769911184307766,0.4398229715025721,0.5026548245743712,0.5654866776461667,0.6283185307179622,0.6911503837897541,0.7539822368615532,0.8168140899333522,0.8796459430051442,0.9424777960769433,1.0053096491487352,1.0681415022205343,1.1309733552923262,1.1938052083641253,1.2566370614359172,1.3194689145077163,1.3823007675795154,1.4451326206513073,1.5079644737231064,1.5707963267948983,1.6336281798666974,1.6964600329384893,1.7592918860102884,1.8221237390820804,1.8849555921538794,1.9477874452256714,2.0106192982974704,2.0734511513692695,2.1362830044410615,2.1991148575128605,2.2619467105846525,2.3247785636564515,2.3876104167282435,2.4504422698000425,2.5132741228718345,2.5761059759436336,2.6389378290154326,2.7017696820872246,2.7646015351590236,2.8274333882308156,2.8902652413026146,2.9530970943744066,3.0159289474462057,3.0787608005179976,3.1415926535897967,3.2044245066615886,3.2672563597333877,3.3300882128051867,3.3929200658769787,3.4557519189487778,3.5185837720205697,3.5814156250923688,3.6442474781641607,3.70707933123596,3.7699111843077517,3.832743037379551,3.89557489045135,3.958406743523142,4.021238596594941,4.084070449666733,4.146902302738532,4.209734155810324,4.272566008882123,4.335397861953915,4.398229715025714,4.461061568097506,4.523893421169305,4.586725274241104,4.649557127312896,4.712388980384695,4.775220833456487,4.838052686528286,4.900884539600078,4.963716392671877,5.026548245743669,5.089380098815468,5.152211951887267,5.215043804959059,5.277875658030858,5.34070751110265,5.403539364174449,5.466371217246241,5.52920307031804,5.592034923389832,5.654866776461631,5.71769862953343,5.780530482605222,5.843362335677021,5.906194188748813,5.969026041820612,6.031857894892404,6.094689747964203,6.157521601035995,6.220353454107794,6.283185307179586,6.346017160251385,6.408849013323184,6.471680866394976,6.534512719466775,6.597344572538567,6.660176425610366,6.723008278682158,6.785840131753957,6.848671984825749,6.911503837897548,6.9743356909693475,7.037167544041139,7.0999993971129385,7.16283125018473,7.2256631032565295,7.2884949563283215,7.3513268094001205,7.4141586624719125,7.4769905155437115,7.5398223686155035,7.6026542216873025,7.665486074759102,7.7283179278308936,7.791149780902693,7.853981633974485,7.916813487046284,7.979645340118076,8.042477193189875,8.105309046261667,8.168140899333466,8.230972752405265,8.293804605477057,8.356636458548856,8.419468311620648,8.482300164692447,8.545132017764239,8.607963870836038,8.67079572390783,8.733627576979629,8.79645943005142,8.85929128312322,8.922123136195019,8.98495498926681,9.04778684233861,9.110618695410402,9.1734505484822,9.236282401553993,9.299114254625792,9.361946107697584,9.424777960769383,9.487609813841182,9.550441666912974,9.613273519984773,9.676105373056565,9.738937226128364,9.801769079200156,9.864600932271955,9.927432785343747,9.990264638415546,10.053096491487345,10.115928344559137,10.178760197630936,10.241592050702728,10.304423903774527,10.367255756846319,10.430087609918118,10.49291946298991,10.55575131606171,10.618583169133501,10.6814150222053,10.7442468752771,10.807078728348891,10.86991058142069,10.932742434492482,10.995574287564281,11.058406140636073,11.121237993707872,11.184069846779664,11.246901699851463,11.309733552923262,11.372565405995054,11.435397259066853,11.498229112138645,11.561060965210444,11.623892818282236,11.686724671354035,11.749556524425827,11.812388377497626,11.875220230569418,11.938052083641217,12.000883936713016,12.063715789784808,12.126547642856607,12.1893794959284,12.252211349000198,12.31504320207199,12.37787505514379,12.440706908215581,12.50353876128738,12.56637061435918,12.629202467430972,12.69203432050277,12.754866173574563,12.817698026646362,12.880529879718154,12.943361732789953,13.006193585861745,13.069025438933544,13.131857292005343,13.194689145077135,13.257520998148934,13.320352851220726,13.383184704292525,13.446016557364317,13.508848410436116,13.571680263507908,13.634512116579707,13.697343969651499,13.760175822723298,13.823007675795097,13.885839528866889,13.948671381938688,14.01150323501048,14.074335088082279,14.13716694115407,14.19999879422587,14.262830647297662,14.32566250036946,14.38849435344126,14.451326206513052,14.514158059584851,14.576989912656643,14.639821765728442,14.702653618800234,14.765485471872033,14.828317324943825,14.891149178015624,14.953981031087416,15.016812884159215,15.079644737231014,15.142476590302806,15.205308443374605,15.268140296446397,15.330972149518196,15.393804002589988,15.456635855661787,15.519467708733579,15.582299561805378,15.645131414877177,15.70796326794897,15.770795121020768,15.83362697409256,15.89645882716436,15.959290680236151,16.02212253330795,16.084954386379742,16.14778623945154,16.210618092523333,16.273449945595132,16.33628179866693,16.399113651738723,16.461945504810522,16.524777357882314,16.587609210954113,16.650441064025905,16.713272917097704,16.776104770169496,16.838936623241295,16.901768476313094,16.964600329384886,17.027432182456685,17.090264035528477,17.153095888600276,17.21592774167207,17.278759594743867,17.34159144781566,17.40442330088746,17.467255153959258,17.53008700703105,17.59291886010285,17.65575071317464,17.71858256624644,17.78141441931823,17.84424627239003,17.907078125461823,17.96990997853362,18.032741831605414,18.095573684677213,18.15840553774901,18.221237390820804,18.284069243892603,18.346901096964395,18.409732950036194,18.472564803107986,18.535396656179785,18.598228509251577,18.661060362323376,18.723892215395175,18.786724068466967,18.849555921538766,18.912387774610558,18.975219627682357,19.03805148075415,19.100883333825948,19.16371518689774,19.22654703996954,19.28937889304133,19.35221074611313,19.41504259918493,19.47787445225672,19.54070630532852,19.603538158400312,19.66637001147211,19.729201864543903,19.792033717615702,19.854865570687494,19.917697423759293,19.980529276831092,20.043361129902884,20.106192982974683,20.169024836046475,20.231856689118274,20.294688542190066,20.357520395261865,20.420352248333657,20.483184101405456,20.546015954477248,20.608847807549047,20.671679660620846,20.734511513692638,20.797343366764437,20.86017521983623,20.923007072908028,20.98583892597982,21.04867077905162,21.11150263212341,21.17433448519521,21.23716633826701,21.2999981913388,21.3628300444106,21.425661897482392,21.48849375055419,21.551325603625983,21.614157456697782,21.676989309769574,21.739821162841373,21.802653015913172,21.865484868984964,21.928316722056763,21.991148575128555,22.053980428200354,22.116812281272146,22.179644134343945,22.242475987415737,22.305307840487536,22.36813969355933,22.430971546631127,22.493803399702927,22.55663525277472,22.619467105846518,22.68229895891831,22.74513081199011,22.8079626650619,22.8707945181337,22.93362637120549,22.99645822427729,23.05929007734909,23.12212193042088,23.18495378349268,23.247785636564473,23.31061748963627,23.373449342708064,23.436281195779863,23.499113048851655,23.561944901923454,23.624776754995246,23.687608608067045,23.750440461138844,23.813272314210636,23.876104167282435,23.938936020354227,24.001767873426026,24.064599726497818,24.127431579569617,24.19026343264141,24.253095285713208,24.315927138785007,24.3787589918568,24.441590844928598,24.50442269800039,24.56725455107219,24.63008640414398,24.69291825721578,24.755750110287572,24.81858196335937,24.88141381643117,24.944245669502962,25.00707752257476,25.069909375646553,25.132741228718352,25.195573081790144,25.258404934861943,25.321236787933735,25.384068641005534,25.446900494077326,25.509732347149125,25.572564200220924,25.635396053292716,25.698227906364515,25.761059759436307,25.823891612508106,25.886723465579898,25.949555318651697,26.01238717172349,26.075219024795288,26.138050877867087,26.20088273093888,26.26371458401068,26.32654643708247,26.38937829015427,26.45221014322606,26.51504199629786,26.577873849369652,26.64070570244145,26.703537555513243,26.766369408585042,26.82920126165684,26.892033114728633,26.954864967800432,27.017696820872224,27.080528673944023,27.143360527015815,27.206192380087614,27.269024233159406,27.331856086231205,27.394687939303004,27.457519792374796,27.520351645446596,27.583183498518387,27.646015351590187,27.70884720466198,27.771679057733778,27.83451091080557,27.89734276387737,27.96017461694916,28.02300647002096,28.08583832309276,28.14867017616455,28.21150202923635,28.27433388230814,28.33716573537994,28.399997588451733,28.46282944152353,28.525661294595324,28.588493147667123,28.65132500073892,28.714156853810714,28.776988706882513,28.839820559954305,28.902652413026104,28.965484266097896,29.028316119169695,29.091147972241487,29.153979825313286,29.216811678385085,29.279643531456877,29.342475384528676,29.405307237600468,29.468139090672267,29.53097094374406,29.593802796815858,29.65663464988765,29.71946650295945,29.78229835603124,29.84513020910304,29.90796206217484,29.97079391524663,30.03362576831843,30.096457621390222,30.15928947446202,30.222121327533813,30.284953180605612,30.347785033677404,30.410616886749203,30.473448739821002,30.536280592892794,30.599112445964593,30.661944299036385,30.724776152108184,30.787608005179976,30.850439858251775,30.913271711323567,30.976103564395366,31.038935417467158,31.101767270538957,31.164599123610756,31.227430976682548,31.290262829754347,31.35309468282614,31.41592653589793],\"xaxis\":\"x\",\"y\":[2.0000000000000027,2.121386690420849,2.2329192897938115,2.3326990541420556,2.4189199963589774,2.4898982848827833,2.5441000777051936,2.580167347707829,2.5969412855897427,2.5934829034700493,2.5690905050450477,2.5233137362802665,2.455963983271094,2.367120940285649,2.2571352302260688,2.1266270208800933,1.9764806424240062,1.8078352737054393,1.6220718259059286,1.4207962112980395,1.2058192410423638,0.9791334484314218,0.7428871818561255,0.49935635429346287,0.250914272622932,-1.1759085194360944e-14,-0.2509142726229413,-0.499356354293472,-0.7428871818561343,-0.9791334484314305,-1.205819241042372,-1.4207962112980472,-1.6220718259059357,-1.8078352737054457,-1.976480642424021,-2.1266270208800986,-2.2571352302260728,-2.3671209402856523,-2.455963983271097,-2.5233137362802687,-2.569090505045049,-2.5934829034700497,-2.5969412855897422,-2.580167347707828,-2.544100077705192,-2.489898284882777,-2.4189199963589743,-2.332699054142052,-2.2329192897938075,-2.1213866904208447,-1.9999999999999978,-1.8707202232922375,-1.7355395154641,-1.5964499487726993,-1.4554126481555396,-1.3143277802978275,-1.1750058658478086,-1.0391408621562452,-0.9082854345857084,-0.7838287985380078,-0.6669774724547393,-0.5587392348228887,-0.4599105264145511,-0.3710674834291059,-0.2925607287686911,-0.22451398828978997,-0.16682653749197174,-0.11917942270141402,-0.08104534035435507,-0.05170199944066667,-0.030248736457421432,-0.015626100227994155,-0.006638076486771283,-0.001976579963753722,-0.0002478054943224617,0.0,0.00024780549432254495,0.001976579963753805,0.006638076486771449,0.0156261002279946,0.030248736457421987,0.051701999440667556,0.08104534035435629,0.11917942270141779,0.1668265374919733,0.2245139882897954,0.29256072876869343,0.37106748342910856,0.459910526414554,0.5587392348228921,0.666977472454743,0.7838287985380118,0.9082854345857126,1.0391408621562497,1.175005865847821,1.3143277802978401,1.4554126481555525,1.596449948772704,1.7355395154641045,1.8707202232922417,2.0000000000000018,2.1213866904208487,2.232919289793811,2.3326990541420605,2.418919996358977,2.4898982848827833,2.544100077705193,2.580167347707829,2.5969412855897422,2.5934829034700497,2.569090505045048,2.5233137362802665,2.45596398327109,2.3671209402856492,2.257135230226062,2.1266270208800937,1.976480642424007,1.80783527370544,1.6220718259059295,1.4207962112980401,1.2058192410423647,0.9791334484314227,0.7428871818561265,0.49935635429344993,0.250914272622933,-1.0779367755043061e-14,-0.2509142726229403,-0.499356354293471,-0.7428871818561333,-0.9791334484314296,-1.2058192410423714,-1.4207962112980463,-1.6220718259059461,-1.807835273705445,-1.9764806424240202,-2.1266270208800977,-2.2571352302260728,-2.367120940285652,-2.4559639832710967,-2.5233137362802682,-2.569090505045049,-2.5934829034700506,-2.5969412855897422,-2.580167347707827,-2.544100077705192,-2.489898284882778,-2.4189199963589747,-2.3326990541420525,-2.2329192897938075,-2.121386690420845,-1.9999999999999982,-1.870720223292238,-1.7355395154640927,-1.5964499487726997,-1.4554126481555403,-1.3143277802978361,-1.175005865847809,-1.0391408621562457,-0.9082854345857089,-0.7838287985380082,-0.6669774724547397,-0.558739234822883,-0.4599105264145511,-0.37106748342910145,-0.29256072876869144,-0.22451398828979008,-0.16682653749197196,-0.11917942270141424,-0.08104534035435529,-0.05170199944066689,-0.030248736457420433,-0.01562610022799421,-0.00663807648677095,-0.001976579963753722,-0.00024780549432248944,0.0,0.0002478054943225172,0.0019765799637537773,0.006638076486771449,0.01562610022799449,0.030248736457421987,0.05170199944066878,0.08104534035435607,0.11917942270141757,0.16682653749197318,0.22451398828979507,0.2925607287686933,0.3710674834291081,0.45991052641455377,0.5587392348228916,0.6669774724547491,0.7838287985380115,0.9082854345857195,1.0391408621562492,1.1750058658478204,1.3143277802978397,1.4554126481555518,1.5964499487727035,1.735539515464104,1.8707202232922413,2.0000000000000013,2.121386690420855,2.2329192897938106,2.33269905414206,2.4189199963589765,2.4898982848827824,2.5441000777051928,2.580167347707829,2.5969412855897422,2.5934829034700497,2.569090505045046,2.523313736280267,2.45596398327109,2.3671209402856492,2.2571352302260625,2.126627020880094,1.9764806424240073,1.8078352737054408,1.6220718259059304,1.420796211298041,1.2058192410423656,0.9791334484314106,0.7428871818561273,0.49935635429345093,0.25091427262291977,-9.799650315725178e-15,-0.25091427262293936,-0.49935635429347003,-0.7428871818561325,-0.9791334484314286,-1.205819241042383,-1.4207962112980455,-1.6220718259059455,-1.8078352737054444,-1.9764806424240198,-2.1266270208801052,-2.257135230226072,-2.367120940285652,-2.455963983271096,-2.5233137362802713,-2.569090505045049,-2.5934829034700506,-2.5969412855897422,-2.5801673477078273,-2.5441000777051896,-2.489898284882778,-2.418919996358975,-2.332699054142053,-2.2329192897938084,-2.1213866904208425,-1.9999999999999951,-1.8707202232922346,-1.7355395154640973,-1.5964499487726964,-1.4554126481555407,-1.3143277802978286,-1.1750058658478097,-1.0391408621562463,-0.9082854345857094,-0.7838287985380087,-0.66697747245474,-0.5587392348228836,-0.4599105264145462,-0.37106748342910156,-0.29256072876868766,-0.2245139882897904,-0.16682653749197196,-0.11917942270141435,-0.08104534035435529,-0.05170199944066689,-0.030248736457421543,-0.0156261002279936,-0.00663807648677095,-0.001976579963753583,-0.00024780549432248944,0.0,0.0002478054943225172,0.0019765799637537496,0.006638076486771449,0.015626100227994433,0.030248736457421876,0.05170199944066878,0.08104534035435795,0.11917942270141757,0.16682653749197596,0.22451398828979507,0.292560728768693,0.3710674834291079,0.4599105264145532,0.558739234822891,0.6669774724547421,0.7838287985380178,0.9082854345857188,1.0391408621562561,1.1750058658478197,1.3143277802978393,1.4554126481555514,1.5964499487727029,1.7355395154641036,1.8707202232922409,2.000000000000001,2.121386690420854,2.232919289793816,2.3326990541420596,2.418919996358981,2.4898982848827824,2.5441000777051928,2.580167347707829,2.5969412855897422,2.5934829034700497,2.5690905050450485,2.523313736280264,2.455963983271091,2.3671209402856443,2.257135230226063,2.126627020880095,1.9764806424240078,1.8078352737054413,1.622071825905931,1.420796211298042,1.2058192410423665,0.9791334484314114,0.7428871818561147,0.49935635429345193,0.25091427262292076,-8.819932876407297e-15,-0.25091427262293836,-0.49935635429346903,-0.7428871818561316,-0.9791334484314278,-1.205819241042382,-1.4207962112980566,-1.6220718259059446,-1.8078352737054537,-1.9764806424240193,-2.126627020880105,-2.2571352302260714,-2.367120940285651,-2.4559639832710958,-2.523313736280268,-2.5690905050450503,-2.5934829034700506,-2.596941285589742,-2.5801673477078273,-2.5441000777051896,-2.489898284882778,-2.418919996358975,-2.3326990541420534,-2.232919289793809,-2.121386690420846,-1.9999999999999922,-1.8707202232922313,-1.7355395154640938,-1.596449948772693,-1.4554126481555414,-1.314327780297829,-1.17500586584781,-1.0391408621562468,-0.9082854345857101,-0.7838287985380094,-0.6669774724547343,-0.558739234822884,-0.45991052641454666,-0.371067483429102,-0.29256072876868777,-0.2245139882897904,-0.16682653749197218,-0.11917942270141457,-0.08104534035435551,-0.051701999440667,-0.030248736457420655,-0.015626100227993656,-0.00663807648677095,-0.001976579963753583,-0.00024780549432248944,0.0,0.0002478054943225172,0.0019765799637537496,0.006638076486771449,0.015626100227994377,0.030248736457422876,0.05170199944066867,0.08104534035435773,0.11917942270141735,0.16682653749197573,0.22451398828979474,0.2925607287686929,0.37106748342910745,0.459910526414553,0.5587392348228967,0.6669774724547481,0.7838287985380173,0.9082854345857183,1.0391408621562557,1.1750058658478193,1.3143277802978384,1.4554126481555507,1.5964499487727024,1.7355395154641031,1.8707202232922475,2.0000000000000075,2.1213866904208536,2.2329192897938155,2.3326990541420596,2.4189199963589805,2.4898982848827824,2.5441000777051928,2.580167347707829,2.5969412855897422,2.593482903470049,2.5690905050450463,2.5233137362802642,2.455963983271091,2.367120940285645,2.2571352302260634,2.126627020880095,1.9764806424240087,1.8078352737054422,1.6220718259059317,1.420796211298031,1.205819241042355,0.9791334484314125,0.7428871818561156,0.49935635429345276,0.25091427262292176,-7.840215437089414e-15,-0.25091427262293736,-0.49935635429346814,-0.7428871818561307,-0.9791334484314399,-1.2058192410423811,-1.4207962112980557,-1.6220718259059437,-1.8078352737054533,-1.9764806424240184,-2.126627020880104,-2.257135230226071,-2.367120940285651,-2.4559639832710958,-2.523313736280271,-2.5690905050450503,-2.5934829034700506,-2.596941285589742,-2.5801673477078273,-2.54410007770519,-2.4898982848827784,-2.4189199963589756,-2.332699054142054,-2.232919289793803,-2.12138669042084,-1.9999999999999927,-1.8707202232922318,-1.7355395154640942,-1.5964499487726935,-1.4554126481555418,-1.31432778029783,-1.1750058658478109,-1.0391408621562472,-0.9082854345857032,-0.783828798538003,-0.6669774724547346,-0.5587392348228843,-0.4599105264145472,-0.37106748342910223,-0.2925607287686881,-0.22451398828979074,-0.1668265374919724,-0.11917942270141457,-0.08104534035435373,-0.05170199944066567,-0.030248736457420655,-0.01562610022799371,-0.006638076486771005,-0.0019765799637535553,-0.00024780549432248944,0.0,0.0002478054943225172,0.001976579963753722,0.006638076486771782,0.015626100227995043,0.030248736457422765,0.051701999440668556,0.08104534035435762,0.11917942270141724,0.16682653749197573,0.22451398828979474,0.29256072876869244,0.37106748342910734,0.4599105264145579,0.5587392348228962,0.6669774724547478,0.7838287985380169,0.9082854345857181,1.039140862156255,1.1750058658478189,1.314327780297838,1.4554126481555503,1.5964499487727017,1.7355395154641102,1.870720223292247,2.000000000000007,2.121386690420853,2.232919289793815,2.3326990541420587,2.41891999635898,2.489898284882782,2.5441000777051928,2.580167347707829,2.5969412855897427,2.593482903470049,2.5690905050450463,2.5233137362802673,2.455963983271091,2.3671209402856395,2.2571352302260643,2.126627020880088,1.9764806424240096,1.8078352737054328,1.6220718259059326,1.4207962112980317,1.2058192410423683,0.9791334484314133,0.7428871818561029,0.4993563542934537,0.25091427262290855,-6.8604979977715316e-15,-0.2509142726229506,-0.4993563542934672,-0.7428871818561433,-0.9791334484314259,-1.2058192410423803,-1.4207962112980432,-1.6220718259059432,-1.8078352737054624,-1.976480642424018,-2.1266270208801115,-2.2571352302260705,-2.367120940285656,-2.4559639832710953,-2.5233137362802704,-2.5690905050450485,-2.5934829034700506,-2.5969412855897414,-2.5801673477078273,-2.5441000777051874,-2.489898284882779,-2.418919996358971,-2.332699054142054,-2.2329192897938035,-2.121386690420847,-1.9999999999999931,-1.8707202232922397,-1.7355395154640951,-1.5964499487726862,-1.4554126481555425,-1.3143277802978224,-1.1750058658478113,-1.0391408621562404,-0.9082854345857109,-0.7838287985380035,-0.6669774724547415,-0.5587392348228847,-0.4599105264145421,-0.3710674834291027,-0.29256072876868444,-0.22451398828979108,-0.16682653749196963,-0.11917942270141502,-0.08104534035435385,-0.05170199944066711,-0.030248736457420766,-0.015626100227994433,-0.006638076486771005,-0.0019765799637534165,-0.00024780549432248944,0.0,0.0002478054943225172,0.001976579963753944,0.006638076486771338,0.015626100227994988,0.030248736457421654,0.051701999440668445,0.0810453403543594,0.11917942270141701,0.16682653749197818,0.2245139882897942,0.2925607287686961,0.3710674834291069,0.45991052641455765,0.5587392348228901,0.6669774724547474,0.7838287985380232,0.9082854345857173,1.0391408621562621,1.1750058658478184,1.3143277802978455,1.4554126481555496,1.596449948772709,1.7355395154641018,1.8707202232922466,1.9999999999999996,2.1213866904208527,2.232919289793821,2.3326990541420587,2.4189199963589845,2.4898982848827815,2.544100077705195,2.5801673477078286,2.5969412855897427,2.5934829034700497,2.5690905050450468,2.523313736280261,2.4559639832710913,2.36712094028564,2.2571352302260648,2.1266270208800884,1.97648064242401,1.8078352737054333,1.6220718259059332,1.4207962112980326,1.2058192410423691,0.9791334484314143,0.7428871818561038,0.4993563542934547,0.25091427262290955,-5.880780558453649e-15,-0.2509142726229496,-0.49935635429346625,-0.7428871818561423,-0.9791334484314249,-1.2058192410423794,-1.4207962112980659,-1.6220718259059423,-1.8078352737054617,-1.976480642424017,-2.126627020880111,-2.25713523022607,-2.367120940285656,-2.4559639832710953,-2.5233137362802704,-2.569090505045048,-2.5934829034700506,-2.5969412855897414,-2.5801673477078273,-2.5441000777051874,-2.489898284882779,-2.418919996358972,-2.3326990541420543,-2.232919289793804,-2.1213866904208474,-1.9999999999999936,-1.8707202232922253,-1.7355395154640956,-1.5964499487726866,-1.455412648155543,-1.314327780297823,-1.1750058658478117,-1.0391408621562408,-0.9082854345857115,-0.7838287985380038,-0.6669774724547292,-0.5587392348228852,-0.45991052641454233,-0.371067483429103,-0.29256072876868455,-0.2245139882897913,-0.16682653749196996,-0.11917942270141502,-0.08104534035435396,-0.051701999440667334,-0.030248736457420877,-0.0156261002279931,-0.006638076486771061,-0.0019765799637534165,-0.00024780549432248944,0.0,0.0002478054943225172,0.001976579963753916,0.006638076486771338,0.015626100227994932,0.030248736457423542,0.051701999440668334,0.08104534035435929,0.11917942270141679,0.16682653749197796,0.22451398828979385,0.292560728768696,0.37106748342910645,0.4599105264145573,0.5587392348228896,0.6669774724547468,0.7838287985380226,0.9082854345857171,1.0391408621562617,1.1750058658478177,1.314327780297845,1.455412648155549,1.5964499487727086,1.7355395154641013,1.8707202232922462,2.0000000000000133,2.1213866904208523,2.2329192897938204,2.3326990541420582,2.418919996358984,2.4898982848827815,2.5441000777051945,2.5801673477078286,2.5969412855897422,2.593482903470048,2.5690905050450468,2.5233137362802616,2.4559639832710918,2.3671209402856404,2.257135230226065,2.1266270208800893,1.9764806424240104,1.8078352737054342,1.622071825905934,1.4207962112980335,1.2058192410423447,0.979133448431415,0.7428871818561049,0.4993563542934557,0.25091427262291055,-4.901063119135766e-15,-0.2509142726229486,-0.49935635429346525,-0.7428871818561413,-0.9791334484314502,-1.2058192410423785,-1.420796211298065,-1.6220718259059415,-1.807835273705461,-1.9764806424240167,-2.1266270208801106,-2.25713523022607,-2.3671209402856555,-2.4559639832710944,-2.52331373628027,-2.569090505045052,-2.59348290347005,-2.5969412855897414,-2.5801673477078273,-2.544100077705188,-2.4898982848827793,-2.418919996358972,-2.3326990541420547,-2.2329192897938044,-2.1213866904208345,-1.9999999999999942,-1.870720223292226,-1.735539515464096,-1.5964499487726873,-1.4554126481555436,-1.3143277802978235,-1.1750058658478124,-1.0391408621562412,-0.908285434585712,-0.7838287985380042,-0.6669774724547298,-0.5587392348228858,-0.4599105264145428,-0.37106748342910323,-0.2925607287686849,-0.22451398828979163,-0.16682653749197018,-0.11917942270141524,-0.08104534035435407,-0.05170199944066456,-0.030248736457420877,-0.015626100227993156,-0.006638076486771061,-0.0019765799637534442,-0.00024780549432248944,0.0,0.0002478054943225172,0.001976579963753916,0.00663807648677206,0.015626100227994932,0.030248736457423542,0.05170199944066822,0.08104534035435917,0.11917942270141679,0.16682653749197796,0.22451398828979374,0.29256072876869565,0.37106748342910634,0.4599105264145569,0.5587392348229008,0.6669774724547464,0.7838287985380222,0.9082854345857163,1.0391408621562612,1.175005865847817,1.3143277802978441,1.4554126481555485,1.5964499487727082,1.7355395154641164,1.8707202232922455,2.000000000000013,2.121386690420852,2.23291928979382,2.332699054142058,2.4189199963589836,2.489898284882781,2.5441000777051945,2.580167347707828,2.5969412855897427,2.5934829034700484,2.5690905050450468,2.523313736280262,2.4559639832710918,2.3671209402856404,2.2571352302260657,2.1266270208800897,1.9764806424240113,1.8078352737054346,1.6220718259059128,1.4207962112980341,1.2058192410423456,0.9791334484314158,0.7428871818561058,0.49935635429345665,0.25091427262291155,-3.921345679817883e-15,-0.25091427262294763,-0.4993563542934643,-0.7428871818561404,-0.9791334484314496,-1.2058192410423776,-1.4207962112980643,-1.6220718259059408,-1.8078352737054604,-1.9764806424240162,-2.12662702088011,-2.257135230226069,-2.367120940285655,-2.4559639832711033,-2.5233137362802696,-2.569090505045052,-2.59348290347005,-2.5969412855897414,-2.5801673477078277,-2.5441000777051883,-2.4898982848827793,-2.4189199963589725,-2.3326990541420445,-2.232919289793805,-2.1213866904208354,-1.9999999999999947,-1.8707202232922264,-1.7355395154640965,-1.5964499487726878,-1.4554126481555438,-1.3143277802978242,-1.175005865847813,-1.0391408621562417,-0.908285434585698,-0.7838287985380049,-0.6669774724547302,-0.5587392348228861,-0.45991052641454333,-0.3710674834291037,-0.2925607287686851,-0.22451398828979174,-0.16682653749197018,-0.11917942270141046,-0.08104534035435429,-0.05170199944066456,-0.03024873645742099,-0.01562610022799321,-0.006638076486771116,-0.0019765799637534442,-0.0002478054943225172,0.0,0.0002478054943225172,0.0019765799637538883,0.006638076486772004,0.015626100227994877,0.03024873645742343,0.05170199944066811,0.08104534035435895,0.11917942270141657,0.16682653749197773,0.22451398828979352,0.29256072876869554,0.37106748342911544,0.45991052641455643,0.5587392348229004,0.666977472454746,0.7838287985380218,0.9082854345857159,1.0391408621562608,1.1750058658478166,1.3143277802978437,1.4554126481555638,1.5964499487727077,1.7355395154641158,1.870720223292245,2.0000000000000124,2.1213866904208514,2.2329192897938195,2.3326990541420574,2.4189199963589836,2.489898284882781,2.5441000777051945,2.5801673477078313,2.5969412855897427,2.5934829034700484,2.5690905050450468,2.523313736280262,2.455963983271092,2.367120940285641,2.257135230226066,2.12662702088009,1.9764806424239936,1.8078352737054355,1.6220718259059135,1.4207962112980352,1.2058192410423467,0.9791334484314169,0.7428871818561068,0.4993563542934576,0.2509142726229125,-2.941628240500001e-15,-0.25091427262294663,-0.4993563542934912,-0.7428871818561394,-0.9791334484314484,-1.2058192410423767,-1.4207962112980634,-1.6220718259059401,-1.8078352737054597,-1.9764806424240156,-2.1266270208801092,-2.2571352302260825,-2.3671209402856546,-2.4559639832711033,-2.5233137362802696,-2.569090505045052,-2.59348290347005,-2.5969412855897414,-2.5801673477078277,-2.5441000777051883,-2.4898982848827798,-2.4189199963589725,-2.332699054142045,-2.2329192897938053,-2.1213866904208354,-1.9999999999999951,-1.8707202232922269,-1.7355395154640971,-1.5964499487726882,-1.4554126481555447,-1.3143277802978246,-1.175005865847798,-1.0391408621562424,-0.9082854345856984,-0.7838287985380051,-0.6669774724547305,-0.5587392348228863,-0.4599105264145438,-0.3710674834291039,-0.29256072876868544,-0.22451398828978486,-0.1668265374919704,-0.11917942270141058,-0.0810453403543544,-0.05170199944066467,-0.03024873645742099,-0.015626100227993267,-0.006638076486771172,-0.001976579963753472,-0.0002478054943225172,0.0,0.0002478054943225727,0.0019765799637538883,0.006638076486772004,0.01562610022799482,0.03024873645742343,0.051701999440668,0.08104534035435895,0.11917942270141657,0.1668265374919775,0.2245139882898004,0.2925607287686952,0.3710674834291152,0.4599105264145561,0.5587392348229002,0.6669774724547455,0.7838287985380213,0.9082854345857154,1.03914086215626,1.1750058658478162,1.3143277802978433,1.4554126481555634,1.5964499487727069,1.7355395154641153,1.8707202232922446,1.9999999999999976],\"yaxis\":\"y\"}],                        {\"legend\":{\"tracegroupgap\":0},\"margin\":{\"t\":60},\"template\":{\"data\":{\"bar\":[{\"error_x\":{\"color\":\"#2a3f5f\"},\"error_y\":{\"color\":\"#2a3f5f\"},\"marker\":{\"line\":{\"color\":\"#E5ECF6\",\"width\":0.5},\"pattern\":{\"fillmode\":\"overlay\",\"size\":10,\"solidity\":0.2}},\"type\":\"bar\"}],\"barpolar\":[{\"marker\":{\"line\":{\"color\":\"#E5ECF6\",\"width\":0.5},\"pattern\":{\"fillmode\":\"overlay\",\"size\":10,\"solidity\":0.2}},\"type\":\"barpolar\"}],\"carpet\":[{\"aaxis\":{\"endlinecolor\":\"#2a3f5f\",\"gridcolor\":\"white\",\"linecolor\":\"white\",\"minorgridcolor\":\"white\",\"startlinecolor\":\"#2a3f5f\"},\"baxis\":{\"endlinecolor\":\"#2a3f5f\",\"gridcolor\":\"white\",\"linecolor\":\"white\",\"minorgridcolor\":\"white\",\"startlinecolor\":\"#2a3f5f\"},\"type\":\"carpet\"}],\"choropleth\":[{\"colorbar\":{\"outlinewidth\":0,\"ticks\":\"\"},\"type\":\"choropleth\"}],\"contour\":[{\"colorbar\":{\"outlinewidth\":0,\"ticks\":\"\"},\"colorscale\":[[0.0,\"#0d0887\"],[0.1111111111111111,\"#46039f\"],[0.2222222222222222,\"#7201a8\"],[0.3333333333333333,\"#9c179e\"],[0.4444444444444444,\"#bd3786\"],[0.5555555555555556,\"#d8576b\"],[0.6666666666666666,\"#ed7953\"],[0.7777777777777778,\"#fb9f3a\"],[0.8888888888888888,\"#fdca26\"],[1.0,\"#f0f921\"]],\"type\":\"contour\"}],\"contourcarpet\":[{\"colorbar\":{\"outlinewidth\":0,\"ticks\":\"\"},\"type\":\"contourcarpet\"}],\"heatmap\":[{\"colorbar\":{\"outlinewidth\":0,\"ticks\":\"\"},\"colorscale\":[[0.0,\"#0d0887\"],[0.1111111111111111,\"#46039f\"],[0.2222222222222222,\"#7201a8\"],[0.3333333333333333,\"#9c179e\"],[0.4444444444444444,\"#bd3786\"],[0.5555555555555556,\"#d8576b\"],[0.6666666666666666,\"#ed7953\"],[0.7777777777777778,\"#fb9f3a\"],[0.8888888888888888,\"#fdca26\"],[1.0,\"#f0f921\"]],\"type\":\"heatmap\"}],\"heatmapgl\":[{\"colorbar\":{\"outlinewidth\":0,\"ticks\":\"\"},\"colorscale\":[[0.0,\"#0d0887\"],[0.1111111111111111,\"#46039f\"],[0.2222222222222222,\"#7201a8\"],[0.3333333333333333,\"#9c179e\"],[0.4444444444444444,\"#bd3786\"],[0.5555555555555556,\"#d8576b\"],[0.6666666666666666,\"#ed7953\"],[0.7777777777777778,\"#fb9f3a\"],[0.8888888888888888,\"#fdca26\"],[1.0,\"#f0f921\"]],\"type\":\"heatmapgl\"}],\"histogram\":[{\"marker\":{\"pattern\":{\"fillmode\":\"overlay\",\"size\":10,\"solidity\":0.2}},\"type\":\"histogram\"}],\"histogram2d\":[{\"colorbar\":{\"outlinewidth\":0,\"ticks\":\"\"},\"colorscale\":[[0.0,\"#0d0887\"],[0.1111111111111111,\"#46039f\"],[0.2222222222222222,\"#7201a8\"],[0.3333333333333333,\"#9c179e\"],[0.4444444444444444,\"#bd3786\"],[0.5555555555555556,\"#d8576b\"],[0.6666666666666666,\"#ed7953\"],[0.7777777777777778,\"#fb9f3a\"],[0.8888888888888888,\"#fdca26\"],[1.0,\"#f0f921\"]],\"type\":\"histogram2d\"}],\"histogram2dcontour\":[{\"colorbar\":{\"outlinewidth\":0,\"ticks\":\"\"},\"colorscale\":[[0.0,\"#0d0887\"],[0.1111111111111111,\"#46039f\"],[0.2222222222222222,\"#7201a8\"],[0.3333333333333333,\"#9c179e\"],[0.4444444444444444,\"#bd3786\"],[0.5555555555555556,\"#d8576b\"],[0.6666666666666666,\"#ed7953\"],[0.7777777777777778,\"#fb9f3a\"],[0.8888888888888888,\"#fdca26\"],[1.0,\"#f0f921\"]],\"type\":\"histogram2dcontour\"}],\"mesh3d\":[{\"colorbar\":{\"outlinewidth\":0,\"ticks\":\"\"},\"type\":\"mesh3d\"}],\"parcoords\":[{\"line\":{\"colorbar\":{\"outlinewidth\":0,\"ticks\":\"\"}},\"type\":\"parcoords\"}],\"pie\":[{\"automargin\":true,\"type\":\"pie\"}],\"scatter\":[{\"marker\":{\"colorbar\":{\"outlinewidth\":0,\"ticks\":\"\"}},\"type\":\"scatter\"}],\"scatter3d\":[{\"line\":{\"colorbar\":{\"outlinewidth\":0,\"ticks\":\"\"}},\"marker\":{\"colorbar\":{\"outlinewidth\":0,\"ticks\":\"\"}},\"type\":\"scatter3d\"}],\"scattercarpet\":[{\"marker\":{\"colorbar\":{\"outlinewidth\":0,\"ticks\":\"\"}},\"type\":\"scattercarpet\"}],\"scattergeo\":[{\"marker\":{\"colorbar\":{\"outlinewidth\":0,\"ticks\":\"\"}},\"type\":\"scattergeo\"}],\"scattergl\":[{\"marker\":{\"colorbar\":{\"outlinewidth\":0,\"ticks\":\"\"}},\"type\":\"scattergl\"}],\"scattermapbox\":[{\"marker\":{\"colorbar\":{\"outlinewidth\":0,\"ticks\":\"\"}},\"type\":\"scattermapbox\"}],\"scatterpolar\":[{\"marker\":{\"colorbar\":{\"outlinewidth\":0,\"ticks\":\"\"}},\"type\":\"scatterpolar\"}],\"scatterpolargl\":[{\"marker\":{\"colorbar\":{\"outlinewidth\":0,\"ticks\":\"\"}},\"type\":\"scatterpolargl\"}],\"scatterternary\":[{\"marker\":{\"colorbar\":{\"outlinewidth\":0,\"ticks\":\"\"}},\"type\":\"scatterternary\"}],\"surface\":[{\"colorbar\":{\"outlinewidth\":0,\"ticks\":\"\"},\"colorscale\":[[0.0,\"#0d0887\"],[0.1111111111111111,\"#46039f\"],[0.2222222222222222,\"#7201a8\"],[0.3333333333333333,\"#9c179e\"],[0.4444444444444444,\"#bd3786\"],[0.5555555555555556,\"#d8576b\"],[0.6666666666666666,\"#ed7953\"],[0.7777777777777778,\"#fb9f3a\"],[0.8888888888888888,\"#fdca26\"],[1.0,\"#f0f921\"]],\"type\":\"surface\"}],\"table\":[{\"cells\":{\"fill\":{\"color\":\"#EBF0F8\"},\"line\":{\"color\":\"white\"}},\"header\":{\"fill\":{\"color\":\"#C8D4E3\"},\"line\":{\"color\":\"white\"}},\"type\":\"table\"}]},\"layout\":{\"annotationdefaults\":{\"arrowcolor\":\"#2a3f5f\",\"arrowhead\":0,\"arrowwidth\":1},\"autotypenumbers\":\"strict\",\"coloraxis\":{\"colorbar\":{\"outlinewidth\":0,\"ticks\":\"\"}},\"colorscale\":{\"diverging\":[[0,\"#8e0152\"],[0.1,\"#c51b7d\"],[0.2,\"#de77ae\"],[0.3,\"#f1b6da\"],[0.4,\"#fde0ef\"],[0.5,\"#f7f7f7\"],[0.6,\"#e6f5d0\"],[0.7,\"#b8e186\"],[0.8,\"#7fbc41\"],[0.9,\"#4d9221\"],[1,\"#276419\"]],\"sequential\":[[0.0,\"#0d0887\"],[0.1111111111111111,\"#46039f\"],[0.2222222222222222,\"#7201a8\"],[0.3333333333333333,\"#9c179e\"],[0.4444444444444444,\"#bd3786\"],[0.5555555555555556,\"#d8576b\"],[0.6666666666666666,\"#ed7953\"],[0.7777777777777778,\"#fb9f3a\"],[0.8888888888888888,\"#fdca26\"],[1.0,\"#f0f921\"]],\"sequentialminus\":[[0.0,\"#0d0887\"],[0.1111111111111111,\"#46039f\"],[0.2222222222222222,\"#7201a8\"],[0.3333333333333333,\"#9c179e\"],[0.4444444444444444,\"#bd3786\"],[0.5555555555555556,\"#d8576b\"],[0.6666666666666666,\"#ed7953\"],[0.7777777777777778,\"#fb9f3a\"],[0.8888888888888888,\"#fdca26\"],[1.0,\"#f0f921\"]]},\"colorway\":[\"#636efa\",\"#EF553B\",\"#00cc96\",\"#ab63fa\",\"#FFA15A\",\"#19d3f3\",\"#FF6692\",\"#B6E880\",\"#FF97FF\",\"#FECB52\"],\"font\":{\"color\":\"#2a3f5f\"},\"geo\":{\"bgcolor\":\"white\",\"lakecolor\":\"white\",\"landcolor\":\"#E5ECF6\",\"showlakes\":true,\"showland\":true,\"subunitcolor\":\"white\"},\"hoverlabel\":{\"align\":\"left\"},\"hovermode\":\"closest\",\"mapbox\":{\"style\":\"light\"},\"paper_bgcolor\":\"white\",\"plot_bgcolor\":\"#E5ECF6\",\"polar\":{\"angularaxis\":{\"gridcolor\":\"white\",\"linecolor\":\"white\",\"ticks\":\"\"},\"bgcolor\":\"#E5ECF6\",\"radialaxis\":{\"gridcolor\":\"white\",\"linecolor\":\"white\",\"ticks\":\"\"}},\"scene\":{\"xaxis\":{\"backgroundcolor\":\"#E5ECF6\",\"gridcolor\":\"white\",\"gridwidth\":2,\"linecolor\":\"white\",\"showbackground\":true,\"ticks\":\"\",\"zerolinecolor\":\"white\"},\"yaxis\":{\"backgroundcolor\":\"#E5ECF6\",\"gridcolor\":\"white\",\"gridwidth\":2,\"linecolor\":\"white\",\"showbackground\":true,\"ticks\":\"\",\"zerolinecolor\":\"white\"},\"zaxis\":{\"backgroundcolor\":\"#E5ECF6\",\"gridcolor\":\"white\",\"gridwidth\":2,\"linecolor\":\"white\",\"showbackground\":true,\"ticks\":\"\",\"zerolinecolor\":\"white\"}},\"shapedefaults\":{\"line\":{\"color\":\"#2a3f5f\"}},\"ternary\":{\"aaxis\":{\"gridcolor\":\"white\",\"linecolor\":\"white\",\"ticks\":\"\"},\"baxis\":{\"gridcolor\":\"white\",\"linecolor\":\"white\",\"ticks\":\"\"},\"bgcolor\":\"#E5ECF6\",\"caxis\":{\"gridcolor\":\"white\",\"linecolor\":\"white\",\"ticks\":\"\"}},\"title\":{\"x\":0.05},\"xaxis\":{\"automargin\":true,\"gridcolor\":\"white\",\"linecolor\":\"white\",\"ticks\":\"\",\"title\":{\"standoff\":15},\"zerolinecolor\":\"white\",\"zerolinewidth\":2},\"yaxis\":{\"automargin\":true,\"gridcolor\":\"white\",\"linecolor\":\"white\",\"ticks\":\"\",\"title\":{\"standoff\":15},\"zerolinecolor\":\"white\",\"zerolinewidth\":2}}},\"xaxis\":{\"anchor\":\"y\",\"domain\":[0.0,1.0],\"title\":{\"text\":\"x\"}},\"yaxis\":{\"anchor\":\"x\",\"domain\":[0.0,1.0],\"title\":{\"text\":\"y\"}}},                        {\"responsive\": true}                    ).then(function(){\n",
       "                            \n",
       "var gd = document.getElementById('212016fc-5435-484a-9d72-b1f44caf64b1');\n",
       "var x = new MutationObserver(function (mutations, observer) {{\n",
       "        var display = window.getComputedStyle(gd).display;\n",
       "        if (!display || display === 'none') {{\n",
       "            console.log([gd, 'removed!']);\n",
       "            Plotly.purge(gd);\n",
       "            observer.disconnect();\n",
       "        }}\n",
       "}});\n",
       "\n",
       "// Listen for the removal of the full notebook cells\n",
       "var notebookContainer = gd.closest('#notebook-container');\n",
       "if (notebookContainer) {{\n",
       "    x.observe(notebookContainer, {childList: true});\n",
       "}}\n",
       "\n",
       "// Listen for the clearing of the current output cell\n",
       "var outputEl = gd.closest('.output');\n",
       "if (outputEl) {{\n",
       "    x.observe(outputEl, {childList: true});\n",
       "}}\n",
       "\n",
       "                        })                };                });            </script>        </div>"
      ]
     },
     "metadata": {},
     "output_type": "display_data"
    }
   ],
   "source": [
    "x_=np.linspace(-10*np.pi,10*np.pi,1001)\n",
    "f_=2*np.cos(x_)+np.sin(2*x_)\n",
    "ex.line(x=x_,y=f_)"
   ]
  },
  {
   "cell_type": "code",
   "execution_count": 10,
   "metadata": {},
   "outputs": [
    {
     "data": {
      "text/latex": [
       "$\\displaystyle - 2 \\sin{\\left(x \\right)} + 2 \\cos{\\left(2 x \\right)}$"
      ],
      "text/plain": [
       "-2*sin(x) + 2*cos(2*x)"
      ]
     },
     "execution_count": 10,
     "metadata": {},
     "output_type": "execute_result"
    }
   ],
   "source": [
    "diff(f,x)=0"
   ]
  },
  {
   "cell_type": "code",
   "execution_count": 40,
   "metadata": {},
   "outputs": [
    {
     "data": {
      "text/latex": [
       "$\\displaystyle 2 \\left(- 2 x^{2} \\sin{\\left(x^{2} \\right)} + \\cos{\\left(x^{2} \\right)}\\right)$"
      ],
      "text/plain": [
       "2*(-2*x**2*sin(x**2) + cos(x**2))"
      ]
     },
     "execution_count": 40,
     "metadata": {},
     "output_type": "execute_result"
    }
   ],
   "source": [
    "#54 second-order derivative of sin(x^2)\n",
    "\n",
    "diff(sin(x**2),x,2)"
   ]
  },
  {
   "cell_type": "code",
   "execution_count": 12,
   "metadata": {},
   "outputs": [
    {
     "data": {
      "text/latex": [
       "$\\displaystyle 4^{x} \\log{\\left(4 \\right)}$"
      ],
      "text/plain": [
       "4**x*log(4)"
      ]
     },
     "execution_count": 12,
     "metadata": {},
     "output_type": "execute_result"
    }
   ],
   "source": [
    "#56 4^x\n",
    "diff(4**x,x)"
   ]
  },
  {
   "cell_type": "markdown",
   "metadata": {},
   "source": [
    "$(a^x)'=a^x \\ln a, \\log_3x=\\log x/\\log3$"
   ]
  },
  {
   "cell_type": "code",
   "execution_count": 85,
   "metadata": {},
   "outputs": [
    {
     "data": {
      "text/latex": [
       "$\\displaystyle \\frac{1}{x \\log{\\left(3 \\right)}}$"
      ],
      "text/plain": [
       "1/(x*log(3))"
      ]
     },
     "execution_count": 85,
     "metadata": {},
     "output_type": "execute_result"
    }
   ],
   "source": [
    "#59 log_3x\n",
    "diff(log(x)/log(3),x)"
   ]
  },
  {
   "cell_type": "code",
   "execution_count": 30,
   "metadata": {},
   "outputs": [
    {
     "data": {
      "text/latex": [
       "$\\displaystyle \\frac{x}{\\left(x^{2} - 1\\right) \\log{\\left(5 \\right)}}$"
      ],
      "text/plain": [
       "x/((x**2 - 1)*log(5))"
      ]
     },
     "execution_count": 30,
     "metadata": {},
     "output_type": "execute_result"
    }
   ],
   "source": [
    "#60 log_5(x^2-1)^(1/2)\n",
    "\n",
    "diff(log(x**2-1)/2/log(5),x,val=2)"
   ]
  },
  {
   "cell_type": "code",
   "execution_count": 105,
   "metadata": {},
   "outputs": [
    {
     "name": "stdout",
     "output_type": "stream",
     "text": [
      " the first-order derivative is beta*cos(beta*x)\n",
      "\n",
      " the second-order derivative is -beta**2*sin(beta*x)\n",
      "\n",
      " the third-order derivative is -beta**3*cos(beta*x)\n",
      "\n",
      " the fourth-order derivative is beta**4*sin(beta*x)\n",
      "\n"
     ]
    }
   ],
   "source": [
    "b=Symbol(\"beta\")\n",
    "f=sin(b*x)\n",
    "\n",
    "level=['first','second','third','fourth']\n",
    "for i in range(1,5):\n",
    "    print(\" the %s-order derivative is %s\\n\" %(level[i-1],diff(f,x,i)) )"
   ]
  },
  {
   "cell_type": "markdown",
   "metadata": {},
   "source": [
    "\\begin{array}\n",
    "    ff'(x)&=&\\beta \\cos(\\beta x)\\cr\n",
    "    f''(x)&=&-\\beta^2 \\sin(\\beta x)\\cr\n",
    "    f'''(x)&=&-\\beta^3 \\cos(\\beta x)\\cr\n",
    "    f^{(4)}(x)&=&\\beta^4 \\sin(\\beta x)\\cr\n",
    "\\end{array}"
   ]
  },
  {
   "cell_type": "code",
   "execution_count": 108,
   "metadata": {},
   "outputs": [
    {
     "data": {
      "text/plain": [
       "True"
      ]
     },
     "execution_count": 108,
     "metadata": {},
     "output_type": "execute_result"
    }
   ],
   "source": [
    "diff(f,x,2)+b**2*f==0"
   ]
  },
  {
   "cell_type": "code",
   "execution_count": null,
   "metadata": {},
   "outputs": [],
   "source": []
  }
 ],
 "metadata": {
  "kernelspec": {
   "display_name": "Python 3",
   "language": "python",
   "name": "python3"
  },
  "language_info": {
   "codemirror_mode": {
    "name": "ipython",
    "version": 3
   },
   "file_extension": ".py",
   "mimetype": "text/x-python",
   "name": "python",
   "nbconvert_exporter": "python",
   "pygments_lexer": "ipython3",
   "version": "3.8.5"
  }
 },
 "nbformat": 4,
 "nbformat_minor": 4
}
