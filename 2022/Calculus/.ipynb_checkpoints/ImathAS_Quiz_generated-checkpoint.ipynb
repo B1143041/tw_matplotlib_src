{
 "cells": [
  {
   "cell_type": "code",
   "execution_count": null,
   "metadata": {},
   "outputs": [],
   "source": [
    "import numpy as np\n",
    "\n",
    "from plotly.offline import download_plotlyjs, init_notebook_mode, plot, iplot\n",
    "import plotly.graph_objs as go\n",
    "from IPython.display import HTML\n",
    "\n",
    "init_notebook_mode()"
   ]
  },
  {
   "cell_type": "code",
   "execution_count": null,
   "metadata": {},
   "outputs": [],
   "source": [
    "X=np.linspace(-2,2,101)\n",
    "Y=np.linspace(-1,1,101)\n",
    "\n",
    "X, Y = np.meshgrid(X, Y)\n",
    "f= X**2+2*X*Y+Y*Y\n",
    "\n",
    "\n",
    "tx=np.linspace(-2,2,101)\n",
    "x1=tx\n",
    "y1=0*x1+1\n",
    "x3=tx\n",
    "y3=0*x1-1\n",
    "\n",
    "\n",
    "ty=np.linspace(-1,1,101)\n",
    "y2=ty\n",
    "y4=ty\n",
    "x2=0*ty+2\n",
    "x4=0*ty-2\n",
    "\n",
    "cpy=ty\n",
    "cpx=-cpy\n",
    "\n",
    "def ft_(x_,y_):\n",
    "    return x_**2+2*x_*y_+y_*y_\n",
    "\n",
    "def L_(x_,y_,ft_,name='trace',color='blue'):\n",
    "    LL= go.Scatter3d(x=x_, y=y_, z=ft_,name=name,\n",
    "            mode = \"lines\",line = dict(color=color,width = 5))\n",
    "    return LL\n",
    "\n",
    "ft1=ft_(x1,y1)\n",
    "ft2=ft_(x2,y2)\n",
    "ft3=ft_(x3,y3)\n",
    "ft4=ft_(x4,y4)\n",
    "\n",
    "L1=L_(x1,y1,ft1)\n",
    "L2=L_(x2,y2,ft2)\n",
    "L3=L_(x3,y3,ft3)\n",
    "L4=L_(x4,y4,ft4) \n",
    "l1=L_(x1,y1,x1*0,color='red')\n",
    "l2=L_(x2,y2,x2*0,color='red')\n",
    "l3=L_(x3,y3,x3*0,color='red') \n",
    "l4=L_(x4,y4,x4*0,color='red')\n",
    "\n",
    "Lcp=go.Scatter3d(x=cpx, y=cpy, z=0*cpx,name=\"critical points\",\n",
    "            mode = \"lines+markers\",line = dict(color='#22aacc',width = 1))\n",
    "                     \n",
    "surface = go.Surface(x=X, y=Y, z=f,opacity=0.5,showscale=False)\n",
    "\n",
    "data = [surface,L1,L2,L3,L4,Lcp,l1,l2,l3,l4]\n",
    "\n",
    "fig = go.Figure(data=data)\n",
    "\n",
    "#fig.show()\n",
    "HTML(fig.to_html())\n",
    "#plot(fig,filename=\"ex40.html\")"
   ]
  },
  {
   "cell_type": "markdown",
   "metadata": {},
   "source": [
    "IMathAS Quiz_autogenerating\n",
    "---"
   ]
  },
  {
   "cell_type": "code",
   "execution_count": 6,
   "metadata": {},
   "outputs": [],
   "source": [
    "# Colored output in Python\n",
    "\n",
    "W  = '\\033[0m'  # white (normal)\n",
    "K  = '\\033[30m' # black\n",
    "R  = '\\033[31m' # red\n",
    "G  = '\\033[32m' # green\n",
    "O  = '\\033[1;33m' # orange\n",
    "B  = '\\033[34m' # blue\n",
    "P  = '\\033[35m' # purple\n",
    "T =  '\\033[1;33;47m' #Title\n",
    "\n",
    "# sympy functions and properties \n",
    "\n",
    "from sympy import symbols,pprint,integrate,diff,latex,simplify,Matrix,Abs,Ei,erf,erfc,E,Ne\n",
    "from sympy import pi,sqrt,sin,cos,log,exp,oo,E,tan,Piecewise,asin,atan\n",
    "\n",
    "\n",
    "from sympy.abc import rho,theta,phi\n",
    "import matplotlib.pyplot as plt \n",
    "#\n",
    "import numpy as np "
   ]
  },
  {
   "cell_type": "code",
   "execution_count": 3,
   "metadata": {},
   "outputs": [],
   "source": [
    "\n",
    "#func0 ='\\n Suppose that `f(x,y)=$f` is defined on `D`.<br> '\n",
    "#domain=' `\\{ (x,y)| 0\\le x \\lt \\sqrt(y}, $a\\le y \\le $b \\}` '\n",
    "\n",
    "question0='$anstypes=array(\"calculated\")'\n",
    "question1='\\n$a,$b=rands(2,6,2)'\n",
    "\n",
    "# given function \n",
    "func='exp(x/\\sqrt(y))' \n",
    "# define function, $f=...\n",
    "ff='$f=\"%s\"\\n' %func\n",
    "# define domain, $domain=...\n",
    "domain=' \\{ (x,y)| 0\\le x \\lt \\sqrt(y}, $a\\le y \\le $b \\} '\n",
    "D='$domain=\"%s\"\\n' %domain\n",
    "\n",
    "ans0='$answer[0]=2 $a^(3/2)(e-1)/3+2 $b^(3/2)(e-1)/3\\n'\n",
    "\n",
    "prob0 ='\\n\\n Suppose that `f(x,y)=$f` is defined on `D`.<br> '\n",
    "\n",
    "\n",
    "prob1='Evaluate the multiple integral:<br> \\n\\n'\n",
    "prob2=' `I = \\int\\int_D $f dA` <br>\\n' \n",
    "prob3=\"1). `I=` $answerbox[0] where `D` is `$domain`.<br>\\n\" \n",
    "#answer3=\"2). `I=` $answerbox[0] where `D` is %s.<br>\\n\" %domain"
   ]
  },
  {
   "cell_type": "code",
   "execution_count": 35,
   "metadata": {},
   "outputs": [],
   "source": [
    "def ques_gen_rev(dtype,body,answer):\n",
    "    qq=R+\"\\nQuestion\\n\\n\"+K\n",
    "    \n",
    "    head='$anstypes=array(\"'\n",
    "    for i in range(len(dtype)-1):\n",
    "        head=head+dtype[i]+'\",'\n",
    "    head=head+'\"'+dtype[-1]+'\")\\n' \n",
    "    dbody=\"\\n\"+body+\"\\n\"\n",
    "    ans=R+\"\\nAnswer\\n\"+K\n",
    "    \n",
    "    print(qq+head+dbody+ans+answer)\n",
    "   \n",
    "#print(question0+question1)"
   ]
  },
  {
   "cell_type": "code",
   "execution_count": 39,
   "metadata": {},
   "outputs": [
    {
     "name": "stdout",
     "output_type": "stream",
     "text": [
      "\u001b[31m\n",
      "Question\n",
      "\n",
      "\u001b[30m$anstypes=array(\"calculated\",numfunc\",\"numfunc\")\n",
      "\n",
      "\n",
      " $a,$b=rands(2,6,2) \n",
      " $f=\"exp(x/sqrt(y))\"\n",
      " \n",
      " $domain=\" \\{ (x,y)| 0\\le x \\lt sqrt(y}, $a\\le y \\le $b \\} \"\n",
      " \n",
      " $answer[0]=2 $a^(3/2)(e-1)/3+2 $b^(3/2)(e-1)/3\n",
      "\n",
      "\u001b[31m\n",
      "Answer\n",
      "\u001b[30m\n",
      "Evaluate the multiple integral:<br> \n",
      "\n",
      "`I = \\int\\int_D $f dA` <br>\n",
      "1). `I=` $answerbox[0] where `D` is `$domain`.<br>\n",
      "\n"
     ]
    }
   ],
   "source": [
    "dtype=[\"calculated\",\"numfunc\",\"numfunc\"]\n",
    "\n",
    "body=\"\"\"\n",
    " $a,$b=rands(2,6,2) \n",
    " $f=\"exp(x/sqrt(y))\"\n",
    " \n",
    " $domain=\" \\{ (x,y)| 0\\le x \\lt sqrt(y}, $a\\le y \\le $b \\} \"\n",
    " \n",
    " $answer[0]=2 $a^(3/2)(e-1)/3+2 $b^(3/2)(e-1)/3\n",
    "\"\"\"\n",
    "answer=\"\"\"\n",
    "Evaluate the multiple integral:<br> \\n\\n`I = \\int\\int_D $f dA` <br>\n",
    "1). `I=` $answerbox[0] where `D` is `$domain`.<br>\n",
    "\"\"\"\n",
    "ques_gen_rev(dtype,body,answer)"
   ]
  },
  {
   "cell_type": "code",
   "execution_count": 38,
   "metadata": {},
   "outputs": [],
   "source": []
  },
  {
   "cell_type": "code",
   "execution_count": null,
   "metadata": {},
   "outputs": [],
   "source": []
  },
  {
   "cell_type": "code",
   "execution_count": null,
   "metadata": {},
   "outputs": [],
   "source": []
  }
 ],
 "metadata": {
  "kernelspec": {
   "display_name": "Python 3",
   "language": "python",
   "name": "python3"
  },
  "language_info": {
   "codemirror_mode": {
    "name": "ipython",
    "version": 3
   },
   "file_extension": ".py",
   "mimetype": "text/x-python",
   "name": "python",
   "nbconvert_exporter": "python",
   "pygments_lexer": "ipython3",
   "version": "3.8.5"
  }
 },
 "nbformat": 4,
 "nbformat_minor": 4
}
