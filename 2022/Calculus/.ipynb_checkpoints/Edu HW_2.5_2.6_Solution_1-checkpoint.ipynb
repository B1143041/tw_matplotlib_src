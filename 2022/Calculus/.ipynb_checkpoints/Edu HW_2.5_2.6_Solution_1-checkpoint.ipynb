{
 "cells": [
  {
   "cell_type": "code",
   "execution_count": 1,
   "metadata": {},
   "outputs": [],
   "source": [
    "import warnings\n",
    "warnings.filterwarnings(action='ignore')"
   ]
  },
  {
   "cell_type": "code",
   "execution_count": 8,
   "metadata": {},
   "outputs": [],
   "source": [
    "%matplotlib inline\n",
    "import numpy as np\n",
    "import matplotlib.pylab as plt\n",
    "import plotly.express as ex\n",
    "from sympy.plotting import plot_implicit"
   ]
  },
  {
   "cell_type": "code",
   "execution_count": 50,
   "metadata": {},
   "outputs": [],
   "source": [
    "from sympy import Symbol, symbols, diff,pprint,Function,solve,Derivative,Eq,latex,simplify\n",
    "from sympy import sin,cos,sec,sqrt,tan,exp,log,Abs\n",
    "from fractions import Fraction"
   ]
  },
  {
   "cell_type": "code",
   "execution_count": 12,
   "metadata": {},
   "outputs": [],
   "source": [
    "from IPython.display import display, Latex"
   ]
  },
  {
   "cell_type": "code",
   "execution_count": 9,
   "metadata": {},
   "outputs": [],
   "source": [
    "x,t,u=symbols(\"x t u\")\n",
    "def ChainRule3(f,g):\n",
    "    u=Symbol(\"u\")\n",
    "    fu=diff(f,u)\n",
    "    fx=diff(f,u).subs({u:g})\n",
    "    gx=diff(g,x)\n",
    "    fg=f.subs({u:g})\n",
    "    print(\"   \",g,\"\\t\",f,\"\\n\", \\\n",
    "          \"x\",\"  ⟶  \",g,\"   ⟶   \",fg, \"\\n\",\\\n",
    "          \"     ↓     ×       ↓\", \"\\n\",\\\n",
    "          \"   \",gx,\"\\t\",fu,\"\\n\",\\\n",
    "          \"           ↓    \\n\", \\\n",
    "          \"     \", gx*fx\n",
    "         )\n",
    "    print(\"---\\ni.e.\\n\")\n",
    "    pprint(gx*fx)\n",
    "    #print(\"(f(g(x)))' =\",l1*l2,\", \\nwhere f(u) = \",f, \" and u = g = \",g)"
   ]
  },
  {
   "cell_type": "code",
   "execution_count": 105,
   "metadata": {},
   "outputs": [],
   "source": [
    "x,t,u=symbols(\"x t u\")\n",
    "def ChainRuleLatex(f,g):\n",
    "    u=Symbol(\"u\")\n",
    "    fu=diff(f,u)\n",
    "    fx=diff(f,u).subs({u:g})\n",
    "    gx=diff(g,x)\n",
    "    fg=f.subs({u:g})\n",
    "    \n",
    "    s1=' \\\\begin{eqnarray} '\n",
    "    s2=' &%s&& \\\\quad %s \\\\\\ ' %(latex(g),latex(f))\n",
    "    s3=' x& \\Longrightarrow &u=g(x)=%s &\\Longrightarrow  & f(g(x))=%s \\\\\\ ' %(latex(g),latex(fg))\n",
    "    s4=' &\\color{red}{g\\'}\\downarrow& & \\color{brown}{f\\'}\\downarrow \\\\\\ '\n",
    "    s5=' & \\\\left(\\\\color{red}{%s} \\\\right)&\\\\qquad\\\\times& \\\\left( \\\\color{brown}{%s} \\\\right)   \\\\\\ ' %((latex(gx),latex(fg)))\n",
    "    s6=' \\end{eqnarray} '\n",
    "    s=s1+s2+s3+s4+s5+s6\n",
    "\n",
    "    display(Latex(s))\n",
    "        \n",
    "    display(Latex('i.e. the derivative of $f(g(x)), \\mathbf{(f(g(x)))}\\',$ is: '))\n",
    "    \n",
    "    display(simplify(gx*fx))\n",
    "    "
   ]
  },
  {
   "cell_type": "code",
   "execution_count": 115,
   "metadata": {},
   "outputs": [],
   "source": [
    "# 120\n",
    "# 11\n",
    "f=u**2\n",
    "g=(x+5)/(x**2+2)\n"
   ]
  },
  {
   "cell_type": "code",
   "execution_count": 106,
   "metadata": {},
   "outputs": [
    {
     "data": {
      "text/latex": [
       " \\begin{eqnarray}  &\\frac{x + 5}{x^{2} + 2}&& \\quad u^{2} \\\\  x& \\Longrightarrow &u=g(x)=\\frac{x + 5}{x^{2} + 2} &\\Longrightarrow  & f(g(x))=\\frac{\\left(x + 5\\right)^{2}}{\\left(x^{2} + 2\\right)^{2}} \\\\  &\\color{red}{g'}\\downarrow& & \\color{brown}{f'}\\downarrow \\\\  & \\left(\\color{red}{- \\frac{2 x \\left(x + 5\\right)}{\\left(x^{2} + 2\\right)^{2}} + \\frac{1}{x^{2} + 2}} \\right)&\\qquad\\times& \\left( \\color{brown}{\\frac{\\left(x + 5\\right)^{2}}{\\left(x^{2} + 2\\right)^{2}}} \\right)   \\\\  \\end{eqnarray} "
      ],
      "text/plain": [
       "<IPython.core.display.Latex object>"
      ]
     },
     "metadata": {},
     "output_type": "display_data"
    },
    {
     "data": {
      "text/latex": [
       "i.e. the derivative of $f(g(x)), \\mathbf{(f(g(x)))}',$ is: "
      ],
      "text/plain": [
       "<IPython.core.display.Latex object>"
      ]
     },
     "metadata": {},
     "output_type": "display_data"
    },
    {
     "data": {
      "text/latex": [
       "$\\displaystyle \\frac{2 \\left(x + 5\\right) \\left(x^{2} - 2 x \\left(x + 5\\right) + 2\\right)}{\\left(x^{2} + 2\\right)^{3}}$"
      ],
      "text/plain": [
       "2*(x + 5)*(x**2 - 2*x*(x + 5) + 2)/(x**2 + 2)**3"
      ]
     },
     "metadata": {},
     "output_type": "display_data"
    }
   ],
   "source": [
    "ChainRuleLatex(f,g)"
   ]
  },
  {
   "cell_type": "code",
   "execution_count": 12,
   "metadata": {},
   "outputs": [
    {
     "data": {
      "text/latex": [
       "$\\displaystyle - 2 \\sin^{2}{\\left(2 x \\right)} + 2 \\cos^{2}{\\left(2 x \\right)}$"
      ],
      "text/plain": [
       "-2*sin(2*x)**2 + 2*cos(2*x)**2"
      ]
     },
     "execution_count": 12,
     "metadata": {},
     "output_type": "execute_result"
    }
   ],
   "source": [
    "# 16\n",
    "diff(sin(2*x)*cos(2*x),x)"
   ]
  },
  {
   "cell_type": "code",
   "execution_count": null,
   "metadata": {},
   "outputs": [],
   "source": []
  },
  {
   "cell_type": "code",
   "execution_count": 107,
   "metadata": {},
   "outputs": [
    {
     "data": {
      "text/latex": [
       " \\begin{eqnarray}  &\\sqrt{x}&& \\quad e^{u} \\\\  x& \\Longrightarrow &u=g(x)=\\sqrt{x} &\\Longrightarrow  & f(g(x))=e^{\\sqrt{x}} \\\\  &\\color{red}{g'}\\downarrow& & \\color{brown}{f'}\\downarrow \\\\  & \\left(\\color{red}{\\frac{1}{2 \\sqrt{x}}} \\right)&\\qquad\\times& \\left( \\color{brown}{e^{\\sqrt{x}}} \\right)   \\\\  \\end{eqnarray} "
      ],
      "text/plain": [
       "<IPython.core.display.Latex object>"
      ]
     },
     "metadata": {},
     "output_type": "display_data"
    },
    {
     "data": {
      "text/latex": [
       "i.e. the derivative of $f(g(x)), \\mathbf{(f(g(x)))}',$ is: "
      ],
      "text/plain": [
       "<IPython.core.display.Latex object>"
      ]
     },
     "metadata": {},
     "output_type": "display_data"
    },
    {
     "data": {
      "text/latex": [
       "$\\displaystyle \\frac{e^{\\sqrt{x}}}{2 \\sqrt{x}}$"
      ],
      "text/plain": [
       "exp(sqrt(x))/(2*sqrt(x))"
      ]
     },
     "metadata": {},
     "output_type": "display_data"
    }
   ],
   "source": [
    "# 23\n",
    "f=exp(u)\n",
    "g=sqrt(x)\n",
    "\n",
    "ChainRuleLatex(f,g)"
   ]
  },
  {
   "cell_type": "code",
   "execution_count": 16,
   "metadata": {},
   "outputs": [
    {
     "data": {
      "text/latex": [
       "$\\displaystyle \\frac{2}{x \\log{\\left(x^{2} \\right)}}$"
      ],
      "text/plain": [
       "2/(x*log(x**2))"
      ]
     },
     "execution_count": 16,
     "metadata": {},
     "output_type": "execute_result"
    }
   ],
   "source": [
    "# 37\n",
    "diff(log(log(x**2)),x)"
   ]
  },
  {
   "cell_type": "code",
   "execution_count": 21,
   "metadata": {},
   "outputs": [
    {
     "data": {
      "text/latex": [
       "$\\displaystyle \\frac{\\cos{\\left(x \\right)}}{\\sin{\\left(x \\right)}}$"
      ],
      "text/plain": [
       "cos(x)/sin(x)"
      ]
     },
     "execution_count": 21,
     "metadata": {},
     "output_type": "execute_result"
    }
   ],
   "source": [
    "#39\n",
    "diff(log(sin(x)**2)/2,x)"
   ]
  },
  {
   "cell_type": "code",
   "execution_count": 108,
   "metadata": {},
   "outputs": [
    {
     "data": {
      "text/latex": [
       "$\\displaystyle - \\frac{\\sin{\\left(x \\right)}}{\\cos^{2}{\\left(x \\right)} + \\cos{\\left(x \\right)}}$"
      ],
      "text/plain": [
       "-sin(x)/(cos(x)**2 + cos(x))"
      ]
     },
     "execution_count": 108,
     "metadata": {},
     "output_type": "execute_result"
    }
   ],
   "source": [
    "#40\n",
    "simplify(diff(log((cos(x)/(cos(x)+1))**2)/2,x))"
   ]
  },
  {
   "cell_type": "markdown",
   "metadata": {},
   "source": [
    "#39, #40, we use the fact\n",
    "$$ |f|=(f^2)^{1/2}$$\n",
    "Howeve, we also have the differential ruke:\n",
    "$$(\\log |x|)'=\\frac{1}{x}$$\n",
    "thus,\n",
    "-  #39, $(\\log|\\sin x|)'=\\frac{(\\sin(x))'}{\\sin x}=\\frac{\\cos x}{\\sin x}$;\n",
    "- #40  \n",
    "   $$\\left(\\log\\left|\\frac{\\cos x}{1+\\cos x}\\right|\\right)'=\\frac{\\left(\\frac{\\cos x}{1+\\cos x}\\right)'}{\\frac{\\cos x}{1+\\cos x}}\n",
    "   =\\frac{\\sin x}{\\cos x}\\left(\\frac{\\cos x}{1+\\cos x} -1\\right)$$"
   ]
  },
  {
   "cell_type": "code",
   "execution_count": 109,
   "metadata": {},
   "outputs": [
    {
     "data": {
      "text/latex": [
       " \\begin{eqnarray}  &\\cos{\\left(x \\right)}&& \\quad \\frac{u}{u + 1} \\\\  x& \\Longrightarrow &u=g(x)=\\cos{\\left(x \\right)} &\\Longrightarrow  & f(g(x))=\\frac{\\cos{\\left(x \\right)}}{\\cos{\\left(x \\right)} + 1} \\\\  &\\color{red}{g'}\\downarrow& & \\color{brown}{f'}\\downarrow \\\\  & \\left(\\color{red}{- \\sin{\\left(x \\right)}} \\right)&\\qquad\\times& \\left( \\color{brown}{\\frac{\\cos{\\left(x \\right)}}{\\cos{\\left(x \\right)} + 1}} \\right)   \\\\  \\end{eqnarray} "
      ],
      "text/plain": [
       "<IPython.core.display.Latex object>"
      ]
     },
     "metadata": {},
     "output_type": "display_data"
    },
    {
     "data": {
      "text/latex": [
       "i.e. the derivative of $f(g(x)), \\mathbf{(f(g(x)))}',$ is: "
      ],
      "text/plain": [
       "<IPython.core.display.Latex object>"
      ]
     },
     "metadata": {},
     "output_type": "display_data"
    },
    {
     "data": {
      "text/latex": [
       "$\\displaystyle - \\frac{\\sin{\\left(x \\right)}}{\\left(\\cos{\\left(x \\right)} + 1\\right)^{2}}$"
      ],
      "text/plain": [
       "-sin(x)/(cos(x) + 1)**2"
      ]
     },
     "metadata": {},
     "output_type": "display_data"
    }
   ],
   "source": [
    "f=(u/(1+u))\n",
    "g=cos(x)\n",
    "\n",
    "ChainRuleLatex(f,g)\n",
    "\n"
   ]
  },
  {
   "cell_type": "code",
   "execution_count": 111,
   "metadata": {},
   "outputs": [
    {
     "data": {
      "text/latex": [
       " \\begin{eqnarray}  &3 x^{3} + 4 x&& \\quad \\sqrt[3]{u} \\\\  x& \\Longrightarrow &u=g(x)=3 x^{3} + 4 x &\\Longrightarrow  & f(g(x))=\\sqrt[3]{3 x^{3} + 4 x} \\\\  &\\color{red}{g'}\\downarrow& & \\color{brown}{f'}\\downarrow \\\\  & \\left(\\color{red}{9 x^{2} + 4} \\right)&\\qquad\\times& \\left( \\color{brown}{\\sqrt[3]{3 x^{3} + 4 x}} \\right)   \\\\  \\end{eqnarray} "
      ],
      "text/plain": [
       "<IPython.core.display.Latex object>"
      ]
     },
     "metadata": {},
     "output_type": "display_data"
    },
    {
     "data": {
      "text/latex": [
       "i.e. the derivative of $f(g(x)), \\mathbf{(f(g(x)))}',$ is: "
      ],
      "text/plain": [
       "<IPython.core.display.Latex object>"
      ]
     },
     "metadata": {},
     "output_type": "display_data"
    },
    {
     "data": {
      "text/latex": [
       "$\\displaystyle \\frac{9 x^{2} + 4}{3 \\left(x \\left(3 x^{2} + 4\\right)\\right)^{\\frac{2}{3}}}$"
      ],
      "text/plain": [
       "(9*x**2 + 4)/(3*(x*(3*x**2 + 4))**(2/3))"
      ]
     },
     "metadata": {},
     "output_type": "display_data"
    }
   ],
   "source": [
    "# 44 \n",
    "from fractions import Fraction\n",
    "f= u**Fraction(1,3)\n",
    "g=(3*x**3+4*x)\n",
    "ChainRuleLatex(f,g)"
   ]
  },
  {
   "cell_type": "code",
   "execution_count": 33,
   "metadata": {},
   "outputs": [
    {
     "name": "stdout",
     "output_type": "stream",
     "text": [
      "The tangent line of f(x) =(3*x**3 + 4*x)**(1/3) at x = 2 is (y-2)=5*2**(2/3)/6(x-2)\n"
     ]
    }
   ],
   "source": [
    "h= (3*x**3+4*x)**Fraction(1,3)\n",
    "t0=2\n",
    "y0=2\n",
    "m=diff(h,x).subs({x:t0})\n",
    "print(\"The tangent line of f(x) =%s at x = %s is (y-%s)=%s(x-%s)\" %(h,t0,y0,m,t0))\n"
   ]
  },
  {
   "cell_type": "code",
   "execution_count": 35,
   "metadata": {},
   "outputs": [
    {
     "name": "stdout",
     "output_type": "stream",
     "text": [
      "The tangent line of f(x) =26 - sec(4*x)**3 at x = 0 is (y-25)=0(x-0)\n"
     ]
    }
   ],
   "source": [
    "# 46\n",
    "h= 26-(sec(4*x))**3\n",
    "t0=0\n",
    "y0=25\n",
    "m=diff(h,x).subs({x:t0})\n",
    "print(\"The tangent line of f(x) =%s at x = %s is (y-%s)=%s(x-%s)\" %(h,t0,y0,m,t0))\n"
   ]
  },
  {
   "cell_type": "code",
   "execution_count": 37,
   "metadata": {},
   "outputs": [
    {
     "data": {
      "text/latex": [
       "$\\displaystyle 2 \\left(- 2 x^{2} \\sin{\\left(x^{2} \\right)} + \\cos{\\left(x^{2} \\right)}\\right)$"
      ],
      "text/plain": [
       "2*(-2*x**2*sin(x**2) + cos(x**2))"
      ]
     },
     "execution_count": 37,
     "metadata": {},
     "output_type": "execute_result"
    }
   ],
   "source": [
    "#54\n",
    "diff(sin(x**2),x,2)"
   ]
  },
  {
   "cell_type": "code",
   "execution_count": 39,
   "metadata": {},
   "outputs": [
    {
     "data": {
      "text/latex": [
       "$\\displaystyle 4^{x} \\log{\\left(4 \\right)}$"
      ],
      "text/plain": [
       "4**x*log(4)"
      ]
     },
     "execution_count": 39,
     "metadata": {},
     "output_type": "execute_result"
    }
   ],
   "source": [
    "#56\n",
    "diff(4**x,x)"
   ]
  },
  {
   "cell_type": "code",
   "execution_count": 42,
   "metadata": {},
   "outputs": [
    {
     "data": {
      "text/latex": [
       "$\\displaystyle \\frac{x}{\\left(x^{2} + 1\\right) \\log{\\left(5 \\right)}}$"
      ],
      "text/plain": [
       "x/((x**2 + 1)*log(5))"
      ]
     },
     "execution_count": 42,
     "metadata": {},
     "output_type": "execute_result"
    }
   ],
   "source": [
    "# 60\n",
    "diff(log(1+x**2)/(2*log(5)),x)"
   ]
  },
  {
   "cell_type": "code",
   "execution_count": null,
   "metadata": {},
   "outputs": [],
   "source": []
  },
  {
   "cell_type": "code",
   "execution_count": null,
   "metadata": {},
   "outputs": [],
   "source": [
    "# p 129\n"
   ]
  },
  {
   "cell_type": "code",
   "execution_count": 112,
   "metadata": {},
   "outputs": [],
   "source": [
    "def ImplicitDiff(express):\n",
    "    l=diff(express,x);\n",
    "    print(\"y'(x) =\",solve(l,Derivative(y,x))[0])\n",
    "    print(\"\\n===\\n, i.e.\\n\")\n",
    "    pprint(solve(l,Derivative(y,x))[0])"
   ]
  },
  {
   "cell_type": "code",
   "execution_count": 114,
   "metadata": {},
   "outputs": [
    {
     "name": "stdout",
     "output_type": "stream",
     "text": [
      "y'(x) = -y(x)*cos(x*y(x))/(x*cos(x*y(x)) - 1)\n",
      "\n",
      "===\n",
      ", i.e.\n",
      "\n",
      "-y(x)⋅cos(x⋅y(x)) \n",
      "──────────────────\n",
      "x⋅cos(x⋅y(x)) - 1 \n"
     ]
    }
   ],
   "source": [
    "#7\n",
    "\n",
    "y=Function(\"y\")\n",
    "y=y(x)\n",
    "\n",
    "ImplicitDiff(y-sin(x*y))"
   ]
  },
  {
   "cell_type": "code",
   "execution_count": 65,
   "metadata": {},
   "outputs": [
    {
     "name": "stdout",
     "output_type": "stream",
     "text": [
      "y'(x) = -2*x*y(x)/(2*y(x)**2 - 3)\n",
      "\n",
      "===\n",
      ", i.e.\n",
      "\n",
      " -2⋅x⋅y(x) \n",
      "───────────\n",
      "   2       \n",
      "2⋅y (x) - 3\n"
     ]
    }
   ],
   "source": [
    "# 8\n",
    "ImplicitDiff(x**2-3*log(y)+y**2-10)"
   ]
  },
  {
   "cell_type": "code",
   "execution_count": 67,
   "metadata": {},
   "outputs": [
    {
     "name": "stdout",
     "output_type": "stream",
     "text": [
      "y'(x) = -y(x)/x + exp(-x*y(x))/(3*x)\n",
      "\n",
      "===\n",
      ", i.e.\n",
      "\n",
      "          -x⋅y(x)\n",
      "  y(x)   ℯ       \n",
      "- ──── + ────────\n",
      "   x       3⋅x   \n"
     ]
    }
   ],
   "source": [
    "#15\n",
    "ImplicitDiff(3*exp(x*y)-x)"
   ]
  },
  {
   "cell_type": "code",
   "execution_count": 117,
   "metadata": {},
   "outputs": [],
   "source": [
    "def tangetline(express,x0,y0):\n",
    "    l=diff(express,x);\n",
    "    m=(solve(l,Derivative(y,x))[0]).subs({x:x0,y:y0})\n",
    "    print(\"The tangent line of %s=0 at (x,y)=(%s,%s) is \\n (y-%s)=%s(x-%s)\" %(express,x0,y0,y0,m,x0))\n"
   ]
  },
  {
   "cell_type": "code",
   "execution_count": 85,
   "metadata": {},
   "outputs": [],
   "source": [
    "x, y = symbols('x y')\n",
    "def ImplicitPlot(express):\n",
    "    eq = Eq(express)\n",
    "    plot_implicit(eq)"
   ]
  },
  {
   "cell_type": "code",
   "execution_count": 88,
   "metadata": {},
   "outputs": [
    {
     "name": "stdout",
     "output_type": "stream",
     "text": [
      "The tangent line of -x + 3*exp(x*y(x))=0 at (x,y)=(3,0) is \n",
      " (y-0)=1/9(x-3)\n"
     ]
    }
   ],
   "source": [
    "fxy=3*exp(x*y)-x\n",
    "y=Function(\"y\")\n",
    "y=y(x)\n",
    "tangetline(3*exp(x*y)-x,3,0)"
   ]
  },
  {
   "cell_type": "code",
   "execution_count": 89,
   "metadata": {},
   "outputs": [
    {
     "data": {
      "image/png": "[encoded data removed]",
      "text/plain": [
       "<Figure size 432x288 with 1 Axes>"
      ]
     },
     "metadata": {
      "needs_background": "light"
     },
     "output_type": "display_data"
    }
   ],
   "source": [
    "x, y = symbols('x y')\n",
    "\n",
    "ImplicitPlot(3*exp(x*y)-x)"
   ]
  },
  {
   "cell_type": "code",
   "execution_count": 90,
   "metadata": {},
   "outputs": [
    {
     "name": "stdout",
     "output_type": "stream",
     "text": [
      "The tangent line of x**2 + x*y(x) + y(x)**2 - 4=0 at (x,y)=(2,0) is \n",
      " (y-0)=-2(x-2)\n"
     ]
    }
   ],
   "source": [
    "#27\n",
    "\n",
    "y=Function(\"y\")\n",
    "y=y(x)\n",
    "tangetline(x**2+x*y+y**2-4,2,0)"
   ]
  },
  {
   "cell_type": "code",
   "execution_count": 103,
   "metadata": {},
   "outputs": [],
   "source": [
    "def ImplicitDiff_2(express):\n",
    "    l=diff(express,x);\n",
    "    y_prime=solve(l,Derivative(y,x))[0]\n",
    "    \n",
    "    y_pp=diff(y_prime).subs({Derivative(y,x):y_prime})\n",
    "    print(\"y'(x) =\",solve(l,Derivative(y,x))[0])\n",
    "    print(\"y''(x) =\",y_pp)\n",
    "    print(\"\\n===\\n, i.e. the second-order of derivative, y''(x) is \\n\")\n",
    "    pprint(y_pp)"
   ]
  },
  {
   "cell_type": "code",
   "execution_count": 104,
   "metadata": {},
   "outputs": [
    {
     "name": "stdout",
     "output_type": "stream",
     "text": [
      "y'(x) = (2 - y(x))/(x - 2*y(x))\n",
      "y''(x) = (2 - y(x))*(2*(2 - y(x))/(x - 2*y(x)) - 1)/(x - 2*y(x))**2 - (2 - y(x))/(x - 2*y(x))**2\n",
      "\n",
      "===\n",
      ", i.e. the second-order of derivative, y''(x) is \n",
      "\n",
      "           ⎛2⋅(2 - y(x))    ⎞                \n",
      "(2 - y(x))⋅⎜──────────── - 1⎟                \n",
      "           ⎝ x - 2⋅y(x)     ⎠      2 - y(x)  \n",
      "───────────────────────────── - ─────────────\n",
      "                    2                       2\n",
      "        (x - 2⋅y(x))            (x - 2⋅y(x)) \n"
     ]
    }
   ],
   "source": [
    "# 35\n",
    "\n",
    "ImplicitDiff_2(x*y-1-2*x-y**2)"
   ]
  },
  {
   "cell_type": "code",
   "execution_count": 107,
   "metadata": {},
   "outputs": [
    {
     "name": "stdout",
     "output_type": "stream",
     "text": [
      "The tangent line of -x + 3*exp(x*y(x))=0 at (x,y)=(c,sqrt(-c**2 + r**2)) is \n",
      " (y-sqrt(-c**2 + r**2))=-sqrt(-c**2 + r**2)/c + exp(-c*sqrt(-c**2 + r**2))/(3*c)(x-c)\n"
     ]
    }
   ],
   "source": [
    "#36\n",
    "r,c=symbols(\"r c\")\n",
    "fxy=x**2+y**2-r**2\n",
    "y=Function(\"y\")\n",
    "y=y(x)\n",
    "x0=c\n",
    "y0=sqrt(r**2-c**2)\n",
    "tangetline(3*exp(x*y)-x,x0,y0)"
   ]
  },
  {
   "cell_type": "markdown",
   "metadata": {},
   "source": [
    "Since the mulipcation of slopes of normal line and tangent passing same point is -1, "
   ]
  },
  {
   "cell_type": "code",
   "execution_count": 144,
   "metadata": {},
   "outputs": [],
   "source": [
    "def normaline(express,x0,y0):\n",
    "    l=diff(express,x);\n",
    "    m=(solve(l,Derivative(y,x))[0]).subs({x:x0,y:y0})\n",
    "    eq=-simplify(y-y0+(x-x0)/m)\n",
    "    print(\"The normal line of %s=0 at (x,y)=(%s,%s) is \\n %s=0\" %(express,x0,y0,eq))\n",
    "    print(\"---\\n i.e.\\n 0=\")\n",
    "          \n",
    "    pprint(eq)\n",
    "   \n"
   ]
  },
  {
   "cell_type": "code",
   "execution_count": 145,
   "metadata": {},
   "outputs": [
    {
     "name": "stdout",
     "output_type": "stream",
     "text": [
      "The normal line of -r**2 + x**2 + y(x)**2=0 at (x,y)=(c,sqrt(-c**2 + r**2)) is \n",
      " -y(x) + x*sqrt(-c**2 + r**2)/c=0\n",
      "---\n",
      " i.e.\n",
      " 0=\n",
      "             ___________\n",
      "            ╱    2    2 \n",
      "        x⋅╲╱  - c  + r  \n",
      "-y(x) + ────────────────\n",
      "               c        \n"
     ]
    }
   ],
   "source": [
    "normaline(fxy,x0,y0)"
   ]
  },
  {
   "cell_type": "code",
   "execution_count": 146,
   "metadata": {},
   "outputs": [
    {
     "data": {
      "text/latex": [
       "$\\displaystyle - \\frac{x \\left(x - 1\\right)^{\\frac{3}{2}}}{2 \\left(x + 1\\right)^{\\frac{3}{2}}} + \\frac{3 x \\sqrt{x - 1}}{2 \\sqrt{x + 1}} + \\frac{\\left(x - 1\\right)^{\\frac{3}{2}}}{\\sqrt{x + 1}}$"
      ],
      "text/plain": [
       "-x*(x - 1)**(3/2)/(2*(x + 1)**(3/2)) + 3*x*sqrt(x - 1)/(2*sqrt(x + 1)) + (x - 1)**(3/2)/sqrt(x + 1)"
      ]
     },
     "execution_count": 146,
     "metadata": {},
     "output_type": "execute_result"
    }
   ],
   "source": [
    "##41\n",
    "diff(x*(x-1)**Fraction(3,2)/sqrt(x+1),x)"
   ]
  },
  {
   "cell_type": "code",
   "execution_count": 147,
   "metadata": {},
   "outputs": [
    {
     "data": {
      "text/latex": [
       "$\\displaystyle \\left(x - 2\\right)^{x + 1} \\left(\\log{\\left(x - 2 \\right)} + \\frac{x + 1}{x - 2}\\right)$"
      ],
      "text/plain": [
       "(x - 2)**(x + 1)*(log(x - 2) + (x + 1)/(x - 2))"
      ]
     },
     "execution_count": 147,
     "metadata": {},
     "output_type": "execute_result"
    }
   ],
   "source": [
    "#44\n",
    "diff((x-2)**(x+1),x)"
   ]
  },
  {
   "cell_type": "code",
   "execution_count": 119,
   "metadata": {},
   "outputs": [
    {
     "name": "stdout",
     "output_type": "stream",
     "text": [
      "The tangent line of -sqrt(c) + sqrt(x) + sqrt(y(x))=0 at (x,y)=(k,(sqrt(c) - sqrt(k))**2) is \n",
      " (y-(sqrt(c) - sqrt(k))**2)=-sqrt((sqrt(c) - sqrt(k))**2)/sqrt(k)(x-k)\n"
     ]
    }
   ],
   "source": [
    "#50\n",
    "r,c,k=symbols(\"r c k\")\n",
    "\n",
    "fxy=sqrt(x)+sqrt(y)-sqrt(c)\n",
    "y=Function(\"y\")\n",
    "y=y(x)\n",
    "x0=k\n",
    "y0=(sqrt(c)-sqrt(x0))**2\n",
    "\n",
    "tangetline(sqrt(x)+sqrt(y)-sqrt(c),x0,y0)"
   ]
  },
  {
   "cell_type": "markdown",
   "metadata": {},
   "source": [
    "From above, the sum of $x$-intercept and $y$-intercept is:\n",
    "    $$\\left[k+ (\\sqrt c - \\sqrt k)\\sqrt k\\right]+\\left[(\\sqrt c - \\sqrt k)^2+\\sqrt k(\\sqrt c - \\sqrt k)\\right]=c$$"
   ]
  }
 ],
 "metadata": {
  "kernelspec": {
   "display_name": "Python 3",
   "language": "python",
   "name": "python3"
  },
  "language_info": {
   "codemirror_mode": {
    "name": "ipython",
    "version": 3
   },
   "file_extension": ".py",
   "mimetype": "text/x-python",
   "name": "python",
   "nbconvert_exporter": "python",
   "pygments_lexer": "ipython3",
   "version": "3.6.9"
  }
 },
 "nbformat": 4,
 "nbformat_minor": 4
}
