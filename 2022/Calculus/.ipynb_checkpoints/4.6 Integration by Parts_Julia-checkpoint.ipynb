{
 "cells": [
  {
   "cell_type": "code",
   "execution_count": 1,
   "metadata": {},
   "outputs": [
    {
     "data": {
      "text/latex": [
       "$x$"
      ],
      "text/plain": [
       "x"
      ]
     },
     "execution_count": 1,
     "metadata": {},
     "output_type": "execute_result"
    }
   ],
   "source": [
    "# Julia for Integration\n",
    "using SymPy\n",
    "using Printf\n",
    "\n",
    "x = Sym(\"x\")"
   ]
  },
  {
   "cell_type": "code",
   "execution_count": 2,
   "metadata": {},
   "outputs": [
    {
     "data": {
      "text/plain": [
       "(x, u)"
      ]
     },
     "execution_count": 2,
     "metadata": {},
     "output_type": "execute_result"
    }
   ],
   "source": [
    "@syms x u\n"
   ]
  },
  {
   "cell_type": "code",
   "execution_count": 38,
   "metadata": {},
   "outputs": [
    {
     "data": {
      "text/plain": [
       "DefInt (generic function with 3 methods)"
      ]
     },
     "execution_count": 38,
     "metadata": {},
     "output_type": "execute_result"
    }
   ],
   "source": [
    "function DefInt(f,x,a,b)\n",
    "    println(\"  \",b)\n",
    "    @printf(\"ʃ %s =  %s\\n\",f(x),integrate(f(x),(x,a,b)))\n",
    "    println(\"  \",a)\n",
    "    #println(integrate(f(x),(x))\n",
    "end    "
   ]
  },
  {
   "cell_type": "code",
   "execution_count": 39,
   "metadata": {},
   "outputs": [
    {
     "name": "stdout",
     "output_type": "stream",
     "text": [
      "  2\n",
      "ʃ 3*x^2*sqrt(x^3 + 1) =  18 - 4*sqrt(2)/3\n",
      "  1\n"
     ]
    }
   ],
   "source": [
    "f(x)=3*x^2 *sqrt(x^3+1)\n",
    "DefInt(f,x,1,2)"
   ]
  },
  {
   "cell_type": "code",
   "execution_count": 95,
   "metadata": {},
   "outputs": [
    {
     "data": {
      "text/plain": [
       "Int_by_Parts (generic function with 1 method)"
      ]
     },
     "execution_count": 95,
     "metadata": {},
     "output_type": "execute_result"
    }
   ],
   "source": [
    "function Int_by_Parts(F,g,x)\n",
    "    f(x)=diff(F(x),x)\n",
    "    G(x)=integrate(g(x),x)\n",
    "    result=integrate(F(x)*g(x),x)\n",
    "    integrand(x)=simplify(f(x)*G(x))\n",
    "    #print(f(x)|> subs(x, 1));\n",
    "    #println(\"  \",b)\n",
    "    println(\"ʃ F(x)g(x) dx =  F(x)g(x) - ʃf(x)G(x)dx where F'(x)=f(x), G'(x)=g(x)\\n\")\n",
    "    @printf(\"ʃ (%s) (%s) dx =  (%s) (%s) - ʃ %s dx = %s +C\\n\",F(x),g(x),F(x),G(x),integrand(x),result)\n",
    "    #println(\"  \",a)\n",
    "    #println(integrate(f(x),(x))\n",
    "end "
   ]
  },
  {
   "cell_type": "code",
   "execution_count": 96,
   "metadata": {},
   "outputs": [
    {
     "name": "stdout",
     "output_type": "stream",
     "text": [
      "ʃ F(x)g(x) dx =  F(x)g(x) - ʃf(x)G(x)dx where F'(x)=f(x), G'(x)=g(x)\n",
      "\n",
      "ʃ (x^3) (exp(x)) dx =  (x^3) (exp(x)) - ʃ 3*x^2*exp(x) dx = (x^3 - 3*x^2 + 6*x - 6)*exp(x) +C\n"
     ]
    }
   ],
   "source": [
    "F(x)=x^3\n",
    "g(x)=exp(x)\n",
    "Int_by_Parts(F,g,x)"
   ]
  },
  {
   "cell_type": "code",
   "execution_count": 80,
   "metadata": {},
   "outputs": [
    {
     "name": "stdout",
     "output_type": "stream",
     "text": [
      "ʃ F(x)g(x) dx =  F(x)g(x) - ʃf(x)G(x)dx where F'(x)=f(x), G'(x)=g(x)\n",
      "\n",
      "ʃ (asin(x)) (x/sqrt(1 - x^2)) dx =  (asin(x)) (-sqrt(1 - x^2)) - ʃ -1 dx = x - sqrt(1 - x^2)*asin(x) +C\n"
     ]
    }
   ],
   "source": [
    "F(x)=asin(x)\n",
    "g(x)=x/sqrt(1-x^2)\n",
    "Int_by_Parts(F,g,x)"
   ]
  },
  {
   "cell_type": "code",
   "execution_count": null,
   "metadata": {},
   "outputs": [],
   "source": []
  },
  {
   "cell_type": "code",
   "execution_count": 60,
   "metadata": {},
   "outputs": [
    {
     "data": {
      "text/plain": [
       "Int_substitution2 (generic function with 1 method)"
      ]
     },
     "execution_count": 60,
     "metadata": {},
     "output_type": "execute_result"
    }
   ],
   "source": [
    "function Int_by_Parts(f,g,x)\n",
    "\n",
    "    fu=subs(f(x)/diff(g(x),x),x,solve(u-g(x),x)[1])\n",
    "    Fu=integrate(fu,u) \n",
    "    Fx=subs(Fu,u,g(x))\n",
    "    print(\"Replacing \",g(x), \" by u, du = (\",diff(g(x),x),\")d\",x,\" gets:\\n\\n\",\"∫(\", f,\n",
    "        \") d \",x,\" = ∫(\",fu,\") d u \\n\\t = \",Fu,\"+C = \",Fx,\" +C\")\n",
    "end \n",
    "\n",
    "function Int_substitution2(f,g,x,a,b)\n",
    "\n",
    "    fu=subs(f(x)/diff(g(x),x),x,solve(u-g(x),x)[1])\n",
    "    Fu=integrate(fu,(u,g(a),g(b)))\n",
    "    print(\"Replacing \",g(x), \" by u, du = (\",diff(g(x),x),\")d\",x,\" and u(\",x,\") from \",g(a),\" to \",g(b),\" :\\n\\n\")\n",
    "    print(\"∫_\",a,\"^\",b,\"(\", f,\") d x = ∫_\",g(a),\"^\",g(b),\"(\",fu,\") d u \\n= \",Fu)\n",
    "\n",
    "end\n"
   ]
  },
  {
   "cell_type": "code",
   "execution_count": 22,
   "metadata": {},
   "outputs": [
    {
     "name": "stdout",
     "output_type": "stream",
     "text": [
      "Replacing x^3 + 1 by u, du = (3*x^2)dx, gets:\n",
      "\n",
      "∫(3*x^2*sqrt(x^3 + 1)) d x = ∫(sqrt(u)) d u \n",
      "\t = 2*u^(3/2)/3+C = 2*(x^3 + 1)^(3/2)/3 +C"
     ]
    }
   ],
   "source": [
    "#2. x^2 sqrt(x^3+1)\n",
    "f(x)=3*x^2 *sqrt(x^3+1)\n",
    "g(x)=x^3+1\n",
    "Int_substitution(f(x),g(x),x)"
   ]
  },
  {
   "cell_type": "code",
   "execution_count": 23,
   "metadata": {},
   "outputs": [
    {
     "name": "stdout",
     "output_type": "stream",
     "text": [
      "Replacing 1 + 1/x by u, du = (-1/x^2)dx, gets:\n",
      "\n",
      "∫((1 + 1/x)^3/x^2) d x = ∫(-u^3) d u \n",
      "\t = -u^4/4+C = -(1 + 1/x)^4/4 +C"
     ]
    }
   ],
   "source": [
    "#15 (1+1/x)^3/x^2\n",
    "f(x)=(1+1/x)^3/x^2\n",
    "g(x)=1/x+1\n",
    "Int_substitution(f(x),g(x),x)"
   ]
  },
  {
   "cell_type": "code",
   "execution_count": 32,
   "metadata": {},
   "outputs": [
    {
     "name": "stdout",
     "output_type": "stream",
     "text": [
      "Replacing 8 - 1/t^4 by u, du = (4/t^5)dt gets:\n",
      "\n",
      "∫((8 - 1/t^4)^2/t^5) d t = ∫(u^2/4) d u \n",
      "\t = u^3/12+C = (8 - 1/t^4)^3/12 +C"
     ]
    }
   ],
   "source": [
    "#16 (8-1/t^4)^2/t^3\n",
    "@syms t\n",
    "f(t)=(8-1/t^4)^2/t^5\n",
    "g(t)=8-1/t^4\n",
    "Int_substitution(f(t),g(t),t)"
   ]
  },
  {
   "cell_type": "code",
   "execution_count": 24,
   "metadata": {},
   "outputs": [
    {
     "name": "stdout",
     "output_type": "stream",
     "text": [
      "Replacing cos(x) by u, du = (-sin(x))dx, gets:\n",
      "\n",
      "∫(sin(x)*cos(x)^3) d x = ∫(-u^3) d u \n",
      "\t = -u^4/4+C = -cos(x)^4/4 +C"
     ]
    }
   ],
   "source": [
    "#26  sin(x)*cos(x)^3\n",
    "f(x)=sin(x)*cos(x)^3\n",
    "g(x)=cos(x)\n",
    "Int_substitution(f(x),g(x),x)"
   ]
  },
  {
   "cell_type": "code",
   "execution_count": 106,
   "metadata": {},
   "outputs": [
    {
     "data": {
      "text/latex": [
       "$e^{- x} - \\frac{5 e^{- 2 x}}{2}$"
      ],
      "text/plain": [
       "         -2⋅x\n",
       " -x   5⋅ℯ    \n",
       "ℯ   - ───────\n",
       "         2   "
      ]
     },
     "execution_count": 106,
     "metadata": {},
     "output_type": "execute_result"
    }
   ],
   "source": [
    "#29  (5-exp(x))/exp(2*x)\n",
    "f(x)=5*exp(-2x)-exp(-x)\n",
    "integrate(f(x),x)"
   ]
  },
  {
   "cell_type": "code",
   "execution_count": 34,
   "metadata": {},
   "outputs": [
    {
     "data": {
      "text/latex": [
       "$x^{2} - x$"
      ],
      "text/plain": [
       " 2    \n",
       "x  - x"
      ]
     },
     "execution_count": 34,
     "metadata": {},
     "output_type": "execute_result"
    }
   ],
   "source": [
    "#34 log(e^(2*x-1))\n",
    "f(x)=log(exp(2*x-1))\n",
    "#Int_substitution(f(x),g(x),x)\n",
    "integrate(f(x),x)"
   ]
  },
  {
   "cell_type": "code",
   "execution_count": 107,
   "metadata": {},
   "outputs": [
    {
     "data": {
      "text/latex": [
       "$\\frac{2 \\cdot 3^{\\frac{x}{2}}}{\\log{\\left(3 \\right)}}$"
      ],
      "text/plain": [
       "    x \n",
       "    ─ \n",
       "    2 \n",
       " 2⋅3  \n",
       "──────\n",
       "log(3)"
      ]
     },
     "execution_count": 107,
     "metadata": {},
     "output_type": "execute_result"
    }
   ],
   "source": [
    "#35\n",
    "integrate(3^(x/2),x)"
   ]
  },
  {
   "cell_type": "code",
   "execution_count": 25,
   "metadata": {},
   "outputs": [
    {
     "name": "stdout",
     "output_type": "stream",
     "text": [
      "Replacing 2*x - 1 by u, du = (2)dx, gets:\n",
      "\n",
      "∫((x^2 - 1)/sqrt(2*x - 1)) d x = ∫(((u/2 + 1/2)^2 - 1)/(2*sqrt(u))) d u \n",
      "\t = u^(5/2)/20 + u^(3/2)/6 - 3*sqrt(u)/4+C = (2*x - 1)^(5/2)/20 + (2*x - 1)^(3/2)/6 - 3*sqrt(2*x - 1)/4 +C"
     ]
    }
   ],
   "source": [
    "#43  (x^2-1)/sqrt(2*x-1)\n",
    "f(x)=(x^2-1)/sqrt(2*x-1)\n",
    "g(x)=2*x-1\n",
    "Int_substitution(f(x),g(x),x)"
   ]
  },
  {
   "cell_type": "code",
   "execution_count": 41,
   "metadata": {},
   "outputs": [
    {
     "name": "stdout",
     "output_type": "stream",
     "text": [
      "Replacing sqrt(x) by u, du = (1/(2*sqrt(x)))dx and u(x) from 1 to 3 :\n",
      "\n",
      "∫_1^9(1/(sqrt(x)*(sqrt(x) + 1)^2)) d x = ∫_1^3(2/(sqrt(u^2) + 1)^2) d u \n",
      "= 1/2"
     ]
    }
   ],
   "source": [
    "#50 \n",
    "f(x)=1/sqrt(x)/(1+sqrt(x))^2\n",
    "g(x)=sqrt(x)\n",
    "Int_substitution2(f(x),g(x),x,1,9)"
   ]
  },
  {
   "cell_type": "code",
   "execution_count": 42,
   "metadata": {},
   "outputs": [
    {
     "name": "stdout",
     "output_type": "stream",
     "text": [
      "Replacing 3/x by u, du = (-3/x^2)dx and u(x) from 3 to 1 :\n",
      "\n",
      "∫_1^3(exp(3/x)/x^2) d x = ∫_3^1(-exp(u)/3) d u \n",
      "= -E/3 + exp(3)/3"
     ]
    }
   ],
   "source": [
    "#52 \n",
    "f(x)=exp(3/x)/x^2\n",
    "g(x)=3/x\n",
    "Int_substitution2(f(x),g(x),x,1,3)"
   ]
  },
  {
   "cell_type": "markdown",
   "metadata": {},
   "source": [
    "#68\n",
    "\n",
    "\\begin{eqnarray}\n",
    "   \\lim_{n\\to\\infty}\\sum_{i=1}^n\\frac{\\sin(i\\pi/n)}{n}&=&\\int_0^1\\sin(\\pi x) dx=\\frac{2}{\\pi}\n",
    "\\end{eqnarray}"
   ]
  },
  {
   "cell_type": "code",
   "execution_count": 45,
   "metadata": {},
   "outputs": [
    {
     "data": {
      "text/latex": [
       "$\\frac{2}{\\pi}$"
      ],
      "text/plain": [
       "2\n",
       "─\n",
       "π"
      ]
     },
     "execution_count": 45,
     "metadata": {},
     "output_type": "execute_result"
    }
   ],
   "source": [
    "integrate(sin(pi*x),(x,0,1))"
   ]
  },
  {
   "cell_type": "code",
   "execution_count": 46,
   "metadata": {},
   "outputs": [
    {
     "data": {
      "text/latex": [
       "$\\frac{4}{15}$"
      ],
      "text/plain": [
       "4/15"
      ]
     },
     "execution_count": 46,
     "metadata": {},
     "output_type": "execute_result"
    }
   ],
   "source": [
    "integrate(x*sqrt(1-x),(x,0,1))"
   ]
  },
  {
   "cell_type": "code",
   "execution_count": 49,
   "metadata": {},
   "outputs": [
    {
     "data": {
      "text/latex": [
       "$\\frac{15 \\left(\\begin{cases} \\frac{2 i x^{2} \\sqrt{x - 1}}{5} - \\frac{2 i x \\sqrt{x - 1}}{15} - \\frac{4 i \\sqrt{x - 1}}{15} & \\text{for}\\: \\left|{x}\\right| > 1 \\\\\\frac{2 x^{2} \\sqrt{1 - x}}{5} - \\frac{2 x \\sqrt{1 - x}}{15} - \\frac{4 \\sqrt{1 - x}}{15} & \\text{otherwise} \\end{cases}\\right)}{4}$"
      ],
      "text/plain": [
       "   ⎛⎧     2   _______           _______         _______             ⎞\n",
       "   ⎜⎪2⋅ⅈ⋅x ⋅╲╱ x - 1    2⋅ⅈ⋅x⋅╲╱ x - 1    4⋅ⅈ⋅╲╱ x - 1              ⎟\n",
       "   ⎜⎪──────────────── - ─────────────── - ─────────────  for │x│ > 1⎟\n",
       "   ⎜⎪       5                  15               15                  ⎟\n",
       "15⋅⎜⎨                                                               ⎟\n",
       "   ⎜⎪      2   _______         _______       _______                ⎟\n",
       "   ⎜⎪   2⋅x ⋅╲╱ 1 - x    2⋅x⋅╲╱ 1 - x    4⋅╲╱ 1 - x                 ⎟\n",
       "   ⎜⎪   ────────────── - ───────────── - ───────────      otherwise ⎟\n",
       "   ⎝⎩         5                15             15                    ⎠\n",
       "─────────────────────────────────────────────────────────────────────\n",
       "                                  4                                  "
      ]
     },
     "execution_count": 49,
     "metadata": {},
     "output_type": "execute_result"
    }
   ],
   "source": [
    "integrate(15*x*sqrt(1-x)/4,x)"
   ]
  },
  {
   "cell_type": "code",
   "execution_count": 152,
   "metadata": {},
   "outputs": [
    {
     "name": "stdout",
     "output_type": "stream",
     "text": [
      " Probability is 0.353, from a=0.50 to b=0.75"
     ]
    }
   ],
   "source": [
    "# 71\n",
    "p=integrate(15*x*sqrt(1-x)/4,(x,0.5,0.75))\n",
    "@printf(\" Probability is %.3f, from a=0.50 to b=0.75\",p)"
   ]
  },
  {
   "cell_type": "code",
   "execution_count": 145,
   "metadata": {},
   "outputs": [
    {
     "name": "stdout",
     "output_type": "stream",
     "text": [
      " b= 0.10, Probability: 0.018\n",
      " b= 0.20, Probability: 0.070\n",
      " b= 0.30, Probability: 0.151\n",
      " b= 0.40, Probability: 0.256\n",
      " b= 0.50, Probability: 0.381\n",
      " b= 0.60, Probability: 0.519\n",
      " b= 0.70, Probability: 0.663\n",
      " b= 0.80, Probability: 0.803\n",
      " b= 0.90, Probability: 0.926\n",
      " b= 1.00, Probability: 1.000\n"
     ]
    }
   ],
   "source": [
    "# 72\n",
    "for i in 1:10\n",
    "    #println(i*0.1, ' ',integrate(15*x*sqrt(1-x)/4,(x,0,i*0.1)))\n",
    "    @printf(\" b= %.2f, Probability: %.3f\\n\", i*0.1,integrate(15*x*sqrt(1-x)/4,(x,0,i*0.1)))\n",
    "end    "
   ]
  },
  {
   "cell_type": "code",
   "execution_count": 143,
   "metadata": {},
   "outputs": [
    {
     "name": "stdout",
     "output_type": "stream",
     "text": [
      " b= 0.51, Probability: 0.395\n",
      " b= 0.52, Probability: 0.408\n",
      " b= 0.53, Probability: 0.422\n",
      " b= 0.54, Probability: 0.435\n",
      " b= 0.55, Probability: 0.449\n",
      " b= 0.56, Probability: 0.463\n",
      " b= 0.57, Probability: 0.477\n",
      " b= 0.58, Probability: 0.491\n",
      " b= 0.59, Probability: 0.505\n",
      " b= 0.60, Probability: 0.519\n"
     ]
    }
   ],
   "source": [
    "# 72\n",
    "\n",
    "for i in 1:10\n",
    "    @printf(\" b= %.2f, Probability: %.3f\\n\", 0.5+i*0.01,integrate(15*x*sqrt(1-x)/4,(x,0,0.5+i*0.01)))\n",
    "end    "
   ]
  },
  {
   "cell_type": "markdown",
   "metadata": {},
   "source": [
    "Above result shown: $b\\approx59.$"
   ]
  },
  {
   "cell_type": "code",
   "execution_count": 178,
   "metadata": {},
   "outputs": [
    {
     "data": {
      "text/plain": [
       "bisect (generic function with 1 method)"
      ]
     },
     "execution_count": 178,
     "metadata": {},
     "output_type": "execute_result"
    }
   ],
   "source": [
    "function bisect(f,init)\n",
    "   tr=init\n",
    "   tf=tr\n",
    "   tl=0\n",
    "   intl=0 \n",
    "   intr=integrate(15*x*sqrt(1-x)/4,(x,0,tr)) \n",
    "   int= intr\n",
    "   while abs(int-0.5)>0.01\n",
    "       if int>0.5\n",
    "          tl=(tr+tl)/2\n",
    "          tf= tl \n",
    "          intl=integrate(15*x*sqrt(1-x)/4,(x,0,tl))\n",
    "          int=intl\n",
    "       else\n",
    "          tr=(tr+tl)/2 \n",
    "          intr=integrate(15*x*sqrt(1-x)/4,(x,0,tr))\n",
    "          int=intr\n",
    "          tf= tr  \n",
    "       end\n",
    "      #println(tf)  \n",
    "   end     \n",
    "   println(\"the probability is 1/2 for b being \",tf,\" approximately.\")\n",
    "end    "
   ]
  },
  {
   "cell_type": "code",
   "execution_count": 179,
   "metadata": {},
   "outputs": [
    {
     "name": "stdout",
     "output_type": "stream",
     "text": [
      "the probability is 1/2 for b being 0.590625 approximately.\n"
     ]
    }
   ],
   "source": [
    "bisect(f,0.9)"
   ]
  },
  {
   "cell_type": "code",
   "execution_count": 61,
   "metadata": {},
   "outputs": [
    {
     "data": {
      "text/latex": [
       "$\\frac{3}{2}$"
      ],
      "text/plain": [
       "3/2"
      ]
     },
     "execution_count": 61,
     "metadata": {},
     "output_type": "execute_result"
    }
   ],
   "source": [
    "# 4.6 p270\n",
    "#6\n",
    "f(x)=sin(6*x)/(4*x)\n",
    "limit(f(x),x=>0)"
   ]
  },
  {
   "cell_type": "code",
   "execution_count": 119,
   "metadata": {},
   "outputs": [
    {
     "data": {
      "text/plain": [
       "lHopital (generic function with 1 method)"
      ]
     },
     "execution_count": 119,
     "metadata": {},
     "output_type": "execute_result"
    }
   ],
   "source": [
    "function lHopital(f,g,a)\n",
    "    fp, gp = diff(f(x),x), diff(g(x),x)\n",
    "    flim=limit(f(x),x=>a)\n",
    "    glim=limit(f(x),x=>a)\n",
    "    if flim==0 && glim==0\n",
    "       println(\"0 / 0 Indeterminant form\\n\")\n",
    "       lim=limit(fp/gp,x=>a)\n",
    "       #println(\"Limit of \",f(x),\"/\",g(x),\" at \",a, \" is \",lim) \n",
    "    elseif  flim==oo && glim==oo\n",
    "       println(\"oo / oo Indeterminant form\") \n",
    "       lim=limit(fp/gp,x=>a)\n",
    "       #println(\"Limit of \",f(x),\"/\",g(x),\" at \",a, \" is \",lim)\n",
    "    else\n",
    "      lim=  limit(f/g,x=>a)\n",
    "      #println(\"Limit of \",f(x),\"/\",g(x),\" at \",a, \" is \",lim)  \n",
    "    end    \n",
    "    println(\"Limit of \",f(x),\"/\",g(x),\" at \",a, \" is \",lim)\n",
    "end            "
   ]
  },
  {
   "cell_type": "code",
   "execution_count": 121,
   "metadata": {},
   "outputs": [
    {
     "name": "stdout",
     "output_type": "stream",
     "text": [
      "0 / 0 Indeterminant form\n",
      "\n",
      "Limit of sin(x)/x at 0 is 1\n"
     ]
    }
   ],
   "source": [
    "lHopital(sin(x),x,0)"
   ]
  },
  {
   "cell_type": "code",
   "execution_count": 62,
   "metadata": {},
   "outputs": [
    {
     "data": {
      "text/latex": [
       "$\\frac{3}{5}$"
      ],
      "text/plain": [
       "3/5"
      ]
     },
     "execution_count": 62,
     "metadata": {},
     "output_type": "execute_result"
    }
   ],
   "source": [
    "#14\n",
    "f(x)=sin(3*x)/sin(5*x)\n",
    "limit(f(x),x=>0)"
   ]
  },
  {
   "cell_type": "code",
   "execution_count": 64,
   "metadata": {},
   "outputs": [
    {
     "data": {
      "text/latex": [
       "$\\sin{\\left(3 \\right)}$"
      ],
      "text/plain": [
       "sin(3)"
      ]
     },
     "execution_count": 64,
     "metadata": {},
     "output_type": "execute_result"
    }
   ],
   "source": [
    "#27\n",
    "\n",
    "f(x)=integrate(sin(t),(t,x,-3))/(x+3)\n",
    "limit(f(x),x=>-3)"
   ]
  },
  {
   "cell_type": "code",
   "execution_count": null,
   "metadata": {},
   "outputs": [],
   "source": []
  },
  {
   "cell_type": "code",
   "execution_count": 65,
   "metadata": {},
   "outputs": [
    {
     "data": {
      "text/latex": [
       "$0$"
      ],
      "text/plain": [
       "0"
      ]
     },
     "execution_count": 65,
     "metadata": {},
     "output_type": "execute_result"
    }
   ],
   "source": [
    "#33\n",
    "f(x)=x^(1/x)\n",
    "limit(f(x),x=>0)"
   ]
  },
  {
   "cell_type": "code",
   "execution_count": null,
   "metadata": {},
   "outputs": [],
   "source": []
  },
  {
   "cell_type": "code",
   "execution_count": 66,
   "metadata": {},
   "outputs": [
    {
     "data": {
      "text/latex": [
       "$1$"
      ],
      "text/plain": [
       "1"
      ]
     },
     "execution_count": 66,
     "metadata": {},
     "output_type": "execute_result"
    }
   ],
   "source": [
    "#36\n",
    "f(x)=(1+x)^(1/x)\n",
    "limit(f(x),x=>oo)"
   ]
  },
  {
   "cell_type": "code",
   "execution_count": 67,
   "metadata": {},
   "outputs": [
    {
     "data": {
      "text/latex": [
       "$0$"
      ],
      "text/plain": [
       "0"
      ]
     },
     "execution_count": 67,
     "metadata": {},
     "output_type": "execute_result"
    }
   ],
   "source": [
    "#44\n",
    "f(x)=x-sqrt(1+x^2)\n",
    "limit(f(x),x=>oo)"
   ]
  },
  {
   "cell_type": "code",
   "execution_count": 68,
   "metadata": {},
   "outputs": [
    {
     "data": {
      "text/latex": [
       "$0$"
      ],
      "text/plain": [
       "0"
      ]
     },
     "execution_count": 68,
     "metadata": {},
     "output_type": "execute_result"
    }
   ],
   "source": [
    "#51\n",
    "f(x)=x^2/exp(5*x)\n",
    "limit(f(x),x=>oo)"
   ]
  },
  {
   "cell_type": "code",
   "execution_count": 70,
   "metadata": {},
   "outputs": [
    {
     "data": {
      "text/latex": [
       "$0$"
      ],
      "text/plain": [
       "0"
      ]
     },
     "execution_count": 70,
     "metadata": {},
     "output_type": "execute_result"
    }
   ],
   "source": [
    "#52\n",
    "f(x)=(log(x))^3/(x)\n",
    "limit(f(x),x=>oo)"
   ]
  },
  {
   "cell_type": "code",
   "execution_count": 71,
   "metadata": {},
   "outputs": [
    {
     "data": {
      "text/latex": [
       "$0$"
      ],
      "text/plain": [
       "0"
      ]
     },
     "execution_count": 71,
     "metadata": {},
     "output_type": "execute_result"
    }
   ],
   "source": [
    "#53\n",
    "f(x)=(log(x))^2/(x)^2\n",
    "limit(f(x),x=>oo)"
   ]
  },
  {
   "cell_type": "code",
   "execution_count": 76,
   "metadata": {},
   "outputs": [
    {
     "data": {
      "text/latex": [
       "$0$"
      ],
      "text/plain": [
       "0"
      ]
     },
     "execution_count": 76,
     "metadata": {},
     "output_type": "execute_result"
    }
   ],
   "source": [
    "#53\n",
    "@syms m\n",
    "f(x)=(log(x))^m/(x)\n",
    "limit(f(x),x=>oo)"
   ]
  },
  {
   "cell_type": "code",
   "execution_count": 78,
   "metadata": {},
   "outputs": [
    {
     "data": {
      "text/latex": [
       "$0$"
      ],
      "text/plain": [
       "0"
      ]
     },
     "execution_count": 78,
     "metadata": {},
     "output_type": "execute_result"
    }
   ],
   "source": [
    "f(x)=(log(x))/(x)\n",
    "limit(f(x),x=>oo)"
   ]
  },
  {
   "cell_type": "markdown",
   "metadata": {},
   "source": [
    "For $m,n\\in\\mathbb{N}$,\n",
    "\\begin{eqnarray}\n",
    "   \\lim_{x\\to\\infty}\\frac{(\\log x)^m}{x^n}&=&\\frac{m}{n}\\lim_{x\\to\\infty}\\frac{(\\log x)^{m-1}}{x\\cdot x^{n-1}}\\\\\n",
    "   &=&\\frac{m}{n}\\lim_{x\\to\\infty}\\frac{(\\log x)^{m-1}}{x^{n}}\\\\\n",
    "   &=&\\frac{m\\cdot (m-1)}{n^2}\\lim_{x\\to\\infty}\\frac{(\\log x)^{m-2}}{x^{n}}\\\\\n",
    "   &=&\\cdots\\\\\n",
    "   &=&\\frac{m!}{n^m}\\lim_{x\\to\\infty}\\frac{1}{x^{n}}\\\\\n",
    "   &=&0\n",
    "\\end{eqnarray}"
   ]
  },
  {
   "cell_type": "code",
   "execution_count": null,
   "metadata": {},
   "outputs": [],
   "source": []
  }
 ],
 "metadata": {
  "kernelspec": {
   "display_name": "Julia 1.6.3",
   "language": "julia",
   "name": "julia-1.6"
  },
  "language_info": {
   "file_extension": ".jl",
   "mimetype": "application/julia",
   "name": "julia",
   "version": "1.6.3"
  }
 },
 "nbformat": 4,
 "nbformat_minor": 4
}
