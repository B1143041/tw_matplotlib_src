{
 "cells": [
  {
   "cell_type": "markdown",
   "metadata": {},
   "source": [
    " <font style=\"font-size:2em\"><div align=\"center\"><b> Calculus, 2019-1-IE-2</b></div></font>\n",
    "\n",
    "\n",
    " <font style=\"font-size:1.6em\">Name:  </font>  \n",
    "  <font style=\"font-size:1.6em\">Sequence Number:  </font> "
   ]
  },
  {
   "cell_type": "markdown",
   "metadata": {},
   "source": [
    "<big><big>\n",
    "<big><b>1$^\\circ$).</b></big>\n",
    "Evaluate the following Integrations: (total 100%, each 10% ($\\color{brown}{\\times10}$))<br />\n",
    "a$^\\circ$). $\\mathbf{\\int^{1}_0\\exp(\\frac{x}{3})dx}$                 <br>\n",
    "b$^\\circ$). $\\mathbf{\\int^{\\pi/2}_0\\sin x{\\cos^2 x}dx}$<br>\n",
    "c$^\\circ$). $\\mathbf{\\int^{\\pi/2}_0\\cos^2 2x dx}$ <br />\n",
    "d$^\\circ$). $\\mathbf{\\int^1_0\\frac{1}{e^x+e^{-x}}dx}$ <br>\n",
    "e$^\\circ$). $\\mathbf{\\int^1_0e^x\\cos 3x dx}$ <br>\n",
    "f$^\\circ$). $\\mathbf{\\int_0^{\\pi/2} \\tan \\frac{x}{2} dx }$<br />\n",
    "g$^\\circ$). $\\mathbf{\\int_0^{1/2}\\sqrt{1-x^2}dx}$<br>\n",
    "h$^\\circ$). $\\mathbf{\\int^{0}_{-1}\\frac{1}{x^2+2x+2}dx } $<br>\n",
    "i$^\\circ$). $\\mathbf{\\int_{-\\pi/3}^{\\pi/3}\\sin4x\\sin5x dx}$<br>\n",
    "j$^\\circ$). $\\mathbf{\\int_1^2\\frac{-3-x}{x+x^2}dx} $<br>       \n",
    "</big> </big>"
   ]
  },
  {
   "cell_type": "markdown",
   "metadata": {
    "collapsed": true
   },
   "source": [
    "<big><big>\n",
    "<big><b>2$^\\circ$).</b></big> (total 10%) Describe what the Fundamental Theorem of Calculus is and  evaluate the derivative\n",
    "$$\\mathbf{\\frac{d}{dx}\\int^{x^2}_{0}\\sqrt t e^{-t}dt}$$\n",
    "</big> </big>"
   ]
  },
  {
   "cell_type": "markdown",
   "metadata": {
    "collapsed": true
   },
   "source": [
    " "
   ]
  },
  {
   "cell_type": "markdown",
   "metadata": {
    "collapsed": true
   },
   "source": [
    " "
   ]
  },
  {
   "cell_type": "markdown",
   "metadata": {
    "collapsed": true
   },
   "source": [
    " "
   ]
  },
  {
   "cell_type": "markdown",
   "metadata": {
    "collapsed": true
   },
   "source": [
    " "
   ]
  },
  {
   "cell_type": "markdown",
   "metadata": {
    "collapsed": true
   },
   "source": [
    " "
   ]
  },
  {
   "cell_type": "markdown",
   "metadata": {
    "collapsed": true
   },
   "source": [
    " "
   ]
  },
  {
   "cell_type": "markdown",
   "metadata": {
    "collapsed": true
   },
   "source": [
    " "
   ]
  },
  {
   "cell_type": "markdown",
   "metadata": {
    "collapsed": true
   },
   "source": [
    " "
   ]
  },
  {
   "cell_type": "markdown",
   "metadata": {
    "collapsed": true
   },
   "source": [
    " "
   ]
  },
  {
   "cell_type": "markdown",
   "metadata": {
    "collapsed": true
   },
   "source": [
    " "
   ]
  },
  {
   "cell_type": "markdown",
   "metadata": {
    "collapsed": true
   },
   "source": [
    " "
   ]
  },
  {
   "cell_type": "markdown",
   "metadata": {
    "collapsed": true
   },
   "source": [
    " "
   ]
  },
  {
   "cell_type": "markdown",
   "metadata": {
    "collapsed": true
   },
   "source": [
    " "
   ]
  },
  {
   "cell_type": "markdown",
   "metadata": {
    "collapsed": true
   },
   "source": [
    " "
   ]
  },
  {
   "cell_type": "markdown",
   "metadata": {
    "collapsed": true
   },
   "source": [
    " "
   ]
  },
  {
   "cell_type": "markdown",
   "metadata": {
    "collapsed": true
   },
   "source": [
    " "
   ]
  },
  {
   "cell_type": "markdown",
   "metadata": {
    "collapsed": true
   },
   "source": [
    " "
   ]
  },
  {
   "cell_type": "markdown",
   "metadata": {
    "collapsed": true
   },
   "source": [
    " "
   ]
  },
  {
   "cell_type": "markdown",
   "metadata": {
    "collapsed": true
   },
   "source": [
    " "
   ]
  },
  {
   "cell_type": "markdown",
   "metadata": {
    "collapsed": true
   },
   "source": [
    " "
   ]
  },
  {
   "cell_type": "markdown",
   "metadata": {
    "collapsed": true
   },
   "source": [
    " "
   ]
  },
  {
   "cell_type": "markdown",
   "metadata": {
    "collapsed": true
   },
   "source": [
    " "
   ]
  },
  {
   "cell_type": "markdown",
   "metadata": {
    "collapsed": true
   },
   "source": [
    "Answer\n",
    "---"
   ]
  },
  {
   "cell_type": "code",
   "execution_count": 2,
   "metadata": {},
   "outputs": [],
   "source": [
    "from sympy import *"
   ]
  },
  {
   "cell_type": "code",
   "execution_count": 7,
   "metadata": {},
   "outputs": [],
   "source": [
    "x,t,u,C =symbols(\"x t u C\")"
   ]
  },
  {
   "cell_type": "code",
   "execution_count": 5,
   "metadata": {},
   "outputs": [],
   "source": [
    "def Int(f,*args):\n",
    "    if(len(args)!=0):\n",
    "       a=args[0]\n",
    "       b=args[1]\n",
    "       print(\"                          \",b)\n",
    "       print(\"The definite integral of  ʃ %s dx is \" %f)\n",
    "       print(\"                          \",a)\n",
    "       pprint(integrate(f,(x,a,b)))\n",
    "    else:\n",
    "       print(\"The indefinite integral of  ʃ %s dx is \" %f) \n",
    "       pprint(integrate(f,x)+C)"
   ]
  },
  {
   "cell_type": "code",
   "execution_count": 4,
   "metadata": {},
   "outputs": [
    {
     "name": "stdout",
     "output_type": "stream",
     "text": [
      "                           pi/2\n",
      "The definite integral of  ʃ cos(x) dx is \n",
      "                           0\n",
      "1\n"
     ]
    }
   ],
   "source": [
    "#1.a)\n",
    "Int(cos(x),0, pi/2)"
   ]
  },
  {
   "cell_type": "code",
   "execution_count": 10,
   "metadata": {},
   "outputs": [
    {
     "name": "stdout",
     "output_type": "stream",
     "text": [
      "The indefinite integral of  ʃ sin(x)**3*cos(x) dx is \n",
      "       4   \n",
      "    sin (x)\n",
      "C + ───────\n",
      "       4   \n"
     ]
    }
   ],
   "source": [
    "#1.b)\n",
    "Int((sin(x))**3*cos(x))"
   ]
  },
  {
   "cell_type": "code",
   "execution_count": 11,
   "metadata": {},
   "outputs": [
    {
     "name": "stdout",
     "output_type": "stream",
     "text": [
      "                           pi/2\n",
      "The definite integral of  ʃ sin(pi*x)**4 dx is \n",
      "                           0\n",
      "      ⎛ 2⎞    ⎛ 2⎞        ⎛ 2⎞    ⎛ 2⎞       \n",
      "     3⎜π ⎟    ⎜π ⎟        ⎜π ⎟    ⎜π ⎟       \n",
      "  sin ⎜──⎟⋅cos⎜──⎟   3⋅sin⎜──⎟⋅cos⎜──⎟      2\n",
      "      ⎝2 ⎠    ⎝2 ⎠        ⎝2 ⎠    ⎝2 ⎠   3⋅π \n",
      "- ──────────────── - ───────────────── + ────\n",
      "         4                   8            16 \n",
      "─────────────────────────────────────────────\n",
      "                      π                      \n"
     ]
    }
   ],
   "source": [
    "# 1. c)\n",
    "Int((sin(pi*x))**4,0,pi/2)"
   ]
  },
  {
   "cell_type": "code",
   "execution_count": 6,
   "metadata": {},
   "outputs": [
    {
     "name": "stdout",
     "output_type": "stream",
     "text": [
      "The indefinite integral of  ʃ sqrt(x**2 + 4)/x**2 dx is \n",
      "                  ________\n",
      "                 ╱  2     \n",
      "         ⎛x⎞   ╲╱  x  + 4 \n",
      "C + asinh⎜─⎟ - ───────────\n",
      "         ⎝2⎠        x     \n"
     ]
    }
   ],
   "source": [
    "#1.d)\n",
    "Int(sqrt(4+x**2)/x**2)"
   ]
  },
  {
   "cell_type": "markdown",
   "metadata": {},
   "source": [
    "\\begin{eqnarray}\n",
    "\\int \\frac{\\sqrt{4+x^2}}{x^2}dx&=&\\int4\\sec^3\\theta d\\theta \\quad(x=2\\tan\\theta)\\\\\n",
    "               &=&2\\left(\\sec\\theta\\tan\\theta+\\ln(\\sec\\theta+\\tan\\theta)\\right)\\\\\n",
    "               &=&2\\left( \\frac{\\sqrt{4+x^2}}{2}\\cdot\\frac{x}{2}+\\ln{\\left| \\frac{\\sqrt{4+x^2}}{2}+\\frac{x}{2}\\right|} \\right)+C\n",
    "\\end{eqnarray}"
   ]
  },
  {
   "cell_type": "markdown",
   "metadata": {},
   "source": [
    "\\begin{eqnarray}\n",
    "\\int \\frac{\\sqrt{4+x^2}}{x^2}dx&=&\\int\\frac{\\sec^3\\theta}{\\tan^2\\theta} d\\theta \\quad(x=2\\tan\\theta)\\\\\n",
    "               &=& \\int\\frac{1}{\\sin^2\\theta\\cos\\theta}d \\theta\\\\\n",
    "               &=& \\int\\frac{\\cos\\theta}{\\sin^2\\theta\\cos^2\\theta}d \\theta\\\\\n",
    "               &=& \\int\\frac{1}{u^2(1-u^2)}d u \\quad(u=\\sin\\theta)\\\\\n",
    "               &=&-\\frac{1}{u}+\\frac{\\ln |1+u|}{2}-\\frac{\\ln |u-1|}{2}+C\\\\\n",
    "               &=&-\\frac{1}{\\sin\\theta}+\\frac{\\ln |1+\\sin\\theta|}{2}-\\frac{\\ln |\\sin\\theta-1|}{2}+C\\\\\n",
    "               &=&-\\frac{\\sqrt{4+x^2}}{x}+\\ln\\left(\\frac{1+x/\\sqrt{4+x^2}}{2}\\right)-\n",
    "                                         \\ln\\left(\\frac{x/\\sqrt{4+x^2}-1}{2}\\right)+C\n",
    "\\end{eqnarray}"
   ]
  },
  {
   "cell_type": "code",
   "execution_count": 10,
   "metadata": {},
   "outputs": [
    {
     "name": "stdout",
     "output_type": "stream",
     "text": [
      "The indefinite integral of  ʃ 1/(x**2*(-x**2 + 1)) dx is \n",
      "    log(x - 1)   log(x + 1)   1\n",
      "C - ────────── + ────────── - ─\n",
      "        2            2        x\n"
     ]
    }
   ],
   "source": [
    "Int(1/x**2/(1-x**2))"
   ]
  },
  {
   "cell_type": "code",
   "execution_count": 17,
   "metadata": {},
   "outputs": [
    {
     "name": "stdout",
     "output_type": "stream",
     "text": [
      "The indefinite integral of  ʃ exp(x)*sin(x) dx is \n",
      "     x           x       \n",
      "    ℯ ⋅sin(x)   ℯ ⋅cos(x)\n",
      "C + ───────── - ─────────\n",
      "        2           2    \n"
     ]
    }
   ],
   "source": [
    "#1. e)\n",
    "Int(exp(x)*sin(x))"
   ]
  },
  {
   "cell_type": "code",
   "execution_count": 18,
   "metadata": {},
   "outputs": [
    {
     "name": "stdout",
     "output_type": "stream",
     "text": [
      "                           pi/4\n",
      "The definite integral of  ʃ tan(x)**2 dx is \n",
      "                           0\n",
      "  π    \n",
      "- ─ + 1\n",
      "  4    \n"
     ]
    }
   ],
   "source": [
    "#1. f)\n",
    "Int(tan(x)**2,0,pi/4)"
   ]
  },
  {
   "cell_type": "code",
   "execution_count": 21,
   "metadata": {},
   "outputs": [
    {
     "name": "stdout",
     "output_type": "stream",
     "text": [
      "The indefinite integral of  ʃ (x + 1)/(x**2 + x) dx is \n",
      "C + log(x)\n"
     ]
    }
   ],
   "source": [
    "#1. g)\n",
    "Int((x+1)/(x**2+x))"
   ]
  },
  {
   "cell_type": "code",
   "execution_count": 23,
   "metadata": {},
   "outputs": [
    {
     "name": "stdout",
     "output_type": "stream",
     "text": [
      "The indefinite integral of  ʃ (2*x + 1)/(x**2 + x) dx is \n",
      "       ⎛ 2    ⎞\n",
      "C + log⎝x  + x⎠\n"
     ]
    }
   ],
   "source": [
    "#1. h)\n",
    "Int((2*x+1)/(x**2+x))"
   ]
  },
  {
   "cell_type": "code",
   "execution_count": 25,
   "metadata": {},
   "outputs": [
    {
     "name": "stdout",
     "output_type": "stream",
     "text": [
      "The indefinite integral of  ʃ sin(2*x)*sin(3*x) dx is \n",
      "    3⋅sin(2⋅x)⋅cos(3⋅x)   2⋅sin(3⋅x)⋅cos(2⋅x)\n",
      "C - ─────────────────── + ───────────────────\n",
      "             5                     5         \n"
     ]
    }
   ],
   "source": [
    "#1. i\n",
    "Int(sin(2*x)*sin(3*x))"
   ]
  },
  {
   "cell_type": "code",
   "execution_count": 26,
   "metadata": {},
   "outputs": [
    {
     "name": "stdout",
     "output_type": "stream",
     "text": [
      "                           1\n",
      "The definite integral of  ʃ (x + 3)/sqrt(x) dx is \n",
      "                           0\n",
      "20/3\n"
     ]
    }
   ],
   "source": [
    "#1. j\n",
    "Int((x+3)/sqrt(x),0,1)"
   ]
  },
  {
   "cell_type": "code",
   "execution_count": null,
   "metadata": {
    "collapsed": true
   },
   "outputs": [],
   "source": []
  },
  {
   "cell_type": "code",
   "execution_count": 27,
   "metadata": {},
   "outputs": [
    {
     "data": {
      "text/plain": [
       "2*x - 2*x*exp(-2*x**2)/(1 + exp(-2*x**2)) - 1 + exp(-2*x)/(1 + exp(-2*x))"
      ]
     },
     "execution_count": 27,
     "metadata": {},
     "output_type": "execute_result"
    }
   ],
   "source": [
    "#2. \n",
    "\n",
    "diff(integrate(exp(t)/(exp(t)+exp(-t)),(t,x,x**2)),x)"
   ]
  },
  {
   "cell_type": "markdown",
   "metadata": {},
   "source": [
    "$$\\mathbf{\\frac{d}{dx}\\int^{x^2}_{x}\\frac{exp(t) }{\\exp(t)+\\exp (-t)}dt=\\frac{2x\\exp(x^2)}{\\exp(x^2)+\\exp (-x^2)}-\\frac{exp(x)}{\\exp(x)+\\exp(-x)}}$$"
   ]
  },
  {
   "cell_type": "markdown",
   "metadata": {
    "collapsed": true
   },
   "source": [
    "**3. Fubini's Theorem**\n",
    "---\n",
    "If $f (x, y)$ is continuous over $D$,<br>\n",
    "**1.** and $D$=$\\{ (x, y) | a \\leqslant x \\leqslant b, g_1 (x) \\leqslant y\n",
    "    \\leqslant g_2 (x) \\},$\n",
    "    \n",
    "$$ \\mathbf{\\iint\\limits_D f (x, y) d A = \\int_a^b d x\n",
    "       \\int_{g_1 (x)}^{g_{_2 (x)}} f (x, y) d y }$$\n",
    "**2.** and $D$=$\\{ (x, y) | c \\leqslant y \\leqslant d, h_1 (y) \\leqslant x\n",
    "    \\leqslant h_2 (y) \\},$\n",
    "\n",
    "$$\\mathbf{ \\iint\\limits_Df (x, y) d A = \\int_c^d d y\n",
    "       \\int_{h_1 (y)}^{h_{_2 (y)}} f (x, y) d x }$$"
   ]
  },
  {
   "cell_type": "code",
   "execution_count": null,
   "metadata": {},
   "outputs": [],
   "source": []
  }
 ],
 "metadata": {
  "kernelspec": {
   "display_name": "Python 3",
   "language": "python",
   "name": "python3"
  },
  "language_info": {
   "codemirror_mode": {
    "name": "ipython",
    "version": 3
   },
   "file_extension": ".py",
   "mimetype": "text/x-python",
   "name": "python",
   "nbconvert_exporter": "python",
   "pygments_lexer": "ipython3",
   "version": "3.6.9"
  },
  "toc": {
   "colors": {
    "hover_highlight": "#DAA520",
    "navigate_num": "#000000",
    "navigate_text": "#333333",
    "running_highlight": "#FF0000",
    "selected_highlight": "#FFD700",
    "sidebar_border": "#EEEEEE",
    "wrapper_background": "#FFFFFF"
   },
   "moveMenuLeft": true,
   "nav_menu": {
    "height": "102px",
    "width": "252px"
   },
   "navigate_menu": true,
   "number_sections": true,
   "sideBar": true,
   "threshold": 4,
   "toc_cell": false,
   "toc_section_display": "block",
   "toc_window_display": false,
   "widenNotebook": false
  },
  "widgets": {
   "state": {},
   "version": "2.0.10"
  }
 },
 "nbformat": 4,
 "nbformat_minor": 1
}
