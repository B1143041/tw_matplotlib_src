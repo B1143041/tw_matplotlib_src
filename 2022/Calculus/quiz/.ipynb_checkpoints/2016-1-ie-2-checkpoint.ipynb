{
 "cells": [
  {
   "cell_type": "markdown",
   "metadata": {},
   "source": [
    "# <div align=\"center\">Calculus, 2016-1-IE-2</div>\n",
    "\n",
    "<h3><div align=\"middle\">Name:&nbsp;&nbsp;&nbsp;&nbsp;&nbsp;&nbsp;&nbsp;&nbsp;&nbsp;&nbsp;&nbsp;&nbsp;&nbsp;&nbsp;&nbsp;&nbsp;&nbsp;&nbsp;&nbsp;&nbsp;&nbsp;&nbsp;&nbsp;&nbsp;  Sequence Number:&nbsp;&nbsp;&nbsp;&nbsp;&nbsp;&nbsp;&nbsp;&nbsp;&nbsp;&nbsp;&nbsp;&nbsp;&nbsp;&nbsp;&nbsp;&nbsp;&nbsp;&nbsp;&nbsp;&nbsp;&nbsp;&nbsp;&nbsp;&nbsp;</div></h3>\n"
   ]
  },
  {
   "cell_type": "markdown",
   "metadata": {
    "collapsed": true
   },
   "source": [
    "<big>\n",
    "<big><b>1$^\\circ$). </b> </big>\n",
    "Describe <b>Fundamental Theorems of Calculus</b>.(10%)\n",
    "</big> "
   ]
  },
  {
   "cell_type": "markdown",
   "metadata": {},
   "source": [
    "<big>\n",
    "<big><b>2$^\\circ$).</b></big>\n",
    "Evaluate the following Integrations: (total 80%, each 10% ($\\color{brown}{\\times8}$))<br />\n",
    "a$^\\circ$). $\\mathbf{\\int(3x-2)dx}$\n",
    "b$^\\circ$). $\\mathbf{\\int\\frac{x^2+3}{x}dx}$\n",
    "c$^\\circ$). $\\mathbf{\\int(\\cos 2x +\\sin x)dx}$<br />\n",
    "d$^\\circ$). $\\mathbf{\\int^{4}_{0}\\sqrt{16-x^2}dx}$\n",
    "e$^\\circ$). $\\mathbf{\\int x\\cos{2x}dx}$\n",
    "f$^\\circ$). $\\mathbf{\\int\\sin x\\cos2xdx }$<br />\n",
    "g$^\\circ$). $\\mathbf{\\int_0^{\\pi/2}\\tan\\frac{x}{2} dx}$\n",
    "h$^\\circ$). $\\mathbf{\\int\\frac{dx}{4-x^2}}$ \n",
    "</big> "
   ]
  },
  {
   "cell_type": "markdown",
   "metadata": {
    "collapsed": true
   },
   "source": [
    "<big>\n",
    "<big><b>3$^\\circ$).</b></big> (total 10%) Evaluate the derivative\n",
    "$$\\mathbf{\\frac{d}{dx}\\int^{2x}_{3x}\\frac{t^2}{\\sin t+\\cos2t}dt}$$\n",
    "</big> "
   ]
  },
  {
   "cell_type": "markdown",
   "metadata": {
    "collapsed": true
   },
   "source": [
    " "
   ]
  },
  {
   "cell_type": "markdown",
   "metadata": {
    "collapsed": true
   },
   "source": [
    " "
   ]
  },
  {
   "cell_type": "markdown",
   "metadata": {
    "collapsed": true
   },
   "source": [
    "Answer\n",
    "---"
   ]
  },
  {
   "cell_type": "code",
   "execution_count": 1,
   "metadata": {
    "collapsed": true
   },
   "outputs": [],
   "source": [
    "from sympy import *"
   ]
  },
  {
   "cell_type": "code",
   "execution_count": 2,
   "metadata": {
    "collapsed": true
   },
   "outputs": [],
   "source": [
    "x,t =symbols(\"x t\")"
   ]
  },
  {
   "cell_type": "code",
   "execution_count": 3,
   "metadata": {
    "collapsed": true
   },
   "outputs": [],
   "source": [
    "def Int(f,*args):\n",
    "    if(len(args)!=0):\n",
    "       a=args[0]\n",
    "       b=args[1]\n",
    "       print(\"                          \",b)\n",
    "       print(\"The definite integral of  ʃ %s dx is \" %f)\n",
    "       print(\"                          \",a)\n",
    "       pprint(integrate(f,(x,a,b)))\n",
    "    else:\n",
    "       print(\"The indefinite integral of  ʃ %s dx is \" %f) \n",
    "       pprint(integrate(f,x))"
   ]
  },
  {
   "cell_type": "code",
   "execution_count": 9,
   "metadata": {},
   "outputs": [
    {
     "name": "stdout",
     "output_type": "stream",
     "text": [
      "The indefinite integral of  ʃ 3*x - 2 dx is \n",
      "   2      \n",
      "3⋅x       \n",
      "──── - 2⋅x\n",
      " 2        \n"
     ]
    }
   ],
   "source": [
    "#1.a)\n",
    "Int(3*x-2)"
   ]
  },
  {
   "cell_type": "code",
   "execution_count": 10,
   "metadata": {},
   "outputs": [
    {
     "name": "stdout",
     "output_type": "stream",
     "text": [
      "The indefinite integral of  ʃ (x**2 + 3)/x dx is \n",
      " 2           \n",
      "x            \n",
      "── + 3⋅log(x)\n",
      "2            \n"
     ]
    }
   ],
   "source": [
    "#1.b)\n",
    "Int((x**2+3)/x)"
   ]
  },
  {
   "cell_type": "code",
   "execution_count": 11,
   "metadata": {},
   "outputs": [
    {
     "name": "stdout",
     "output_type": "stream",
     "text": [
      "The indefinite integral of  ʃ sin(x) + cos(2*x) dx is \n",
      "sin(2⋅x)         \n",
      "──────── - cos(x)\n",
      "   2             \n"
     ]
    }
   ],
   "source": [
    "# 1. c)\n",
    "Int(cos(2*x)+sin(x))"
   ]
  },
  {
   "cell_type": "code",
   "execution_count": 12,
   "metadata": {},
   "outputs": [
    {
     "name": "stdout",
     "output_type": "stream",
     "text": [
      "                           4\n",
      "The definite integral of  ʃ sqrt(-x**2 + 16) dx is \n",
      "                           0\n",
      "4⋅π\n"
     ]
    }
   ],
   "source": [
    "#1.d)\n",
    "Int(sqrt(16-x**2),0,4)"
   ]
  },
  {
   "cell_type": "code",
   "execution_count": 13,
   "metadata": {},
   "outputs": [
    {
     "name": "stdout",
     "output_type": "stream",
     "text": [
      "The indefinite integral of  ʃ x*cos(2*x) dx is \n",
      "x⋅sin(2⋅x)   cos(2⋅x)\n",
      "────────── + ────────\n",
      "    2           4    \n"
     ]
    }
   ],
   "source": [
    "#1. e)\n",
    "Int(x*cos(2*x))"
   ]
  },
  {
   "cell_type": "code",
   "execution_count": 4,
   "metadata": {},
   "outputs": [
    {
     "name": "stdout",
     "output_type": "stream",
     "text": [
      "The indefinite integral of  ʃ sin(x)*cos(2*x) dx is \n",
      "2⋅sin(x)⋅sin(2⋅x)   cos(x)⋅cos(2⋅x)\n",
      "───────────────── + ───────────────\n",
      "        3                  3       \n"
     ]
    }
   ],
   "source": [
    "#1. f)\n",
    "Int(sin(x)*cos(2*x))"
   ]
  },
  {
   "cell_type": "code",
   "execution_count": 5,
   "metadata": {},
   "outputs": [
    {
     "name": "stdout",
     "output_type": "stream",
     "text": [
      "                           pi/2\n",
      "The definite integral of  ʃ tan(x/2) dx is \n",
      "                           0\n",
      "log(2)\n"
     ]
    }
   ],
   "source": [
    "#1. g)\n",
    "Int(tan(x/2),0,pi/2)"
   ]
  },
  {
   "cell_type": "code",
   "execution_count": 18,
   "metadata": {},
   "outputs": [
    {
     "name": "stdout",
     "output_type": "stream",
     "text": [
      "The indefinite integral of  ʃ 1/(-x**2 + 4) dx is \n",
      "  log(x - 2)   log(x + 2)\n",
      "- ────────── + ──────────\n",
      "      4            4     \n"
     ]
    }
   ],
   "source": [
    "#1. h)\n",
    "Int(1/(4-x**2))"
   ]
  },
  {
   "cell_type": "code",
   "execution_count": 20,
   "metadata": {},
   "outputs": [
    {
     "data": {
      "text/plain": [
       "-27*x**2/(sin(3*x) + cos(6*x)) + 8*x**2/(sin(2*x) + cos(4*x)) + Integral(0, (t, 3*x, 2*x))"
      ]
     },
     "execution_count": 20,
     "metadata": {},
     "output_type": "execute_result"
    }
   ],
   "source": [
    "#2. \n",
    "\n",
    "diff(integrate(t**2/(sin(t)+cos(2*t)),(t,3*x,2*x)),x)"
   ]
  },
  {
   "cell_type": "markdown",
   "metadata": {},
   "source": [
    "$$\\mathbf{\\frac{d}{dx}\\int^{2x}_{3x}\\frac{t^2}{\\sin t+\\cos2t}dt=\\frac{8x^2}{\\sin2x+\\cos4x}-\\frac{27x^2}{\\sin3x+\\cos6x}}$$"
   ]
  },
  {
   "cell_type": "code",
   "execution_count": 4,
   "metadata": {},
   "outputs": [
    {
     "name": "stdout",
     "output_type": "stream",
     "text": [
      "[NbConvertApp] Converting notebook 2016-1-ie-1.ipynb to html\n",
      "[NbConvertApp] Writing 274101 bytes to 2016-1-ie-1.html\n"
     ]
    }
   ],
   "source": [
    "!jupyter nbconvert --to html 2016-1-ie-1.ipynb"
   ]
  },
  {
   "cell_type": "code",
   "execution_count": null,
   "metadata": {
    "collapsed": true
   },
   "outputs": [],
   "source": []
  }
 ],
 "metadata": {
  "kernelspec": {
   "display_name": "Python 3",
   "language": "python",
   "name": "python3"
  },
  "language_info": {
   "codemirror_mode": {
    "name": "ipython",
    "version": 3
   },
   "file_extension": ".py",
   "mimetype": "text/x-python",
   "name": "python",
   "nbconvert_exporter": "python",
   "pygments_lexer": "ipython3",
   "version": "3.5.2"
  },
  "widgets": {
   "state": {},
   "version": "2.0.10"
  }
 },
 "nbformat": 4,
 "nbformat_minor": 1
}
